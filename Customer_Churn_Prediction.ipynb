{
  "nbformat": 4,
  "nbformat_minor": 0,
  "metadata": {
    "colab": {
      "name": "Customer Churn Prediction.ipynb",
      "provenance": [],
      "authorship_tag": "ABX9TyPJcKt7Rcnv5/68IIcaBYh9",
      "include_colab_link": true
    },
    "kernelspec": {
      "name": "python3",
      "display_name": "Python 3"
    },
    "language_info": {
      "name": "python"
    }
  },
  "cells": [
    {
      "cell_type": "markdown",
      "metadata": {
        "id": "view-in-github",
        "colab_type": "text"
      },
      "source": [
        "<a href=\"https://colab.research.google.com/github/Ganpat9829/Customer-Churn-Prediction/blob/main/Customer_Churn_Prediction.ipynb\" target=\"_parent\"><img src=\"https://colab.research.google.com/assets/colab-badge.svg\" alt=\"Open In Colab\"/></a>"
      ]
    },
    {
      "cell_type": "markdown",
      "metadata": {
        "id": "tMwjOZWug6w9"
      },
      "source": [
        "# **Customer Churn Prediction Using Deep Learning (Using ANN)**\n",
        "\n",
        "Customer churn prediction is to measure why customers are leaving a business. We will build a deep learning model to predict the churn and use precision,recall, f1-score to measure performance of our model.\n"
      ]
    },
    {
      "cell_type": "code",
      "metadata": {
        "id": "yeI2HyKyhNHE"
      },
      "source": [
        "import pandas as pd\n",
        "from matplotlib import pyplot as plt\n",
        "import numpy as np\n",
        "%matplotlib inline"
      ],
      "execution_count": 48,
      "outputs": []
    },
    {
      "cell_type": "code",
      "metadata": {
        "id": "E2TE4QK0vk03"
      },
      "source": [
        "import warnings\n",
        "warnings.filterwarnings('ignore')"
      ],
      "execution_count": 98,
      "outputs": []
    },
    {
      "cell_type": "markdown",
      "metadata": {
        "id": "nU8wEgP2hw7k"
      },
      "source": [
        "**Load the data**"
      ]
    },
    {
      "cell_type": "code",
      "metadata": {
        "colab": {
          "base_uri": "https://localhost:8080/",
          "height": 301
        },
        "id": "VtmWggQPhDwo",
        "outputId": "33edd490-3b9e-4271-a2c7-71928bbb14f0"
      },
      "source": [
        "df = pd.read_csv(\"/content/WA_Fn-UseC_-Telco-Customer-Churn.csv\")\n",
        "df.sample(5)"
      ],
      "execution_count": 99,
      "outputs": [
        {
          "output_type": "execute_result",
          "data": {
            "text/html": [
              "<div>\n",
              "<style scoped>\n",
              "    .dataframe tbody tr th:only-of-type {\n",
              "        vertical-align: middle;\n",
              "    }\n",
              "\n",
              "    .dataframe tbody tr th {\n",
              "        vertical-align: top;\n",
              "    }\n",
              "\n",
              "    .dataframe thead th {\n",
              "        text-align: right;\n",
              "    }\n",
              "</style>\n",
              "<table border=\"1\" class=\"dataframe\">\n",
              "  <thead>\n",
              "    <tr style=\"text-align: right;\">\n",
              "      <th></th>\n",
              "      <th>customerID</th>\n",
              "      <th>gender</th>\n",
              "      <th>SeniorCitizen</th>\n",
              "      <th>Partner</th>\n",
              "      <th>Dependents</th>\n",
              "      <th>tenure</th>\n",
              "      <th>PhoneService</th>\n",
              "      <th>MultipleLines</th>\n",
              "      <th>InternetService</th>\n",
              "      <th>OnlineSecurity</th>\n",
              "      <th>OnlineBackup</th>\n",
              "      <th>DeviceProtection</th>\n",
              "      <th>TechSupport</th>\n",
              "      <th>StreamingTV</th>\n",
              "      <th>StreamingMovies</th>\n",
              "      <th>Contract</th>\n",
              "      <th>PaperlessBilling</th>\n",
              "      <th>PaymentMethod</th>\n",
              "      <th>MonthlyCharges</th>\n",
              "      <th>TotalCharges</th>\n",
              "      <th>Churn</th>\n",
              "    </tr>\n",
              "  </thead>\n",
              "  <tbody>\n",
              "    <tr>\n",
              "      <th>4981</th>\n",
              "      <td>8008-HAWED</td>\n",
              "      <td>Male</td>\n",
              "      <td>0</td>\n",
              "      <td>No</td>\n",
              "      <td>No</td>\n",
              "      <td>14</td>\n",
              "      <td>No</td>\n",
              "      <td>No phone service</td>\n",
              "      <td>DSL</td>\n",
              "      <td>No</td>\n",
              "      <td>No</td>\n",
              "      <td>Yes</td>\n",
              "      <td>No</td>\n",
              "      <td>Yes</td>\n",
              "      <td>Yes</td>\n",
              "      <td>Month-to-month</td>\n",
              "      <td>Yes</td>\n",
              "      <td>Electronic check</td>\n",
              "      <td>50.75</td>\n",
              "      <td>712.75</td>\n",
              "      <td>Yes</td>\n",
              "    </tr>\n",
              "    <tr>\n",
              "      <th>1125</th>\n",
              "      <td>8111-SLLHI</td>\n",
              "      <td>Male</td>\n",
              "      <td>1</td>\n",
              "      <td>Yes</td>\n",
              "      <td>No</td>\n",
              "      <td>39</td>\n",
              "      <td>Yes</td>\n",
              "      <td>Yes</td>\n",
              "      <td>Fiber optic</td>\n",
              "      <td>No</td>\n",
              "      <td>Yes</td>\n",
              "      <td>Yes</td>\n",
              "      <td>No</td>\n",
              "      <td>Yes</td>\n",
              "      <td>Yes</td>\n",
              "      <td>Month-to-month</td>\n",
              "      <td>Yes</td>\n",
              "      <td>Electronic check</td>\n",
              "      <td>105.65</td>\n",
              "      <td>4284.8</td>\n",
              "      <td>Yes</td>\n",
              "    </tr>\n",
              "    <tr>\n",
              "      <th>1910</th>\n",
              "      <td>6637-KYRCV</td>\n",
              "      <td>Female</td>\n",
              "      <td>0</td>\n",
              "      <td>Yes</td>\n",
              "      <td>Yes</td>\n",
              "      <td>5</td>\n",
              "      <td>No</td>\n",
              "      <td>No phone service</td>\n",
              "      <td>DSL</td>\n",
              "      <td>No</td>\n",
              "      <td>Yes</td>\n",
              "      <td>No</td>\n",
              "      <td>No</td>\n",
              "      <td>No</td>\n",
              "      <td>No</td>\n",
              "      <td>Month-to-month</td>\n",
              "      <td>Yes</td>\n",
              "      <td>Electronic check</td>\n",
              "      <td>30.50</td>\n",
              "      <td>167.2</td>\n",
              "      <td>No</td>\n",
              "    </tr>\n",
              "    <tr>\n",
              "      <th>5826</th>\n",
              "      <td>9507-EXLTT</td>\n",
              "      <td>Female</td>\n",
              "      <td>0</td>\n",
              "      <td>Yes</td>\n",
              "      <td>No</td>\n",
              "      <td>1</td>\n",
              "      <td>Yes</td>\n",
              "      <td>No</td>\n",
              "      <td>Fiber optic</td>\n",
              "      <td>No</td>\n",
              "      <td>No</td>\n",
              "      <td>No</td>\n",
              "      <td>No</td>\n",
              "      <td>Yes</td>\n",
              "      <td>No</td>\n",
              "      <td>Month-to-month</td>\n",
              "      <td>Yes</td>\n",
              "      <td>Bank transfer (automatic)</td>\n",
              "      <td>79.35</td>\n",
              "      <td>79.35</td>\n",
              "      <td>Yes</td>\n",
              "    </tr>\n",
              "    <tr>\n",
              "      <th>5222</th>\n",
              "      <td>6854-EXGSF</td>\n",
              "      <td>Female</td>\n",
              "      <td>0</td>\n",
              "      <td>No</td>\n",
              "      <td>No</td>\n",
              "      <td>8</td>\n",
              "      <td>Yes</td>\n",
              "      <td>Yes</td>\n",
              "      <td>DSL</td>\n",
              "      <td>Yes</td>\n",
              "      <td>Yes</td>\n",
              "      <td>Yes</td>\n",
              "      <td>No</td>\n",
              "      <td>No</td>\n",
              "      <td>No</td>\n",
              "      <td>Month-to-month</td>\n",
              "      <td>Yes</td>\n",
              "      <td>Bank transfer (automatic)</td>\n",
              "      <td>65.50</td>\n",
              "      <td>573.15</td>\n",
              "      <td>No</td>\n",
              "    </tr>\n",
              "  </tbody>\n",
              "</table>\n",
              "</div>"
            ],
            "text/plain": [
              "      customerID  gender  SeniorCitizen  ... MonthlyCharges TotalCharges  Churn\n",
              "4981  8008-HAWED    Male              0  ...          50.75       712.75    Yes\n",
              "1125  8111-SLLHI    Male              1  ...         105.65       4284.8    Yes\n",
              "1910  6637-KYRCV  Female              0  ...          30.50        167.2     No\n",
              "5826  9507-EXLTT  Female              0  ...          79.35        79.35    Yes\n",
              "5222  6854-EXGSF  Female              0  ...          65.50       573.15     No\n",
              "\n",
              "[5 rows x 21 columns]"
            ]
          },
          "metadata": {
            "tags": []
          },
          "execution_count": 99
        }
      ]
    },
    {
      "cell_type": "markdown",
      "metadata": {
        "id": "WkYAfaPwiAbc"
      },
      "source": [
        "First of all, drop customerID column as it is of no use"
      ]
    },
    {
      "cell_type": "code",
      "metadata": {
        "id": "EdimMnWZh3FY"
      },
      "source": [
        "df.drop('customerID',axis='columns',inplace=True)"
      ],
      "execution_count": 100,
      "outputs": []
    },
    {
      "cell_type": "code",
      "metadata": {
        "colab": {
          "base_uri": "https://localhost:8080/"
        },
        "id": "ITvzB3oBiGMx",
        "outputId": "96a41223-59ec-4af2-aeb9-ad4813db877d"
      },
      "source": [
        "df.dtypes"
      ],
      "execution_count": 101,
      "outputs": [
        {
          "output_type": "execute_result",
          "data": {
            "text/plain": [
              "gender               object\n",
              "SeniorCitizen         int64\n",
              "Partner              object\n",
              "Dependents           object\n",
              "tenure                int64\n",
              "PhoneService         object\n",
              "MultipleLines        object\n",
              "InternetService      object\n",
              "OnlineSecurity       object\n",
              "OnlineBackup         object\n",
              "DeviceProtection     object\n",
              "TechSupport          object\n",
              "StreamingTV          object\n",
              "StreamingMovies      object\n",
              "Contract             object\n",
              "PaperlessBilling     object\n",
              "PaymentMethod        object\n",
              "MonthlyCharges      float64\n",
              "TotalCharges         object\n",
              "Churn                object\n",
              "dtype: object"
            ]
          },
          "metadata": {
            "tags": []
          },
          "execution_count": 101
        }
      ]
    },
    {
      "cell_type": "code",
      "metadata": {
        "colab": {
          "base_uri": "https://localhost:8080/"
        },
        "id": "hrmJ6ueMkF7M",
        "outputId": "ff2d0514-522c-47da-d6cc-d4a18809e6c5"
      },
      "source": [
        "df.TotalCharges.values"
      ],
      "execution_count": 102,
      "outputs": [
        {
          "output_type": "execute_result",
          "data": {
            "text/plain": [
              "array(['29.85', '1889.5', '108.15', ..., '346.45', '306.6', '6844.5'],\n",
              "      dtype=object)"
            ]
          },
          "metadata": {
            "tags": []
          },
          "execution_count": 102
        }
      ]
    },
    {
      "cell_type": "code",
      "metadata": {
        "colab": {
          "base_uri": "https://localhost:8080/"
        },
        "id": "QdHTmKeziJsQ",
        "outputId": "f8d5a9fc-b264-41fe-eb2d-c71db41f3f27"
      },
      "source": [
        "pd.to_numeric(df.TotalCharges,errors='coerce').isnull()"
      ],
      "execution_count": 103,
      "outputs": [
        {
          "output_type": "execute_result",
          "data": {
            "text/plain": [
              "0       False\n",
              "1       False\n",
              "2       False\n",
              "3       False\n",
              "4       False\n",
              "        ...  \n",
              "7038    False\n",
              "7039    False\n",
              "7040    False\n",
              "7041    False\n",
              "7042    False\n",
              "Name: TotalCharges, Length: 7043, dtype: bool"
            ]
          },
          "metadata": {
            "tags": []
          },
          "execution_count": 103
        }
      ]
    },
    {
      "cell_type": "code",
      "metadata": {
        "colab": {
          "base_uri": "https://localhost:8080/",
          "height": 547
        },
        "id": "UxcQtv_VicWp",
        "outputId": "3a168800-eaa9-4e95-c582-a309906b5d3b"
      },
      "source": [
        "df[pd.to_numeric(df.TotalCharges,errors='coerce').isnull()]"
      ],
      "execution_count": 104,
      "outputs": [
        {
          "output_type": "execute_result",
          "data": {
            "text/html": [
              "<div>\n",
              "<style scoped>\n",
              "    .dataframe tbody tr th:only-of-type {\n",
              "        vertical-align: middle;\n",
              "    }\n",
              "\n",
              "    .dataframe tbody tr th {\n",
              "        vertical-align: top;\n",
              "    }\n",
              "\n",
              "    .dataframe thead th {\n",
              "        text-align: right;\n",
              "    }\n",
              "</style>\n",
              "<table border=\"1\" class=\"dataframe\">\n",
              "  <thead>\n",
              "    <tr style=\"text-align: right;\">\n",
              "      <th></th>\n",
              "      <th>gender</th>\n",
              "      <th>SeniorCitizen</th>\n",
              "      <th>Partner</th>\n",
              "      <th>Dependents</th>\n",
              "      <th>tenure</th>\n",
              "      <th>PhoneService</th>\n",
              "      <th>MultipleLines</th>\n",
              "      <th>InternetService</th>\n",
              "      <th>OnlineSecurity</th>\n",
              "      <th>OnlineBackup</th>\n",
              "      <th>DeviceProtection</th>\n",
              "      <th>TechSupport</th>\n",
              "      <th>StreamingTV</th>\n",
              "      <th>StreamingMovies</th>\n",
              "      <th>Contract</th>\n",
              "      <th>PaperlessBilling</th>\n",
              "      <th>PaymentMethod</th>\n",
              "      <th>MonthlyCharges</th>\n",
              "      <th>TotalCharges</th>\n",
              "      <th>Churn</th>\n",
              "    </tr>\n",
              "  </thead>\n",
              "  <tbody>\n",
              "    <tr>\n",
              "      <th>488</th>\n",
              "      <td>Female</td>\n",
              "      <td>0</td>\n",
              "      <td>Yes</td>\n",
              "      <td>Yes</td>\n",
              "      <td>0</td>\n",
              "      <td>No</td>\n",
              "      <td>No phone service</td>\n",
              "      <td>DSL</td>\n",
              "      <td>Yes</td>\n",
              "      <td>No</td>\n",
              "      <td>Yes</td>\n",
              "      <td>Yes</td>\n",
              "      <td>Yes</td>\n",
              "      <td>No</td>\n",
              "      <td>Two year</td>\n",
              "      <td>Yes</td>\n",
              "      <td>Bank transfer (automatic)</td>\n",
              "      <td>52.55</td>\n",
              "      <td></td>\n",
              "      <td>No</td>\n",
              "    </tr>\n",
              "    <tr>\n",
              "      <th>753</th>\n",
              "      <td>Male</td>\n",
              "      <td>0</td>\n",
              "      <td>No</td>\n",
              "      <td>Yes</td>\n",
              "      <td>0</td>\n",
              "      <td>Yes</td>\n",
              "      <td>No</td>\n",
              "      <td>No</td>\n",
              "      <td>No internet service</td>\n",
              "      <td>No internet service</td>\n",
              "      <td>No internet service</td>\n",
              "      <td>No internet service</td>\n",
              "      <td>No internet service</td>\n",
              "      <td>No internet service</td>\n",
              "      <td>Two year</td>\n",
              "      <td>No</td>\n",
              "      <td>Mailed check</td>\n",
              "      <td>20.25</td>\n",
              "      <td></td>\n",
              "      <td>No</td>\n",
              "    </tr>\n",
              "    <tr>\n",
              "      <th>936</th>\n",
              "      <td>Female</td>\n",
              "      <td>0</td>\n",
              "      <td>Yes</td>\n",
              "      <td>Yes</td>\n",
              "      <td>0</td>\n",
              "      <td>Yes</td>\n",
              "      <td>No</td>\n",
              "      <td>DSL</td>\n",
              "      <td>Yes</td>\n",
              "      <td>Yes</td>\n",
              "      <td>Yes</td>\n",
              "      <td>No</td>\n",
              "      <td>Yes</td>\n",
              "      <td>Yes</td>\n",
              "      <td>Two year</td>\n",
              "      <td>No</td>\n",
              "      <td>Mailed check</td>\n",
              "      <td>80.85</td>\n",
              "      <td></td>\n",
              "      <td>No</td>\n",
              "    </tr>\n",
              "    <tr>\n",
              "      <th>1082</th>\n",
              "      <td>Male</td>\n",
              "      <td>0</td>\n",
              "      <td>Yes</td>\n",
              "      <td>Yes</td>\n",
              "      <td>0</td>\n",
              "      <td>Yes</td>\n",
              "      <td>Yes</td>\n",
              "      <td>No</td>\n",
              "      <td>No internet service</td>\n",
              "      <td>No internet service</td>\n",
              "      <td>No internet service</td>\n",
              "      <td>No internet service</td>\n",
              "      <td>No internet service</td>\n",
              "      <td>No internet service</td>\n",
              "      <td>Two year</td>\n",
              "      <td>No</td>\n",
              "      <td>Mailed check</td>\n",
              "      <td>25.75</td>\n",
              "      <td></td>\n",
              "      <td>No</td>\n",
              "    </tr>\n",
              "    <tr>\n",
              "      <th>1340</th>\n",
              "      <td>Female</td>\n",
              "      <td>0</td>\n",
              "      <td>Yes</td>\n",
              "      <td>Yes</td>\n",
              "      <td>0</td>\n",
              "      <td>No</td>\n",
              "      <td>No phone service</td>\n",
              "      <td>DSL</td>\n",
              "      <td>Yes</td>\n",
              "      <td>Yes</td>\n",
              "      <td>Yes</td>\n",
              "      <td>Yes</td>\n",
              "      <td>Yes</td>\n",
              "      <td>No</td>\n",
              "      <td>Two year</td>\n",
              "      <td>No</td>\n",
              "      <td>Credit card (automatic)</td>\n",
              "      <td>56.05</td>\n",
              "      <td></td>\n",
              "      <td>No</td>\n",
              "    </tr>\n",
              "    <tr>\n",
              "      <th>3331</th>\n",
              "      <td>Male</td>\n",
              "      <td>0</td>\n",
              "      <td>Yes</td>\n",
              "      <td>Yes</td>\n",
              "      <td>0</td>\n",
              "      <td>Yes</td>\n",
              "      <td>No</td>\n",
              "      <td>No</td>\n",
              "      <td>No internet service</td>\n",
              "      <td>No internet service</td>\n",
              "      <td>No internet service</td>\n",
              "      <td>No internet service</td>\n",
              "      <td>No internet service</td>\n",
              "      <td>No internet service</td>\n",
              "      <td>Two year</td>\n",
              "      <td>No</td>\n",
              "      <td>Mailed check</td>\n",
              "      <td>19.85</td>\n",
              "      <td></td>\n",
              "      <td>No</td>\n",
              "    </tr>\n",
              "    <tr>\n",
              "      <th>3826</th>\n",
              "      <td>Male</td>\n",
              "      <td>0</td>\n",
              "      <td>Yes</td>\n",
              "      <td>Yes</td>\n",
              "      <td>0</td>\n",
              "      <td>Yes</td>\n",
              "      <td>Yes</td>\n",
              "      <td>No</td>\n",
              "      <td>No internet service</td>\n",
              "      <td>No internet service</td>\n",
              "      <td>No internet service</td>\n",
              "      <td>No internet service</td>\n",
              "      <td>No internet service</td>\n",
              "      <td>No internet service</td>\n",
              "      <td>Two year</td>\n",
              "      <td>No</td>\n",
              "      <td>Mailed check</td>\n",
              "      <td>25.35</td>\n",
              "      <td></td>\n",
              "      <td>No</td>\n",
              "    </tr>\n",
              "    <tr>\n",
              "      <th>4380</th>\n",
              "      <td>Female</td>\n",
              "      <td>0</td>\n",
              "      <td>Yes</td>\n",
              "      <td>Yes</td>\n",
              "      <td>0</td>\n",
              "      <td>Yes</td>\n",
              "      <td>No</td>\n",
              "      <td>No</td>\n",
              "      <td>No internet service</td>\n",
              "      <td>No internet service</td>\n",
              "      <td>No internet service</td>\n",
              "      <td>No internet service</td>\n",
              "      <td>No internet service</td>\n",
              "      <td>No internet service</td>\n",
              "      <td>Two year</td>\n",
              "      <td>No</td>\n",
              "      <td>Mailed check</td>\n",
              "      <td>20.00</td>\n",
              "      <td></td>\n",
              "      <td>No</td>\n",
              "    </tr>\n",
              "    <tr>\n",
              "      <th>5218</th>\n",
              "      <td>Male</td>\n",
              "      <td>0</td>\n",
              "      <td>Yes</td>\n",
              "      <td>Yes</td>\n",
              "      <td>0</td>\n",
              "      <td>Yes</td>\n",
              "      <td>No</td>\n",
              "      <td>No</td>\n",
              "      <td>No internet service</td>\n",
              "      <td>No internet service</td>\n",
              "      <td>No internet service</td>\n",
              "      <td>No internet service</td>\n",
              "      <td>No internet service</td>\n",
              "      <td>No internet service</td>\n",
              "      <td>One year</td>\n",
              "      <td>Yes</td>\n",
              "      <td>Mailed check</td>\n",
              "      <td>19.70</td>\n",
              "      <td></td>\n",
              "      <td>No</td>\n",
              "    </tr>\n",
              "    <tr>\n",
              "      <th>6670</th>\n",
              "      <td>Female</td>\n",
              "      <td>0</td>\n",
              "      <td>Yes</td>\n",
              "      <td>Yes</td>\n",
              "      <td>0</td>\n",
              "      <td>Yes</td>\n",
              "      <td>Yes</td>\n",
              "      <td>DSL</td>\n",
              "      <td>No</td>\n",
              "      <td>Yes</td>\n",
              "      <td>Yes</td>\n",
              "      <td>Yes</td>\n",
              "      <td>Yes</td>\n",
              "      <td>No</td>\n",
              "      <td>Two year</td>\n",
              "      <td>No</td>\n",
              "      <td>Mailed check</td>\n",
              "      <td>73.35</td>\n",
              "      <td></td>\n",
              "      <td>No</td>\n",
              "    </tr>\n",
              "    <tr>\n",
              "      <th>6754</th>\n",
              "      <td>Male</td>\n",
              "      <td>0</td>\n",
              "      <td>No</td>\n",
              "      <td>Yes</td>\n",
              "      <td>0</td>\n",
              "      <td>Yes</td>\n",
              "      <td>Yes</td>\n",
              "      <td>DSL</td>\n",
              "      <td>Yes</td>\n",
              "      <td>Yes</td>\n",
              "      <td>No</td>\n",
              "      <td>Yes</td>\n",
              "      <td>No</td>\n",
              "      <td>No</td>\n",
              "      <td>Two year</td>\n",
              "      <td>Yes</td>\n",
              "      <td>Bank transfer (automatic)</td>\n",
              "      <td>61.90</td>\n",
              "      <td></td>\n",
              "      <td>No</td>\n",
              "    </tr>\n",
              "  </tbody>\n",
              "</table>\n",
              "</div>"
            ],
            "text/plain": [
              "      gender  SeniorCitizen Partner  ... MonthlyCharges  TotalCharges Churn\n",
              "488   Female              0     Yes  ...          52.55                  No\n",
              "753     Male              0      No  ...          20.25                  No\n",
              "936   Female              0     Yes  ...          80.85                  No\n",
              "1082    Male              0     Yes  ...          25.75                  No\n",
              "1340  Female              0     Yes  ...          56.05                  No\n",
              "3331    Male              0     Yes  ...          19.85                  No\n",
              "3826    Male              0     Yes  ...          25.35                  No\n",
              "4380  Female              0     Yes  ...          20.00                  No\n",
              "5218    Male              0     Yes  ...          19.70                  No\n",
              "6670  Female              0     Yes  ...          73.35                  No\n",
              "6754    Male              0      No  ...          61.90                  No\n",
              "\n",
              "[11 rows x 20 columns]"
            ]
          },
          "metadata": {
            "tags": []
          },
          "execution_count": 104
        }
      ]
    },
    {
      "cell_type": "code",
      "metadata": {
        "colab": {
          "base_uri": "https://localhost:8080/"
        },
        "id": "n3zu46lhifcJ",
        "outputId": "b59be491-1e7f-41b3-e6ec-9d8fef1bb2aa"
      },
      "source": [
        "df.shape"
      ],
      "execution_count": 105,
      "outputs": [
        {
          "output_type": "execute_result",
          "data": {
            "text/plain": [
              "(7043, 20)"
            ]
          },
          "metadata": {
            "tags": []
          },
          "execution_count": 105
        }
      ]
    },
    {
      "cell_type": "code",
      "metadata": {
        "colab": {
          "base_uri": "https://localhost:8080/",
          "height": 35
        },
        "id": "IYXHz6dpija0",
        "outputId": "576ba823-8327-4686-bd06-fe94d34cd029"
      },
      "source": [
        "df.iloc[488].TotalCharges"
      ],
      "execution_count": 106,
      "outputs": [
        {
          "output_type": "execute_result",
          "data": {
            "application/vnd.google.colaboratory.intrinsic+json": {
              "type": "string"
            },
            "text/plain": [
              "' '"
            ]
          },
          "metadata": {
            "tags": []
          },
          "execution_count": 106
        }
      ]
    },
    {
      "cell_type": "markdown",
      "metadata": {
        "id": "wC6UCC9UitlV"
      },
      "source": [
        "Remove rows with space in TotalCharges"
      ]
    },
    {
      "cell_type": "code",
      "metadata": {
        "colab": {
          "base_uri": "https://localhost:8080/"
        },
        "id": "pkKsrhUUinjD",
        "outputId": "a6d7e671-81cc-4285-df7a-39fab9989e39"
      },
      "source": [
        "df1 = df[df.TotalCharges!=' ']\n",
        "df1.shape"
      ],
      "execution_count": 107,
      "outputs": [
        {
          "output_type": "execute_result",
          "data": {
            "text/plain": [
              "(7032, 20)"
            ]
          },
          "metadata": {
            "tags": []
          },
          "execution_count": 107
        }
      ]
    },
    {
      "cell_type": "code",
      "metadata": {
        "colab": {
          "base_uri": "https://localhost:8080/"
        },
        "id": "FiDVyw5Niqxv",
        "outputId": "3237931c-e1a6-47c2-c8ca-00ae50195d75"
      },
      "source": [
        "df1.dtypes"
      ],
      "execution_count": 108,
      "outputs": [
        {
          "output_type": "execute_result",
          "data": {
            "text/plain": [
              "gender               object\n",
              "SeniorCitizen         int64\n",
              "Partner              object\n",
              "Dependents           object\n",
              "tenure                int64\n",
              "PhoneService         object\n",
              "MultipleLines        object\n",
              "InternetService      object\n",
              "OnlineSecurity       object\n",
              "OnlineBackup         object\n",
              "DeviceProtection     object\n",
              "TechSupport          object\n",
              "StreamingTV          object\n",
              "StreamingMovies      object\n",
              "Contract             object\n",
              "PaperlessBilling     object\n",
              "PaymentMethod        object\n",
              "MonthlyCharges      float64\n",
              "TotalCharges         object\n",
              "Churn                object\n",
              "dtype: object"
            ]
          },
          "metadata": {
            "tags": []
          },
          "execution_count": 108
        }
      ]
    },
    {
      "cell_type": "code",
      "metadata": {
        "id": "EqrYxVWNi1Kb"
      },
      "source": [
        "df1.TotalCharges = pd.to_numeric(df1.TotalCharges)"
      ],
      "execution_count": 109,
      "outputs": []
    },
    {
      "cell_type": "code",
      "metadata": {
        "colab": {
          "base_uri": "https://localhost:8080/"
        },
        "id": "EbY7F4VWi4fM",
        "outputId": "45f91396-f3e3-4add-bb99-f5c44d4118f7"
      },
      "source": [
        "df1.TotalCharges.values"
      ],
      "execution_count": 110,
      "outputs": [
        {
          "output_type": "execute_result",
          "data": {
            "text/plain": [
              "array([  29.85, 1889.5 ,  108.15, ...,  346.45,  306.6 , 6844.5 ])"
            ]
          },
          "metadata": {
            "tags": []
          },
          "execution_count": 110
        }
      ]
    },
    {
      "cell_type": "code",
      "metadata": {
        "colab": {
          "base_uri": "https://localhost:8080/",
          "height": 558
        },
        "id": "FG1G0B3gi7s2",
        "outputId": "30604714-b8a2-4e67-f4c3-530d190978cb"
      },
      "source": [
        "df1[df1.Churn=='No']"
      ],
      "execution_count": 111,
      "outputs": [
        {
          "output_type": "execute_result",
          "data": {
            "text/html": [
              "<div>\n",
              "<style scoped>\n",
              "    .dataframe tbody tr th:only-of-type {\n",
              "        vertical-align: middle;\n",
              "    }\n",
              "\n",
              "    .dataframe tbody tr th {\n",
              "        vertical-align: top;\n",
              "    }\n",
              "\n",
              "    .dataframe thead th {\n",
              "        text-align: right;\n",
              "    }\n",
              "</style>\n",
              "<table border=\"1\" class=\"dataframe\">\n",
              "  <thead>\n",
              "    <tr style=\"text-align: right;\">\n",
              "      <th></th>\n",
              "      <th>gender</th>\n",
              "      <th>SeniorCitizen</th>\n",
              "      <th>Partner</th>\n",
              "      <th>Dependents</th>\n",
              "      <th>tenure</th>\n",
              "      <th>PhoneService</th>\n",
              "      <th>MultipleLines</th>\n",
              "      <th>InternetService</th>\n",
              "      <th>OnlineSecurity</th>\n",
              "      <th>OnlineBackup</th>\n",
              "      <th>DeviceProtection</th>\n",
              "      <th>TechSupport</th>\n",
              "      <th>StreamingTV</th>\n",
              "      <th>StreamingMovies</th>\n",
              "      <th>Contract</th>\n",
              "      <th>PaperlessBilling</th>\n",
              "      <th>PaymentMethod</th>\n",
              "      <th>MonthlyCharges</th>\n",
              "      <th>TotalCharges</th>\n",
              "      <th>Churn</th>\n",
              "    </tr>\n",
              "  </thead>\n",
              "  <tbody>\n",
              "    <tr>\n",
              "      <th>0</th>\n",
              "      <td>Female</td>\n",
              "      <td>0</td>\n",
              "      <td>Yes</td>\n",
              "      <td>No</td>\n",
              "      <td>1</td>\n",
              "      <td>No</td>\n",
              "      <td>No phone service</td>\n",
              "      <td>DSL</td>\n",
              "      <td>No</td>\n",
              "      <td>Yes</td>\n",
              "      <td>No</td>\n",
              "      <td>No</td>\n",
              "      <td>No</td>\n",
              "      <td>No</td>\n",
              "      <td>Month-to-month</td>\n",
              "      <td>Yes</td>\n",
              "      <td>Electronic check</td>\n",
              "      <td>29.85</td>\n",
              "      <td>29.85</td>\n",
              "      <td>No</td>\n",
              "    </tr>\n",
              "    <tr>\n",
              "      <th>1</th>\n",
              "      <td>Male</td>\n",
              "      <td>0</td>\n",
              "      <td>No</td>\n",
              "      <td>No</td>\n",
              "      <td>34</td>\n",
              "      <td>Yes</td>\n",
              "      <td>No</td>\n",
              "      <td>DSL</td>\n",
              "      <td>Yes</td>\n",
              "      <td>No</td>\n",
              "      <td>Yes</td>\n",
              "      <td>No</td>\n",
              "      <td>No</td>\n",
              "      <td>No</td>\n",
              "      <td>One year</td>\n",
              "      <td>No</td>\n",
              "      <td>Mailed check</td>\n",
              "      <td>56.95</td>\n",
              "      <td>1889.50</td>\n",
              "      <td>No</td>\n",
              "    </tr>\n",
              "    <tr>\n",
              "      <th>3</th>\n",
              "      <td>Male</td>\n",
              "      <td>0</td>\n",
              "      <td>No</td>\n",
              "      <td>No</td>\n",
              "      <td>45</td>\n",
              "      <td>No</td>\n",
              "      <td>No phone service</td>\n",
              "      <td>DSL</td>\n",
              "      <td>Yes</td>\n",
              "      <td>No</td>\n",
              "      <td>Yes</td>\n",
              "      <td>Yes</td>\n",
              "      <td>No</td>\n",
              "      <td>No</td>\n",
              "      <td>One year</td>\n",
              "      <td>No</td>\n",
              "      <td>Bank transfer (automatic)</td>\n",
              "      <td>42.30</td>\n",
              "      <td>1840.75</td>\n",
              "      <td>No</td>\n",
              "    </tr>\n",
              "    <tr>\n",
              "      <th>6</th>\n",
              "      <td>Male</td>\n",
              "      <td>0</td>\n",
              "      <td>No</td>\n",
              "      <td>Yes</td>\n",
              "      <td>22</td>\n",
              "      <td>Yes</td>\n",
              "      <td>Yes</td>\n",
              "      <td>Fiber optic</td>\n",
              "      <td>No</td>\n",
              "      <td>Yes</td>\n",
              "      <td>No</td>\n",
              "      <td>No</td>\n",
              "      <td>Yes</td>\n",
              "      <td>No</td>\n",
              "      <td>Month-to-month</td>\n",
              "      <td>Yes</td>\n",
              "      <td>Credit card (automatic)</td>\n",
              "      <td>89.10</td>\n",
              "      <td>1949.40</td>\n",
              "      <td>No</td>\n",
              "    </tr>\n",
              "    <tr>\n",
              "      <th>7</th>\n",
              "      <td>Female</td>\n",
              "      <td>0</td>\n",
              "      <td>No</td>\n",
              "      <td>No</td>\n",
              "      <td>10</td>\n",
              "      <td>No</td>\n",
              "      <td>No phone service</td>\n",
              "      <td>DSL</td>\n",
              "      <td>Yes</td>\n",
              "      <td>No</td>\n",
              "      <td>No</td>\n",
              "      <td>No</td>\n",
              "      <td>No</td>\n",
              "      <td>No</td>\n",
              "      <td>Month-to-month</td>\n",
              "      <td>No</td>\n",
              "      <td>Mailed check</td>\n",
              "      <td>29.75</td>\n",
              "      <td>301.90</td>\n",
              "      <td>No</td>\n",
              "    </tr>\n",
              "    <tr>\n",
              "      <th>...</th>\n",
              "      <td>...</td>\n",
              "      <td>...</td>\n",
              "      <td>...</td>\n",
              "      <td>...</td>\n",
              "      <td>...</td>\n",
              "      <td>...</td>\n",
              "      <td>...</td>\n",
              "      <td>...</td>\n",
              "      <td>...</td>\n",
              "      <td>...</td>\n",
              "      <td>...</td>\n",
              "      <td>...</td>\n",
              "      <td>...</td>\n",
              "      <td>...</td>\n",
              "      <td>...</td>\n",
              "      <td>...</td>\n",
              "      <td>...</td>\n",
              "      <td>...</td>\n",
              "      <td>...</td>\n",
              "      <td>...</td>\n",
              "    </tr>\n",
              "    <tr>\n",
              "      <th>7037</th>\n",
              "      <td>Female</td>\n",
              "      <td>0</td>\n",
              "      <td>No</td>\n",
              "      <td>No</td>\n",
              "      <td>72</td>\n",
              "      <td>Yes</td>\n",
              "      <td>No</td>\n",
              "      <td>No</td>\n",
              "      <td>No internet service</td>\n",
              "      <td>No internet service</td>\n",
              "      <td>No internet service</td>\n",
              "      <td>No internet service</td>\n",
              "      <td>No internet service</td>\n",
              "      <td>No internet service</td>\n",
              "      <td>Two year</td>\n",
              "      <td>Yes</td>\n",
              "      <td>Bank transfer (automatic)</td>\n",
              "      <td>21.15</td>\n",
              "      <td>1419.40</td>\n",
              "      <td>No</td>\n",
              "    </tr>\n",
              "    <tr>\n",
              "      <th>7038</th>\n",
              "      <td>Male</td>\n",
              "      <td>0</td>\n",
              "      <td>Yes</td>\n",
              "      <td>Yes</td>\n",
              "      <td>24</td>\n",
              "      <td>Yes</td>\n",
              "      <td>Yes</td>\n",
              "      <td>DSL</td>\n",
              "      <td>Yes</td>\n",
              "      <td>No</td>\n",
              "      <td>Yes</td>\n",
              "      <td>Yes</td>\n",
              "      <td>Yes</td>\n",
              "      <td>Yes</td>\n",
              "      <td>One year</td>\n",
              "      <td>Yes</td>\n",
              "      <td>Mailed check</td>\n",
              "      <td>84.80</td>\n",
              "      <td>1990.50</td>\n",
              "      <td>No</td>\n",
              "    </tr>\n",
              "    <tr>\n",
              "      <th>7039</th>\n",
              "      <td>Female</td>\n",
              "      <td>0</td>\n",
              "      <td>Yes</td>\n",
              "      <td>Yes</td>\n",
              "      <td>72</td>\n",
              "      <td>Yes</td>\n",
              "      <td>Yes</td>\n",
              "      <td>Fiber optic</td>\n",
              "      <td>No</td>\n",
              "      <td>Yes</td>\n",
              "      <td>Yes</td>\n",
              "      <td>No</td>\n",
              "      <td>Yes</td>\n",
              "      <td>Yes</td>\n",
              "      <td>One year</td>\n",
              "      <td>Yes</td>\n",
              "      <td>Credit card (automatic)</td>\n",
              "      <td>103.20</td>\n",
              "      <td>7362.90</td>\n",
              "      <td>No</td>\n",
              "    </tr>\n",
              "    <tr>\n",
              "      <th>7040</th>\n",
              "      <td>Female</td>\n",
              "      <td>0</td>\n",
              "      <td>Yes</td>\n",
              "      <td>Yes</td>\n",
              "      <td>11</td>\n",
              "      <td>No</td>\n",
              "      <td>No phone service</td>\n",
              "      <td>DSL</td>\n",
              "      <td>Yes</td>\n",
              "      <td>No</td>\n",
              "      <td>No</td>\n",
              "      <td>No</td>\n",
              "      <td>No</td>\n",
              "      <td>No</td>\n",
              "      <td>Month-to-month</td>\n",
              "      <td>Yes</td>\n",
              "      <td>Electronic check</td>\n",
              "      <td>29.60</td>\n",
              "      <td>346.45</td>\n",
              "      <td>No</td>\n",
              "    </tr>\n",
              "    <tr>\n",
              "      <th>7042</th>\n",
              "      <td>Male</td>\n",
              "      <td>0</td>\n",
              "      <td>No</td>\n",
              "      <td>No</td>\n",
              "      <td>66</td>\n",
              "      <td>Yes</td>\n",
              "      <td>No</td>\n",
              "      <td>Fiber optic</td>\n",
              "      <td>Yes</td>\n",
              "      <td>No</td>\n",
              "      <td>Yes</td>\n",
              "      <td>Yes</td>\n",
              "      <td>Yes</td>\n",
              "      <td>Yes</td>\n",
              "      <td>Two year</td>\n",
              "      <td>Yes</td>\n",
              "      <td>Bank transfer (automatic)</td>\n",
              "      <td>105.65</td>\n",
              "      <td>6844.50</td>\n",
              "      <td>No</td>\n",
              "    </tr>\n",
              "  </tbody>\n",
              "</table>\n",
              "<p>5163 rows × 20 columns</p>\n",
              "</div>"
            ],
            "text/plain": [
              "      gender  SeniorCitizen Partner  ... MonthlyCharges  TotalCharges Churn\n",
              "0     Female              0     Yes  ...          29.85         29.85    No\n",
              "1       Male              0      No  ...          56.95       1889.50    No\n",
              "3       Male              0      No  ...          42.30       1840.75    No\n",
              "6       Male              0      No  ...          89.10       1949.40    No\n",
              "7     Female              0      No  ...          29.75        301.90    No\n",
              "...      ...            ...     ...  ...            ...           ...   ...\n",
              "7037  Female              0      No  ...          21.15       1419.40    No\n",
              "7038    Male              0     Yes  ...          84.80       1990.50    No\n",
              "7039  Female              0     Yes  ...         103.20       7362.90    No\n",
              "7040  Female              0     Yes  ...          29.60        346.45    No\n",
              "7042    Male              0      No  ...         105.65       6844.50    No\n",
              "\n",
              "[5163 rows x 20 columns]"
            ]
          },
          "metadata": {
            "tags": []
          },
          "execution_count": 111
        }
      ]
    },
    {
      "cell_type": "markdown",
      "metadata": {
        "id": "Y9rR9Y0JjDFn"
      },
      "source": [
        "Data Visualization"
      ]
    },
    {
      "cell_type": "code",
      "metadata": {
        "colab": {
          "base_uri": "https://localhost:8080/",
          "height": 311
        },
        "id": "aHKNNwXIi-xw",
        "outputId": "c3fb2a82-05ec-40be-e426-63cf68d6705d"
      },
      "source": [
        "tenure_churn_no = df1[df1.Churn=='No'].tenure\n",
        "tenure_churn_yes = df1[df1.Churn=='Yes'].tenure\n",
        "\n",
        "plt.xlabel(\"tenure\")\n",
        "plt.ylabel(\"Number Of Customers\")\n",
        "plt.title(\"Customer Churn Prediction Visualiztion\")\n",
        "\n",
        "blood_sugar_men = [113, 85, 90, 150, 149, 88, 93, 115, 135, 80, 77, 82, 129]\n",
        "blood_sugar_women = [67, 98, 89, 120, 133, 150, 84, 69, 89, 79, 120, 112, 100]\n",
        "\n",
        "plt.hist([tenure_churn_yes, tenure_churn_no], rwidth=0.95, color=['green','red'],label=['Churn=Yes','Churn=No'])\n",
        "plt.legend()"
      ],
      "execution_count": 112,
      "outputs": [
        {
          "output_type": "execute_result",
          "data": {
            "text/plain": [
              "<matplotlib.legend.Legend at 0x7f5e5943fed0>"
            ]
          },
          "metadata": {
            "tags": []
          },
          "execution_count": 112
        },
        {
          "output_type": "display_data",
          "data": {
            "image/png": "[encoded data removed]",
            "text/plain": [
              "<Figure size 432x288 with 1 Axes>"
            ]
          },
          "metadata": {
            "tags": [],
            "needs_background": "light"
          }
        }
      ]
    },
    {
      "cell_type": "code",
      "metadata": {
        "colab": {
          "base_uri": "https://localhost:8080/",
          "height": 311
        },
        "id": "hBI4uZiVjLNE",
        "outputId": "5e9dc6c1-8f55-4186-e635-eb2f0ec170da"
      },
      "source": [
        "mc_churn_no = df1[df1.Churn=='No'].MonthlyCharges      \n",
        "mc_churn_yes = df1[df1.Churn=='Yes'].MonthlyCharges      \n",
        "\n",
        "plt.xlabel(\"Monthly Charges\")\n",
        "plt.ylabel(\"Number Of Customers\")\n",
        "plt.title(\"Customer Churn Prediction Visualiztion\")\n",
        "\n",
        "blood_sugar_men = [113, 85, 90, 150, 149, 88, 93, 115, 135, 80, 77, 82, 129]\n",
        "blood_sugar_women = [67, 98, 89, 120, 133, 150, 84, 69, 89, 79, 120, 112, 100]\n",
        "\n",
        "plt.hist([mc_churn_yes, mc_churn_no], rwidth=0.95, color=['green','red'],label=['Churn=Yes','Churn=No'])\n",
        "plt.legend()"
      ],
      "execution_count": 113,
      "outputs": [
        {
          "output_type": "execute_result",
          "data": {
            "text/plain": [
              "<matplotlib.legend.Legend at 0x7f5e592c6c90>"
            ]
          },
          "metadata": {
            "tags": []
          },
          "execution_count": 113
        },
        {
          "output_type": "display_data",
          "data": {
            "image/png": "[encoded data removed]",
            "text/plain": [
              "<Figure size 432x288 with 1 Axes>"
            ]
          },
          "metadata": {
            "tags": [],
            "needs_background": "light"
          }
        }
      ]
    },
    {
      "cell_type": "markdown",
      "metadata": {
        "id": "bhX8VFR8jT6N"
      },
      "source": [
        "Many of the columns are yes, no etc. Let's print unique values in object columns to see data values"
      ]
    },
    {
      "cell_type": "code",
      "metadata": {
        "id": "7mQAzuO_jLcb"
      },
      "source": [
        "def print_unique_col_values(df):\n",
        "       for column in df:\n",
        "            if df[column].dtypes=='object':\n",
        "                print(f'{column}: {df[column].unique()}')\n",
        "                "
      ],
      "execution_count": 114,
      "outputs": []
    },
    {
      "cell_type": "code",
      "metadata": {
        "colab": {
          "base_uri": "https://localhost:8080/"
        },
        "id": "MGfDBp-HjLhk",
        "outputId": "629d88f2-1b82-4799-d522-ce01d985e4b9"
      },
      "source": [
        "print_unique_col_values(df1)"
      ],
      "execution_count": 115,
      "outputs": [
        {
          "output_type": "stream",
          "text": [
            "gender: ['Female' 'Male']\n",
            "Partner: ['Yes' 'No']\n",
            "Dependents: ['No' 'Yes']\n",
            "PhoneService: ['No' 'Yes']\n",
            "MultipleLines: ['No phone service' 'No' 'Yes']\n",
            "InternetService: ['DSL' 'Fiber optic' 'No']\n",
            "OnlineSecurity: ['No' 'Yes' 'No internet service']\n",
            "OnlineBackup: ['Yes' 'No' 'No internet service']\n",
            "DeviceProtection: ['No' 'Yes' 'No internet service']\n",
            "TechSupport: ['No' 'Yes' 'No internet service']\n",
            "StreamingTV: ['No' 'Yes' 'No internet service']\n",
            "StreamingMovies: ['No' 'Yes' 'No internet service']\n",
            "Contract: ['Month-to-month' 'One year' 'Two year']\n",
            "PaperlessBilling: ['Yes' 'No']\n",
            "PaymentMethod: ['Electronic check' 'Mailed check' 'Bank transfer (automatic)'\n",
            " 'Credit card (automatic)']\n",
            "Churn: ['No' 'Yes']\n"
          ],
          "name": "stdout"
        }
      ]
    },
    {
      "cell_type": "markdown",
      "metadata": {
        "id": "fM1P1M2Gjf2F"
      },
      "source": [
        "Some of the columns have no internet service or no phone service, that can be replaced with a simple No"
      ]
    },
    {
      "cell_type": "code",
      "metadata": {
        "id": "Axk70DjQjcSA"
      },
      "source": [
        "df1.replace('No internet service','No',inplace=True)\n",
        "df1.replace('No phone service','No',inplace=True)"
      ],
      "execution_count": 116,
      "outputs": []
    },
    {
      "cell_type": "code",
      "metadata": {
        "colab": {
          "base_uri": "https://localhost:8080/"
        },
        "id": "XzWJ-mwMjj_D",
        "outputId": "dc28b09b-49b9-4f4d-b4f0-672191779033"
      },
      "source": [
        "print_unique_col_values(df1)"
      ],
      "execution_count": 117,
      "outputs": [
        {
          "output_type": "stream",
          "text": [
            "gender: ['Female' 'Male']\n",
            "Partner: ['Yes' 'No']\n",
            "Dependents: ['No' 'Yes']\n",
            "PhoneService: ['No' 'Yes']\n",
            "MultipleLines: ['No' 'Yes']\n",
            "InternetService: ['DSL' 'Fiber optic' 'No']\n",
            "OnlineSecurity: ['No' 'Yes']\n",
            "OnlineBackup: ['Yes' 'No']\n",
            "DeviceProtection: ['No' 'Yes']\n",
            "TechSupport: ['No' 'Yes']\n",
            "StreamingTV: ['No' 'Yes']\n",
            "StreamingMovies: ['No' 'Yes']\n",
            "Contract: ['Month-to-month' 'One year' 'Two year']\n",
            "PaperlessBilling: ['Yes' 'No']\n",
            "PaymentMethod: ['Electronic check' 'Mailed check' 'Bank transfer (automatic)'\n",
            " 'Credit card (automatic)']\n",
            "Churn: ['No' 'Yes']\n"
          ],
          "name": "stdout"
        }
      ]
    },
    {
      "cell_type": "markdown",
      "metadata": {
        "id": "JYG5HoOWjpsq"
      },
      "source": [
        "Convert Yes and No to 1 or 0"
      ]
    },
    {
      "cell_type": "code",
      "metadata": {
        "id": "vYIkwl1VjmtU"
      },
      "source": [
        "yes_no_columns = ['Partner','Dependents','PhoneService','MultipleLines','OnlineSecurity','OnlineBackup','DeviceProtection','TechSupport','StreamingTV','StreamingMovies','PaperlessBilling','Churn']\n",
        "for col in yes_no_columns:\n",
        "  df1[col]=df1[col].astype(object)\n",
        "  df1[col].replace({'Yes': 1,'No': 0},inplace=True)\n",
        "    \n",
        "    "
      ],
      "execution_count": 118,
      "outputs": []
    },
    {
      "cell_type": "code",
      "metadata": {
        "colab": {
          "base_uri": "https://localhost:8080/"
        },
        "id": "MHezZFyejtmm",
        "outputId": "b318b00d-1e05-4650-b0d3-9aeaaa63d178"
      },
      "source": [
        "for col in df1:\n",
        "    print(f'{col}: {df1[col].unique()}')"
      ],
      "execution_count": 119,
      "outputs": [
        {
          "output_type": "stream",
          "text": [
            "gender: ['Female' 'Male']\n",
            "SeniorCitizen: [0 1]\n",
            "Partner: [1 0]\n",
            "Dependents: [0 1]\n",
            "tenure: [ 1 34  2 45  8 22 10 28 62 13 16 58 49 25 69 52 71 21 12 30 47 72 17 27\n",
            "  5 46 11 70 63 43 15 60 18 66  9  3 31 50 64 56  7 42 35 48 29 65 38 68\n",
            " 32 55 37 36 41  6  4 33 67 23 57 61 14 20 53 40 59 24 44 19 54 51 26 39]\n",
            "PhoneService: [0 1]\n",
            "MultipleLines: [0 1]\n",
            "InternetService: ['DSL' 'Fiber optic' 'No']\n",
            "OnlineSecurity: [0 1]\n",
            "OnlineBackup: [1 0]\n",
            "DeviceProtection: [0 1]\n",
            "TechSupport: [0 1]\n",
            "StreamingTV: [0 1]\n",
            "StreamingMovies: [0 1]\n",
            "Contract: ['Month-to-month' 'One year' 'Two year']\n",
            "PaperlessBilling: [1 0]\n",
            "PaymentMethod: ['Electronic check' 'Mailed check' 'Bank transfer (automatic)'\n",
            " 'Credit card (automatic)']\n",
            "MonthlyCharges: [29.85 56.95 53.85 ... 63.1  44.2  78.7 ]\n",
            "TotalCharges: [  29.85 1889.5   108.15 ...  346.45  306.6  6844.5 ]\n",
            "Churn: [0 1]\n"
          ],
          "name": "stdout"
        }
      ]
    },
    {
      "cell_type": "code",
      "metadata": {
        "id": "qpTL9ekEntSr"
      },
      "source": [
        "df1['gender'].replace({'Female':1,'Male':0},inplace=True)"
      ],
      "execution_count": 120,
      "outputs": []
    },
    {
      "cell_type": "code",
      "metadata": {
        "colab": {
          "base_uri": "https://localhost:8080/"
        },
        "id": "Z_3Yya63rmcw",
        "outputId": "4db0ec9b-40f6-42ca-8ca3-6bac861f75b2"
      },
      "source": [
        "df1.gender.unique()"
      ],
      "execution_count": 121,
      "outputs": [
        {
          "output_type": "execute_result",
          "data": {
            "text/plain": [
              "array([1, 0])"
            ]
          },
          "metadata": {
            "tags": []
          },
          "execution_count": 121
        }
      ]
    },
    {
      "cell_type": "markdown",
      "metadata": {
        "id": "OZU_rw7Jrtss"
      },
      "source": [
        "One hot encoding for categorical columns"
      ]
    },
    {
      "cell_type": "code",
      "metadata": {
        "colab": {
          "base_uri": "https://localhost:8080/"
        },
        "id": "3q3hmXxtrpVH",
        "outputId": "3f8d0332-ce66-4eb7-c380-1b3b87fcc9eb"
      },
      "source": [
        "df2 = pd.get_dummies(data=df1, columns=['InternetService','Contract','PaymentMethod'])\n",
        "df2.columns"
      ],
      "execution_count": 122,
      "outputs": [
        {
          "output_type": "execute_result",
          "data": {
            "text/plain": [
              "Index(['gender', 'SeniorCitizen', 'Partner', 'Dependents', 'tenure',\n",
              "       'PhoneService', 'MultipleLines', 'OnlineSecurity', 'OnlineBackup',\n",
              "       'DeviceProtection', 'TechSupport', 'StreamingTV', 'StreamingMovies',\n",
              "       'PaperlessBilling', 'MonthlyCharges', 'TotalCharges', 'Churn',\n",
              "       'InternetService_DSL', 'InternetService_Fiber optic',\n",
              "       'InternetService_No', 'Contract_Month-to-month', 'Contract_One year',\n",
              "       'Contract_Two year', 'PaymentMethod_Bank transfer (automatic)',\n",
              "       'PaymentMethod_Credit card (automatic)',\n",
              "       'PaymentMethod_Electronic check', 'PaymentMethod_Mailed check'],\n",
              "      dtype='object')"
            ]
          },
          "metadata": {
            "tags": []
          },
          "execution_count": 122
        }
      ]
    },
    {
      "cell_type": "code",
      "metadata": {
        "colab": {
          "base_uri": "https://localhost:8080/",
          "height": 222
        },
        "id": "psnAdeaGrws4",
        "outputId": "54d95d56-f4b2-4fbf-e015-7ec5a992e858"
      },
      "source": [
        "df2.sample(4)"
      ],
      "execution_count": 123,
      "outputs": [
        {
          "output_type": "execute_result",
          "data": {
            "text/html": [
              "<div>\n",
              "<style scoped>\n",
              "    .dataframe tbody tr th:only-of-type {\n",
              "        vertical-align: middle;\n",
              "    }\n",
              "\n",
              "    .dataframe tbody tr th {\n",
              "        vertical-align: top;\n",
              "    }\n",
              "\n",
              "    .dataframe thead th {\n",
              "        text-align: right;\n",
              "    }\n",
              "</style>\n",
              "<table border=\"1\" class=\"dataframe\">\n",
              "  <thead>\n",
              "    <tr style=\"text-align: right;\">\n",
              "      <th></th>\n",
              "      <th>gender</th>\n",
              "      <th>SeniorCitizen</th>\n",
              "      <th>Partner</th>\n",
              "      <th>Dependents</th>\n",
              "      <th>tenure</th>\n",
              "      <th>PhoneService</th>\n",
              "      <th>MultipleLines</th>\n",
              "      <th>OnlineSecurity</th>\n",
              "      <th>OnlineBackup</th>\n",
              "      <th>DeviceProtection</th>\n",
              "      <th>TechSupport</th>\n",
              "      <th>StreamingTV</th>\n",
              "      <th>StreamingMovies</th>\n",
              "      <th>PaperlessBilling</th>\n",
              "      <th>MonthlyCharges</th>\n",
              "      <th>TotalCharges</th>\n",
              "      <th>Churn</th>\n",
              "      <th>InternetService_DSL</th>\n",
              "      <th>InternetService_Fiber optic</th>\n",
              "      <th>InternetService_No</th>\n",
              "      <th>Contract_Month-to-month</th>\n",
              "      <th>Contract_One year</th>\n",
              "      <th>Contract_Two year</th>\n",
              "      <th>PaymentMethod_Bank transfer (automatic)</th>\n",
              "      <th>PaymentMethod_Credit card (automatic)</th>\n",
              "      <th>PaymentMethod_Electronic check</th>\n",
              "      <th>PaymentMethod_Mailed check</th>\n",
              "    </tr>\n",
              "  </thead>\n",
              "  <tbody>\n",
              "    <tr>\n",
              "      <th>4793</th>\n",
              "      <td>0</td>\n",
              "      <td>0</td>\n",
              "      <td>1</td>\n",
              "      <td>0</td>\n",
              "      <td>49</td>\n",
              "      <td>1</td>\n",
              "      <td>0</td>\n",
              "      <td>0</td>\n",
              "      <td>0</td>\n",
              "      <td>1</td>\n",
              "      <td>1</td>\n",
              "      <td>1</td>\n",
              "      <td>1</td>\n",
              "      <td>1</td>\n",
              "      <td>99.25</td>\n",
              "      <td>4920.80</td>\n",
              "      <td>0</td>\n",
              "      <td>0</td>\n",
              "      <td>1</td>\n",
              "      <td>0</td>\n",
              "      <td>0</td>\n",
              "      <td>1</td>\n",
              "      <td>0</td>\n",
              "      <td>0</td>\n",
              "      <td>1</td>\n",
              "      <td>0</td>\n",
              "      <td>0</td>\n",
              "    </tr>\n",
              "    <tr>\n",
              "      <th>6048</th>\n",
              "      <td>0</td>\n",
              "      <td>1</td>\n",
              "      <td>1</td>\n",
              "      <td>0</td>\n",
              "      <td>29</td>\n",
              "      <td>1</td>\n",
              "      <td>1</td>\n",
              "      <td>0</td>\n",
              "      <td>0</td>\n",
              "      <td>0</td>\n",
              "      <td>0</td>\n",
              "      <td>1</td>\n",
              "      <td>1</td>\n",
              "      <td>1</td>\n",
              "      <td>94.45</td>\n",
              "      <td>2653.65</td>\n",
              "      <td>1</td>\n",
              "      <td>0</td>\n",
              "      <td>1</td>\n",
              "      <td>0</td>\n",
              "      <td>1</td>\n",
              "      <td>0</td>\n",
              "      <td>0</td>\n",
              "      <td>0</td>\n",
              "      <td>0</td>\n",
              "      <td>1</td>\n",
              "      <td>0</td>\n",
              "    </tr>\n",
              "    <tr>\n",
              "      <th>4436</th>\n",
              "      <td>1</td>\n",
              "      <td>0</td>\n",
              "      <td>0</td>\n",
              "      <td>1</td>\n",
              "      <td>19</td>\n",
              "      <td>1</td>\n",
              "      <td>0</td>\n",
              "      <td>1</td>\n",
              "      <td>1</td>\n",
              "      <td>1</td>\n",
              "      <td>0</td>\n",
              "      <td>0</td>\n",
              "      <td>0</td>\n",
              "      <td>1</td>\n",
              "      <td>60.60</td>\n",
              "      <td>1297.80</td>\n",
              "      <td>0</td>\n",
              "      <td>1</td>\n",
              "      <td>0</td>\n",
              "      <td>0</td>\n",
              "      <td>1</td>\n",
              "      <td>0</td>\n",
              "      <td>0</td>\n",
              "      <td>0</td>\n",
              "      <td>0</td>\n",
              "      <td>1</td>\n",
              "      <td>0</td>\n",
              "    </tr>\n",
              "    <tr>\n",
              "      <th>6281</th>\n",
              "      <td>0</td>\n",
              "      <td>0</td>\n",
              "      <td>0</td>\n",
              "      <td>0</td>\n",
              "      <td>6</td>\n",
              "      <td>1</td>\n",
              "      <td>0</td>\n",
              "      <td>0</td>\n",
              "      <td>0</td>\n",
              "      <td>0</td>\n",
              "      <td>0</td>\n",
              "      <td>0</td>\n",
              "      <td>0</td>\n",
              "      <td>0</td>\n",
              "      <td>20.60</td>\n",
              "      <td>116.60</td>\n",
              "      <td>0</td>\n",
              "      <td>0</td>\n",
              "      <td>0</td>\n",
              "      <td>1</td>\n",
              "      <td>0</td>\n",
              "      <td>1</td>\n",
              "      <td>0</td>\n",
              "      <td>0</td>\n",
              "      <td>0</td>\n",
              "      <td>0</td>\n",
              "      <td>1</td>\n",
              "    </tr>\n",
              "  </tbody>\n",
              "</table>\n",
              "</div>"
            ],
            "text/plain": [
              "      gender  ...  PaymentMethod_Mailed check\n",
              "4793       0  ...                           0\n",
              "6048       0  ...                           0\n",
              "4436       1  ...                           0\n",
              "6281       0  ...                           1\n",
              "\n",
              "[4 rows x 27 columns]"
            ]
          },
          "metadata": {
            "tags": []
          },
          "execution_count": 123
        }
      ]
    },
    {
      "cell_type": "code",
      "metadata": {
        "colab": {
          "base_uri": "https://localhost:8080/"
        },
        "id": "rwl326oCr0iH",
        "outputId": "c4099879-6c81-4d16-ee87-25aeb7418732"
      },
      "source": [
        "df2.dtypes"
      ],
      "execution_count": 124,
      "outputs": [
        {
          "output_type": "execute_result",
          "data": {
            "text/plain": [
              "gender                                       int64\n",
              "SeniorCitizen                                int64\n",
              "Partner                                      int64\n",
              "Dependents                                   int64\n",
              "tenure                                       int64\n",
              "PhoneService                                 int64\n",
              "MultipleLines                                int64\n",
              "OnlineSecurity                               int64\n",
              "OnlineBackup                                 int64\n",
              "DeviceProtection                             int64\n",
              "TechSupport                                  int64\n",
              "StreamingTV                                  int64\n",
              "StreamingMovies                              int64\n",
              "PaperlessBilling                             int64\n",
              "MonthlyCharges                             float64\n",
              "TotalCharges                               float64\n",
              "Churn                                        int64\n",
              "InternetService_DSL                          uint8\n",
              "InternetService_Fiber optic                  uint8\n",
              "InternetService_No                           uint8\n",
              "Contract_Month-to-month                      uint8\n",
              "Contract_One year                            uint8\n",
              "Contract_Two year                            uint8\n",
              "PaymentMethod_Bank transfer (automatic)      uint8\n",
              "PaymentMethod_Credit card (automatic)        uint8\n",
              "PaymentMethod_Electronic check               uint8\n",
              "PaymentMethod_Mailed check                   uint8\n",
              "dtype: object"
            ]
          },
          "metadata": {
            "tags": []
          },
          "execution_count": 124
        }
      ]
    },
    {
      "cell_type": "code",
      "metadata": {
        "id": "oW9d7PBBr5Ge"
      },
      "source": [
        "cols_to_scale = ['tenure','MonthlyCharges','TotalCharges']\n",
        "\n",
        "from sklearn.preprocessing import MinMaxScaler\n",
        "scaler = MinMaxScaler()\n",
        "df2[cols_to_scale] = scaler.fit_transform(df2[cols_to_scale])"
      ],
      "execution_count": 125,
      "outputs": []
    },
    {
      "cell_type": "code",
      "metadata": {
        "colab": {
          "base_uri": "https://localhost:8080/"
        },
        "id": "OUEN2VGar8Jg",
        "outputId": "e8df6b9b-9c5a-45b5-8d11-fd66caced8f5"
      },
      "source": [
        "for col in df2:\n",
        "    print(f'{col}: {df2[col].unique()}')"
      ],
      "execution_count": 126,
      "outputs": [
        {
          "output_type": "stream",
          "text": [
            "gender: [1 0]\n",
            "SeniorCitizen: [0 1]\n",
            "Partner: [1 0]\n",
            "Dependents: [0 1]\n",
            "tenure: [0.         0.46478873 0.01408451 0.61971831 0.09859155 0.29577465\n",
            " 0.12676056 0.38028169 0.85915493 0.16901408 0.21126761 0.8028169\n",
            " 0.67605634 0.33802817 0.95774648 0.71830986 0.98591549 0.28169014\n",
            " 0.15492958 0.4084507  0.64788732 1.         0.22535211 0.36619718\n",
            " 0.05633803 0.63380282 0.14084507 0.97183099 0.87323944 0.5915493\n",
            " 0.1971831  0.83098592 0.23943662 0.91549296 0.11267606 0.02816901\n",
            " 0.42253521 0.69014085 0.88732394 0.77464789 0.08450704 0.57746479\n",
            " 0.47887324 0.66197183 0.3943662  0.90140845 0.52112676 0.94366197\n",
            " 0.43661972 0.76056338 0.50704225 0.49295775 0.56338028 0.07042254\n",
            " 0.04225352 0.45070423 0.92957746 0.30985915 0.78873239 0.84507042\n",
            " 0.18309859 0.26760563 0.73239437 0.54929577 0.81690141 0.32394366\n",
            " 0.6056338  0.25352113 0.74647887 0.70422535 0.35211268 0.53521127]\n",
            "PhoneService: [0 1]\n",
            "MultipleLines: [0 1]\n",
            "OnlineSecurity: [0 1]\n",
            "OnlineBackup: [1 0]\n",
            "DeviceProtection: [0 1]\n",
            "TechSupport: [0 1]\n",
            "StreamingTV: [0 1]\n",
            "StreamingMovies: [0 1]\n",
            "PaperlessBilling: [1 0]\n",
            "MonthlyCharges: [0.11542289 0.38507463 0.35422886 ... 0.44626866 0.25820896 0.60149254]\n",
            "TotalCharges: [0.0012751  0.21586661 0.01031041 ... 0.03780868 0.03321025 0.78764136]\n",
            "Churn: [0 1]\n",
            "InternetService_DSL: [1 0]\n",
            "InternetService_Fiber optic: [0 1]\n",
            "InternetService_No: [0 1]\n",
            "Contract_Month-to-month: [1 0]\n",
            "Contract_One year: [0 1]\n",
            "Contract_Two year: [0 1]\n",
            "PaymentMethod_Bank transfer (automatic): [0 1]\n",
            "PaymentMethod_Credit card (automatic): [0 1]\n",
            "PaymentMethod_Electronic check: [1 0]\n",
            "PaymentMethod_Mailed check: [0 1]\n"
          ],
          "name": "stdout"
        }
      ]
    },
    {
      "cell_type": "markdown",
      "metadata": {
        "id": "6O06q0yEsFZf"
      },
      "source": [
        "Train test split"
      ]
    },
    {
      "cell_type": "code",
      "metadata": {
        "id": "lWvRXEztsBe6"
      },
      "source": [
        "X = df2.drop('Churn',axis='columns')\n",
        "y = testLabels = df2.Churn.astype(np.float32)\n",
        "\n",
        "from sklearn.model_selection import train_test_split\n",
        "X_train, X_test, y_train, y_test = train_test_split(X, y, test_size=0.2, random_state=15, stratify=y)"
      ],
      "execution_count": 127,
      "outputs": []
    },
    {
      "cell_type": "code",
      "metadata": {
        "colab": {
          "base_uri": "https://localhost:8080/"
        },
        "id": "bqX9cqNZsJZ3",
        "outputId": "cd486d88-b406-466f-c162-0eb917a73ae7"
      },
      "source": [
        "X_train.shape"
      ],
      "execution_count": 128,
      "outputs": [
        {
          "output_type": "execute_result",
          "data": {
            "text/plain": [
              "(5625, 26)"
            ]
          },
          "metadata": {
            "tags": []
          },
          "execution_count": 128
        }
      ]
    },
    {
      "cell_type": "code",
      "metadata": {
        "colab": {
          "base_uri": "https://localhost:8080/"
        },
        "id": "vPjJD6ZlsLqD",
        "outputId": "2cbef267-4f80-4607-e747-5ff723714bd8"
      },
      "source": [
        "X_test.shape"
      ],
      "execution_count": 129,
      "outputs": [
        {
          "output_type": "execute_result",
          "data": {
            "text/plain": [
              "(1407, 26)"
            ]
          },
          "metadata": {
            "tags": []
          },
          "execution_count": 129
        }
      ]
    },
    {
      "cell_type": "code",
      "metadata": {
        "colab": {
          "base_uri": "https://localhost:8080/",
          "height": 403
        },
        "id": "-0VbxxWdsNh3",
        "outputId": "1942e2d9-4f69-45a3-ae5f-235386465740"
      },
      "source": [
        "X_train[:10]"
      ],
      "execution_count": 130,
      "outputs": [
        {
          "output_type": "execute_result",
          "data": {
            "text/html": [
              "<div>\n",
              "<style scoped>\n",
              "    .dataframe tbody tr th:only-of-type {\n",
              "        vertical-align: middle;\n",
              "    }\n",
              "\n",
              "    .dataframe tbody tr th {\n",
              "        vertical-align: top;\n",
              "    }\n",
              "\n",
              "    .dataframe thead th {\n",
              "        text-align: right;\n",
              "    }\n",
              "</style>\n",
              "<table border=\"1\" class=\"dataframe\">\n",
              "  <thead>\n",
              "    <tr style=\"text-align: right;\">\n",
              "      <th></th>\n",
              "      <th>gender</th>\n",
              "      <th>SeniorCitizen</th>\n",
              "      <th>Partner</th>\n",
              "      <th>Dependents</th>\n",
              "      <th>tenure</th>\n",
              "      <th>PhoneService</th>\n",
              "      <th>MultipleLines</th>\n",
              "      <th>OnlineSecurity</th>\n",
              "      <th>OnlineBackup</th>\n",
              "      <th>DeviceProtection</th>\n",
              "      <th>TechSupport</th>\n",
              "      <th>StreamingTV</th>\n",
              "      <th>StreamingMovies</th>\n",
              "      <th>PaperlessBilling</th>\n",
              "      <th>MonthlyCharges</th>\n",
              "      <th>TotalCharges</th>\n",
              "      <th>InternetService_DSL</th>\n",
              "      <th>InternetService_Fiber optic</th>\n",
              "      <th>InternetService_No</th>\n",
              "      <th>Contract_Month-to-month</th>\n",
              "      <th>Contract_One year</th>\n",
              "      <th>Contract_Two year</th>\n",
              "      <th>PaymentMethod_Bank transfer (automatic)</th>\n",
              "      <th>PaymentMethod_Credit card (automatic)</th>\n",
              "      <th>PaymentMethod_Electronic check</th>\n",
              "      <th>PaymentMethod_Mailed check</th>\n",
              "    </tr>\n",
              "  </thead>\n",
              "  <tbody>\n",
              "    <tr>\n",
              "      <th>684</th>\n",
              "      <td>1</td>\n",
              "      <td>0</td>\n",
              "      <td>0</td>\n",
              "      <td>0</td>\n",
              "      <td>0.000000</td>\n",
              "      <td>1</td>\n",
              "      <td>0</td>\n",
              "      <td>0</td>\n",
              "      <td>0</td>\n",
              "      <td>0</td>\n",
              "      <td>0</td>\n",
              "      <td>0</td>\n",
              "      <td>0</td>\n",
              "      <td>0</td>\n",
              "      <td>0.525871</td>\n",
              "      <td>0.006035</td>\n",
              "      <td>0</td>\n",
              "      <td>1</td>\n",
              "      <td>0</td>\n",
              "      <td>1</td>\n",
              "      <td>0</td>\n",
              "      <td>0</td>\n",
              "      <td>0</td>\n",
              "      <td>0</td>\n",
              "      <td>0</td>\n",
              "      <td>1</td>\n",
              "    </tr>\n",
              "    <tr>\n",
              "      <th>2446</th>\n",
              "      <td>1</td>\n",
              "      <td>0</td>\n",
              "      <td>0</td>\n",
              "      <td>0</td>\n",
              "      <td>0.239437</td>\n",
              "      <td>1</td>\n",
              "      <td>1</td>\n",
              "      <td>0</td>\n",
              "      <td>1</td>\n",
              "      <td>0</td>\n",
              "      <td>0</td>\n",
              "      <td>1</td>\n",
              "      <td>0</td>\n",
              "      <td>1</td>\n",
              "      <td>0.713930</td>\n",
              "      <td>0.174077</td>\n",
              "      <td>0</td>\n",
              "      <td>1</td>\n",
              "      <td>0</td>\n",
              "      <td>1</td>\n",
              "      <td>0</td>\n",
              "      <td>0</td>\n",
              "      <td>0</td>\n",
              "      <td>1</td>\n",
              "      <td>0</td>\n",
              "      <td>0</td>\n",
              "    </tr>\n",
              "    <tr>\n",
              "      <th>1680</th>\n",
              "      <td>0</td>\n",
              "      <td>0</td>\n",
              "      <td>1</td>\n",
              "      <td>1</td>\n",
              "      <td>0.774648</td>\n",
              "      <td>1</td>\n",
              "      <td>1</td>\n",
              "      <td>0</td>\n",
              "      <td>0</td>\n",
              "      <td>0</td>\n",
              "      <td>0</td>\n",
              "      <td>0</td>\n",
              "      <td>0</td>\n",
              "      <td>1</td>\n",
              "      <td>0.061692</td>\n",
              "      <td>0.163034</td>\n",
              "      <td>0</td>\n",
              "      <td>0</td>\n",
              "      <td>1</td>\n",
              "      <td>0</td>\n",
              "      <td>1</td>\n",
              "      <td>0</td>\n",
              "      <td>0</td>\n",
              "      <td>0</td>\n",
              "      <td>0</td>\n",
              "      <td>1</td>\n",
              "    </tr>\n",
              "    <tr>\n",
              "      <th>2220</th>\n",
              "      <td>0</td>\n",
              "      <td>0</td>\n",
              "      <td>1</td>\n",
              "      <td>0</td>\n",
              "      <td>1.000000</td>\n",
              "      <td>1</td>\n",
              "      <td>0</td>\n",
              "      <td>1</td>\n",
              "      <td>1</td>\n",
              "      <td>0</td>\n",
              "      <td>1</td>\n",
              "      <td>1</td>\n",
              "      <td>1</td>\n",
              "      <td>1</td>\n",
              "      <td>0.607960</td>\n",
              "      <td>0.661718</td>\n",
              "      <td>1</td>\n",
              "      <td>0</td>\n",
              "      <td>0</td>\n",
              "      <td>0</td>\n",
              "      <td>0</td>\n",
              "      <td>1</td>\n",
              "      <td>1</td>\n",
              "      <td>0</td>\n",
              "      <td>0</td>\n",
              "      <td>0</td>\n",
              "    </tr>\n",
              "    <tr>\n",
              "      <th>2842</th>\n",
              "      <td>1</td>\n",
              "      <td>0</td>\n",
              "      <td>0</td>\n",
              "      <td>0</td>\n",
              "      <td>0.042254</td>\n",
              "      <td>0</td>\n",
              "      <td>0</td>\n",
              "      <td>1</td>\n",
              "      <td>0</td>\n",
              "      <td>1</td>\n",
              "      <td>1</td>\n",
              "      <td>0</td>\n",
              "      <td>1</td>\n",
              "      <td>0</td>\n",
              "      <td>0.298507</td>\n",
              "      <td>0.021169</td>\n",
              "      <td>1</td>\n",
              "      <td>0</td>\n",
              "      <td>0</td>\n",
              "      <td>1</td>\n",
              "      <td>0</td>\n",
              "      <td>0</td>\n",
              "      <td>0</td>\n",
              "      <td>0</td>\n",
              "      <td>0</td>\n",
              "      <td>1</td>\n",
              "    </tr>\n",
              "    <tr>\n",
              "      <th>5131</th>\n",
              "      <td>1</td>\n",
              "      <td>0</td>\n",
              "      <td>1</td>\n",
              "      <td>0</td>\n",
              "      <td>0.605634</td>\n",
              "      <td>1</td>\n",
              "      <td>1</td>\n",
              "      <td>0</td>\n",
              "      <td>0</td>\n",
              "      <td>0</td>\n",
              "      <td>0</td>\n",
              "      <td>1</td>\n",
              "      <td>1</td>\n",
              "      <td>1</td>\n",
              "      <td>0.774627</td>\n",
              "      <td>0.501419</td>\n",
              "      <td>0</td>\n",
              "      <td>1</td>\n",
              "      <td>0</td>\n",
              "      <td>1</td>\n",
              "      <td>0</td>\n",
              "      <td>0</td>\n",
              "      <td>0</td>\n",
              "      <td>0</td>\n",
              "      <td>1</td>\n",
              "      <td>0</td>\n",
              "    </tr>\n",
              "    <tr>\n",
              "      <th>4372</th>\n",
              "      <td>0</td>\n",
              "      <td>0</td>\n",
              "      <td>1</td>\n",
              "      <td>1</td>\n",
              "      <td>0.000000</td>\n",
              "      <td>1</td>\n",
              "      <td>0</td>\n",
              "      <td>0</td>\n",
              "      <td>0</td>\n",
              "      <td>0</td>\n",
              "      <td>0</td>\n",
              "      <td>0</td>\n",
              "      <td>0</td>\n",
              "      <td>1</td>\n",
              "      <td>0.018905</td>\n",
              "      <td>0.000156</td>\n",
              "      <td>0</td>\n",
              "      <td>0</td>\n",
              "      <td>1</td>\n",
              "      <td>1</td>\n",
              "      <td>0</td>\n",
              "      <td>0</td>\n",
              "      <td>1</td>\n",
              "      <td>0</td>\n",
              "      <td>0</td>\n",
              "      <td>0</td>\n",
              "    </tr>\n",
              "    <tr>\n",
              "      <th>4687</th>\n",
              "      <td>0</td>\n",
              "      <td>0</td>\n",
              "      <td>1</td>\n",
              "      <td>0</td>\n",
              "      <td>0.295775</td>\n",
              "      <td>1</td>\n",
              "      <td>0</td>\n",
              "      <td>0</td>\n",
              "      <td>0</td>\n",
              "      <td>1</td>\n",
              "      <td>0</td>\n",
              "      <td>1</td>\n",
              "      <td>1</td>\n",
              "      <td>1</td>\n",
              "      <td>0.760697</td>\n",
              "      <td>0.218798</td>\n",
              "      <td>0</td>\n",
              "      <td>1</td>\n",
              "      <td>0</td>\n",
              "      <td>1</td>\n",
              "      <td>0</td>\n",
              "      <td>0</td>\n",
              "      <td>0</td>\n",
              "      <td>1</td>\n",
              "      <td>0</td>\n",
              "      <td>0</td>\n",
              "    </tr>\n",
              "    <tr>\n",
              "      <th>2385</th>\n",
              "      <td>1</td>\n",
              "      <td>0</td>\n",
              "      <td>0</td>\n",
              "      <td>1</td>\n",
              "      <td>0.028169</td>\n",
              "      <td>0</td>\n",
              "      <td>0</td>\n",
              "      <td>0</td>\n",
              "      <td>1</td>\n",
              "      <td>0</td>\n",
              "      <td>0</td>\n",
              "      <td>0</td>\n",
              "      <td>0</td>\n",
              "      <td>0</td>\n",
              "      <td>0.113433</td>\n",
              "      <td>0.008222</td>\n",
              "      <td>1</td>\n",
              "      <td>0</td>\n",
              "      <td>0</td>\n",
              "      <td>1</td>\n",
              "      <td>0</td>\n",
              "      <td>0</td>\n",
              "      <td>0</td>\n",
              "      <td>0</td>\n",
              "      <td>0</td>\n",
              "      <td>1</td>\n",
              "    </tr>\n",
              "    <tr>\n",
              "      <th>6773</th>\n",
              "      <td>0</td>\n",
              "      <td>1</td>\n",
              "      <td>1</td>\n",
              "      <td>0</td>\n",
              "      <td>0.507042</td>\n",
              "      <td>1</td>\n",
              "      <td>1</td>\n",
              "      <td>0</td>\n",
              "      <td>0</td>\n",
              "      <td>0</td>\n",
              "      <td>0</td>\n",
              "      <td>1</td>\n",
              "      <td>1</td>\n",
              "      <td>1</td>\n",
              "      <td>0.738806</td>\n",
              "      <td>0.398638</td>\n",
              "      <td>0</td>\n",
              "      <td>1</td>\n",
              "      <td>0</td>\n",
              "      <td>1</td>\n",
              "      <td>0</td>\n",
              "      <td>0</td>\n",
              "      <td>0</td>\n",
              "      <td>0</td>\n",
              "      <td>1</td>\n",
              "      <td>0</td>\n",
              "    </tr>\n",
              "  </tbody>\n",
              "</table>\n",
              "</div>"
            ],
            "text/plain": [
              "      gender  ...  PaymentMethod_Mailed check\n",
              "684        1  ...                           1\n",
              "2446       1  ...                           0\n",
              "1680       0  ...                           1\n",
              "2220       0  ...                           0\n",
              "2842       1  ...                           1\n",
              "5131       1  ...                           0\n",
              "4372       0  ...                           0\n",
              "4687       0  ...                           0\n",
              "2385       1  ...                           1\n",
              "6773       0  ...                           0\n",
              "\n",
              "[10 rows x 26 columns]"
            ]
          },
          "metadata": {
            "tags": []
          },
          "execution_count": 130
        }
      ]
    },
    {
      "cell_type": "code",
      "metadata": {
        "colab": {
          "base_uri": "https://localhost:8080/"
        },
        "id": "_67T4p3dsPoG",
        "outputId": "6d73abec-7a04-40f2-eb49-f4340f6af22c"
      },
      "source": [
        "len(X_train.columns)"
      ],
      "execution_count": 131,
      "outputs": [
        {
          "output_type": "execute_result",
          "data": {
            "text/plain": [
              "26"
            ]
          },
          "metadata": {
            "tags": []
          },
          "execution_count": 131
        }
      ]
    },
    {
      "cell_type": "markdown",
      "metadata": {
        "id": "tNzosKFjsVZX"
      },
      "source": [
        "Build a model (ANN) in tensorflow/keras"
      ]
    },
    {
      "cell_type": "code",
      "metadata": {
        "id": "DdQQfRXCsSxu"
      },
      "source": [
        "#from tensorflow_addons import losses\n",
        "import tensorflow as tf\n",
        "from tensorflow import keras\n",
        "from sklearn.metrics import confusion_matrix , classification_report"
      ],
      "execution_count": 133,
      "outputs": []
    },
    {
      "cell_type": "code",
      "metadata": {
        "id": "jdk270niu-4s"
      },
      "source": [
        "def ANN(X_train, y_train, X_test, y_test, loss, weights):\n",
        "    model = keras.Sequential([\n",
        "        keras.layers.Dense(26, input_dim=26, activation='relu'),\n",
        "        keras.layers.Dense(15, activation='relu'),\n",
        "        keras.layers.Dense(1, activation='sigmoid')\n",
        "    ])\n",
        "\n",
        "    model.compile(optimizer='adam', loss=loss, metrics=['accuracy'])\n",
        "    \n",
        "    if weights == -1:\n",
        "        model.fit(X_train, y_train, epochs=100)\n",
        "    else:\n",
        "        model.fit(X_train, y_train, epochs=100, class_weight = weights)\n",
        "    \n",
        "    print(model.evaluate(X_test, y_test))\n",
        "    \n",
        "    y_preds = model.predict(X_test)\n",
        "    y_preds = np.round(y_preds)\n",
        "    \n",
        "    print(\"Classification Report: \\n\", classification_report(y_test, y_preds))\n",
        "    \n",
        "    return y_preds"
      ],
      "execution_count": 134,
      "outputs": []
    },
    {
      "cell_type": "code",
      "metadata": {
        "colab": {
          "base_uri": "https://localhost:8080/"
        },
        "id": "tCJL49e8wk0f",
        "outputId": "f0de8fe9-c427-4c24-ca6f-9c19d6c2dc0f"
      },
      "source": [
        "y_preds = ANN(X_train, y_train, X_test, y_test, 'binary_crossentropy', -1)"
      ],
      "execution_count": 135,
      "outputs": [
        {
          "output_type": "stream",
          "text": [
            "Epoch 1/100\n",
            "176/176 [==============================] - 1s 2ms/step - loss: 0.4951 - accuracy: 0.7536\n",
            "Epoch 2/100\n",
            "176/176 [==============================] - 0s 2ms/step - loss: 0.4281 - accuracy: 0.7908\n",
            "Epoch 3/100\n",
            "176/176 [==============================] - 0s 2ms/step - loss: 0.4209 - accuracy: 0.8007\n",
            "Epoch 4/100\n",
            "176/176 [==============================] - 0s 2ms/step - loss: 0.4177 - accuracy: 0.8018\n",
            "Epoch 5/100\n",
            "176/176 [==============================] - 0s 2ms/step - loss: 0.4136 - accuracy: 0.8044\n",
            "Epoch 6/100\n",
            "176/176 [==============================] - 0s 2ms/step - loss: 0.4113 - accuracy: 0.8055\n",
            "Epoch 7/100\n",
            "176/176 [==============================] - 0s 2ms/step - loss: 0.4097 - accuracy: 0.8052\n",
            "Epoch 8/100\n",
            "176/176 [==============================] - 0s 2ms/step - loss: 0.4085 - accuracy: 0.8050\n",
            "Epoch 9/100\n",
            "176/176 [==============================] - 0s 2ms/step - loss: 0.4059 - accuracy: 0.8046\n",
            "Epoch 10/100\n",
            "176/176 [==============================] - 0s 2ms/step - loss: 0.4045 - accuracy: 0.8073\n",
            "Epoch 11/100\n",
            "176/176 [==============================] - 0s 2ms/step - loss: 0.4029 - accuracy: 0.8103\n",
            "Epoch 12/100\n",
            "176/176 [==============================] - 0s 2ms/step - loss: 0.4017 - accuracy: 0.8078\n",
            "Epoch 13/100\n",
            "176/176 [==============================] - 0s 2ms/step - loss: 0.4023 - accuracy: 0.8082\n",
            "Epoch 14/100\n",
            "176/176 [==============================] - 0s 2ms/step - loss: 0.4005 - accuracy: 0.8110\n",
            "Epoch 15/100\n",
            "176/176 [==============================] - 0s 2ms/step - loss: 0.3985 - accuracy: 0.8139\n",
            "Epoch 16/100\n",
            "176/176 [==============================] - 0s 2ms/step - loss: 0.3977 - accuracy: 0.8139\n",
            "Epoch 17/100\n",
            "176/176 [==============================] - 0s 2ms/step - loss: 0.3956 - accuracy: 0.8130\n",
            "Epoch 18/100\n",
            "176/176 [==============================] - 0s 2ms/step - loss: 0.3950 - accuracy: 0.8135\n",
            "Epoch 19/100\n",
            "176/176 [==============================] - 0s 2ms/step - loss: 0.3929 - accuracy: 0.8172\n",
            "Epoch 20/100\n",
            "176/176 [==============================] - 0s 2ms/step - loss: 0.3929 - accuracy: 0.8156\n",
            "Epoch 21/100\n",
            "176/176 [==============================] - 0s 2ms/step - loss: 0.3918 - accuracy: 0.8158\n",
            "Epoch 22/100\n",
            "176/176 [==============================] - 0s 2ms/step - loss: 0.3892 - accuracy: 0.8185\n",
            "Epoch 23/100\n",
            "176/176 [==============================] - 0s 2ms/step - loss: 0.3892 - accuracy: 0.8158\n",
            "Epoch 24/100\n",
            "176/176 [==============================] - 0s 2ms/step - loss: 0.3885 - accuracy: 0.8201\n",
            "Epoch 25/100\n",
            "176/176 [==============================] - 0s 2ms/step - loss: 0.3867 - accuracy: 0.8181\n",
            "Epoch 26/100\n",
            "176/176 [==============================] - 0s 2ms/step - loss: 0.3866 - accuracy: 0.8151\n",
            "Epoch 27/100\n",
            "176/176 [==============================] - 0s 2ms/step - loss: 0.3851 - accuracy: 0.8194\n",
            "Epoch 28/100\n",
            "176/176 [==============================] - 0s 2ms/step - loss: 0.3847 - accuracy: 0.8203\n",
            "Epoch 29/100\n",
            "176/176 [==============================] - 0s 2ms/step - loss: 0.3835 - accuracy: 0.8192\n",
            "Epoch 30/100\n",
            "176/176 [==============================] - 0s 2ms/step - loss: 0.3826 - accuracy: 0.8201\n",
            "Epoch 31/100\n",
            "176/176 [==============================] - 0s 2ms/step - loss: 0.3810 - accuracy: 0.8222\n",
            "Epoch 32/100\n",
            "176/176 [==============================] - 0s 2ms/step - loss: 0.3805 - accuracy: 0.8254\n",
            "Epoch 33/100\n",
            "176/176 [==============================] - 0s 2ms/step - loss: 0.3794 - accuracy: 0.8201\n",
            "Epoch 34/100\n",
            "176/176 [==============================] - 0s 2ms/step - loss: 0.3787 - accuracy: 0.8231\n",
            "Epoch 35/100\n",
            "176/176 [==============================] - 0s 2ms/step - loss: 0.3784 - accuracy: 0.8238\n",
            "Epoch 36/100\n",
            "176/176 [==============================] - 0s 2ms/step - loss: 0.3769 - accuracy: 0.8224\n",
            "Epoch 37/100\n",
            "176/176 [==============================] - 0s 2ms/step - loss: 0.3747 - accuracy: 0.8256\n",
            "Epoch 38/100\n",
            "176/176 [==============================] - 0s 2ms/step - loss: 0.3748 - accuracy: 0.8229\n",
            "Epoch 39/100\n",
            "176/176 [==============================] - 0s 2ms/step - loss: 0.3738 - accuracy: 0.8236\n",
            "Epoch 40/100\n",
            "176/176 [==============================] - 0s 2ms/step - loss: 0.3732 - accuracy: 0.8267\n",
            "Epoch 41/100\n",
            "176/176 [==============================] - 0s 2ms/step - loss: 0.3717 - accuracy: 0.8258\n",
            "Epoch 42/100\n",
            "176/176 [==============================] - 0s 2ms/step - loss: 0.3714 - accuracy: 0.8251\n",
            "Epoch 43/100\n",
            "176/176 [==============================] - 0s 2ms/step - loss: 0.3703 - accuracy: 0.8261\n",
            "Epoch 44/100\n",
            "176/176 [==============================] - 0s 2ms/step - loss: 0.3702 - accuracy: 0.8251\n",
            "Epoch 45/100\n",
            "176/176 [==============================] - 0s 2ms/step - loss: 0.3693 - accuracy: 0.8277\n",
            "Epoch 46/100\n",
            "176/176 [==============================] - 0s 2ms/step - loss: 0.3692 - accuracy: 0.8265\n",
            "Epoch 47/100\n",
            "176/176 [==============================] - 0s 2ms/step - loss: 0.3674 - accuracy: 0.8297\n",
            "Epoch 48/100\n",
            "176/176 [==============================] - 0s 2ms/step - loss: 0.3670 - accuracy: 0.8297\n",
            "Epoch 49/100\n",
            "176/176 [==============================] - 0s 2ms/step - loss: 0.3676 - accuracy: 0.8290\n",
            "Epoch 50/100\n",
            "176/176 [==============================] - 0s 2ms/step - loss: 0.3652 - accuracy: 0.8286\n",
            "Epoch 51/100\n",
            "176/176 [==============================] - 0s 2ms/step - loss: 0.3633 - accuracy: 0.8325\n",
            "Epoch 52/100\n",
            "176/176 [==============================] - 0s 2ms/step - loss: 0.3631 - accuracy: 0.8302\n",
            "Epoch 53/100\n",
            "176/176 [==============================] - 0s 2ms/step - loss: 0.3612 - accuracy: 0.8336\n",
            "Epoch 54/100\n",
            "176/176 [==============================] - 0s 2ms/step - loss: 0.3618 - accuracy: 0.8324\n",
            "Epoch 55/100\n",
            "176/176 [==============================] - 0s 2ms/step - loss: 0.3610 - accuracy: 0.8334\n",
            "Epoch 56/100\n",
            "176/176 [==============================] - 0s 2ms/step - loss: 0.3603 - accuracy: 0.8336\n",
            "Epoch 57/100\n",
            "176/176 [==============================] - 0s 2ms/step - loss: 0.3596 - accuracy: 0.8338\n",
            "Epoch 58/100\n",
            "176/176 [==============================] - 0s 2ms/step - loss: 0.3589 - accuracy: 0.8359\n",
            "Epoch 59/100\n",
            "176/176 [==============================] - 0s 2ms/step - loss: 0.3584 - accuracy: 0.8372\n",
            "Epoch 60/100\n",
            "176/176 [==============================] - 0s 2ms/step - loss: 0.3580 - accuracy: 0.8322\n",
            "Epoch 61/100\n",
            "176/176 [==============================] - 0s 2ms/step - loss: 0.3575 - accuracy: 0.8356\n",
            "Epoch 62/100\n",
            "176/176 [==============================] - 0s 2ms/step - loss: 0.3570 - accuracy: 0.8338\n",
            "Epoch 63/100\n",
            "176/176 [==============================] - 0s 2ms/step - loss: 0.3557 - accuracy: 0.8352\n",
            "Epoch 64/100\n",
            "176/176 [==============================] - 0s 2ms/step - loss: 0.3551 - accuracy: 0.8421\n",
            "Epoch 65/100\n",
            "176/176 [==============================] - 0s 2ms/step - loss: 0.3552 - accuracy: 0.8350\n",
            "Epoch 66/100\n",
            "176/176 [==============================] - 0s 2ms/step - loss: 0.3526 - accuracy: 0.8377\n",
            "Epoch 67/100\n",
            "176/176 [==============================] - 0s 2ms/step - loss: 0.3542 - accuracy: 0.8393\n",
            "Epoch 68/100\n",
            "176/176 [==============================] - 0s 2ms/step - loss: 0.3533 - accuracy: 0.8363\n",
            "Epoch 69/100\n",
            "176/176 [==============================] - 0s 2ms/step - loss: 0.3529 - accuracy: 0.8373\n",
            "Epoch 70/100\n",
            "176/176 [==============================] - 0s 2ms/step - loss: 0.3537 - accuracy: 0.8377\n",
            "Epoch 71/100\n",
            "176/176 [==============================] - 0s 2ms/step - loss: 0.3517 - accuracy: 0.8412\n",
            "Epoch 72/100\n",
            "176/176 [==============================] - 0s 2ms/step - loss: 0.3516 - accuracy: 0.8405\n",
            "Epoch 73/100\n",
            "176/176 [==============================] - 0s 2ms/step - loss: 0.3497 - accuracy: 0.8384\n",
            "Epoch 74/100\n",
            "176/176 [==============================] - 0s 2ms/step - loss: 0.3501 - accuracy: 0.8405\n",
            "Epoch 75/100\n",
            "176/176 [==============================] - 0s 2ms/step - loss: 0.3491 - accuracy: 0.8375\n",
            "Epoch 76/100\n",
            "176/176 [==============================] - 0s 2ms/step - loss: 0.3478 - accuracy: 0.8398\n",
            "Epoch 77/100\n",
            "176/176 [==============================] - 0s 2ms/step - loss: 0.3483 - accuracy: 0.8416\n",
            "Epoch 78/100\n",
            "176/176 [==============================] - 0s 2ms/step - loss: 0.3477 - accuracy: 0.8420\n",
            "Epoch 79/100\n",
            "176/176 [==============================] - 0s 2ms/step - loss: 0.3464 - accuracy: 0.8389\n",
            "Epoch 80/100\n",
            "176/176 [==============================] - 0s 2ms/step - loss: 0.3473 - accuracy: 0.8389\n",
            "Epoch 81/100\n",
            "176/176 [==============================] - 0s 2ms/step - loss: 0.3472 - accuracy: 0.8411\n",
            "Epoch 82/100\n",
            "176/176 [==============================] - 0s 2ms/step - loss: 0.3463 - accuracy: 0.8402\n",
            "Epoch 83/100\n",
            "176/176 [==============================] - 0s 2ms/step - loss: 0.3438 - accuracy: 0.8407\n",
            "Epoch 84/100\n",
            "176/176 [==============================] - 0s 2ms/step - loss: 0.3438 - accuracy: 0.8423\n",
            "Epoch 85/100\n",
            "176/176 [==============================] - 0s 2ms/step - loss: 0.3437 - accuracy: 0.8444\n",
            "Epoch 86/100\n",
            "176/176 [==============================] - 0s 2ms/step - loss: 0.3432 - accuracy: 0.8441\n",
            "Epoch 87/100\n",
            "176/176 [==============================] - 0s 2ms/step - loss: 0.3426 - accuracy: 0.8446\n",
            "Epoch 88/100\n",
            "176/176 [==============================] - 0s 2ms/step - loss: 0.3441 - accuracy: 0.8452\n",
            "Epoch 89/100\n",
            "176/176 [==============================] - 0s 2ms/step - loss: 0.3423 - accuracy: 0.8423\n",
            "Epoch 90/100\n",
            "176/176 [==============================] - 0s 2ms/step - loss: 0.3417 - accuracy: 0.8434\n",
            "Epoch 91/100\n",
            "176/176 [==============================] - 0s 2ms/step - loss: 0.3407 - accuracy: 0.8466\n",
            "Epoch 92/100\n",
            "176/176 [==============================] - 0s 2ms/step - loss: 0.3418 - accuracy: 0.8453\n",
            "Epoch 93/100\n",
            "176/176 [==============================] - 0s 2ms/step - loss: 0.3414 - accuracy: 0.8480\n",
            "Epoch 94/100\n",
            "176/176 [==============================] - 0s 2ms/step - loss: 0.3402 - accuracy: 0.8453\n",
            "Epoch 95/100\n",
            "176/176 [==============================] - 0s 2ms/step - loss: 0.3391 - accuracy: 0.8464\n",
            "Epoch 96/100\n",
            "176/176 [==============================] - 0s 2ms/step - loss: 0.3390 - accuracy: 0.8448\n",
            "Epoch 97/100\n",
            "176/176 [==============================] - 0s 2ms/step - loss: 0.3385 - accuracy: 0.8444\n",
            "Epoch 98/100\n",
            "176/176 [==============================] - 0s 2ms/step - loss: 0.3368 - accuracy: 0.8448\n",
            "Epoch 99/100\n",
            "176/176 [==============================] - 0s 2ms/step - loss: 0.3387 - accuracy: 0.8457\n",
            "Epoch 100/100\n",
            "176/176 [==============================] - 0s 2ms/step - loss: 0.3377 - accuracy: 0.8457\n",
            "44/44 [==============================] - 0s 1ms/step - loss: 0.4933 - accuracy: 0.7768\n",
            "[0.4932827353477478, 0.7768301367759705]\n",
            "Classification Report: \n",
            "               precision    recall  f1-score   support\n",
            "\n",
            "         0.0       0.84      0.87      0.85      1033\n",
            "         1.0       0.59      0.53      0.56       374\n",
            "\n",
            "    accuracy                           0.78      1407\n",
            "   macro avg       0.71      0.70      0.70      1407\n",
            "weighted avg       0.77      0.78      0.77      1407\n",
            "\n"
          ],
          "name": "stdout"
        }
      ]
    },
    {
      "cell_type": "code",
      "metadata": {
        "colab": {
          "base_uri": "https://localhost:8080/",
          "height": 458
        },
        "id": "FIMelhDzsvjr",
        "outputId": "a67562a1-c465-49c1-be6b-49104c8cc697"
      },
      "source": [
        "import seaborn as sn\n",
        "cm = tf.math.confusion_matrix(labels=y_test,predictions=y_pred)\n",
        "\n",
        "plt.figure(figsize = (10,7))\n",
        "sn.heatmap(cm, annot=True, fmt='d')\n",
        "plt.xlabel('Predicted')\n",
        "plt.ylabel('Truth')"
      ],
      "execution_count": 136,
      "outputs": [
        {
          "output_type": "execute_result",
          "data": {
            "text/plain": [
              "Text(69.0, 0.5, 'Truth')"
            ]
          },
          "metadata": {
            "tags": []
          },
          "execution_count": 136
        },
        {
          "output_type": "display_data",
          "data": {
            "image/png": "[encoded data removed]",
            "text/plain": [
              "<Figure size 720x504 with 2 Axes>"
            ]
          },
          "metadata": {
            "tags": [],
            "needs_background": "light"
          }
        }
      ]
    },
    {
      "cell_type": "markdown",
      "metadata": {
        "id": "lXviu5OK5nYK"
      },
      "source": [
        "# Handling imbalanced data in customer churn prediction"
      ]
    },
    {
      "cell_type": "markdown",
      "metadata": {
        "id": "s32h2xm1xq_K"
      },
      "source": [
        "**Undersampling**"
      ]
    },
    {
      "cell_type": "code",
      "metadata": {
        "id": "5R3iCbTfsygn"
      },
      "source": [
        "count_class_0, count_class_1 = df1.Churn.value_counts()\n",
        "\n",
        "# Divide by class\n",
        "df_class_0 = df2[df2['Churn'] == 0]\n",
        "df_class_1 = df2[df2['Churn'] == 1]"
      ],
      "execution_count": 137,
      "outputs": []
    },
    {
      "cell_type": "code",
      "metadata": {
        "colab": {
          "base_uri": "https://localhost:8080/"
        },
        "id": "XEAlU_CBxv0c",
        "outputId": "80f7672f-6cb2-4376-ff68-32a82952ba63"
      },
      "source": [
        "# Undersample 0-class and concat the DataFrames of both class\n",
        "df_class_0_under = df_class_0.sample(count_class_1)\n",
        "df_test_under = pd.concat([df_class_0_under, df_class_1], axis=0)\n",
        "\n",
        "print('Random under-sampling:')\n",
        "print(df_test_under.Churn.value_counts())"
      ],
      "execution_count": 138,
      "outputs": [
        {
          "output_type": "stream",
          "text": [
            "Random under-sampling:\n",
            "1    1869\n",
            "0    1869\n",
            "Name: Churn, dtype: int64\n"
          ],
          "name": "stdout"
        }
      ]
    },
    {
      "cell_type": "code",
      "metadata": {
        "id": "by3b42qYxyOk"
      },
      "source": [
        "X = df_test_under.drop('Churn',axis='columns')\n",
        "y = df_test_under['Churn']\n",
        "\n",
        "from sklearn.model_selection import train_test_split\n",
        "X_train, X_test, y_train, y_test = train_test_split(X, y, test_size=0.2, random_state=15, stratify=y)"
      ],
      "execution_count": 139,
      "outputs": []
    },
    {
      "cell_type": "code",
      "metadata": {
        "colab": {
          "base_uri": "https://localhost:8080/"
        },
        "id": "dJRH8ctfx1H8",
        "outputId": "ebc9a53d-54de-47f4-8fb5-289d09dc94a3"
      },
      "source": [
        "# Number of classes in training Data\n",
        "y_train.value_counts()"
      ],
      "execution_count": 140,
      "outputs": [
        {
          "output_type": "execute_result",
          "data": {
            "text/plain": [
              "1    1495\n",
              "0    1495\n",
              "Name: Churn, dtype: int64"
            ]
          },
          "metadata": {
            "tags": []
          },
          "execution_count": 140
        }
      ]
    },
    {
      "cell_type": "markdown",
      "metadata": {
        "id": "MrHByuDtx8DG"
      },
      "source": [
        "Printing Classification report"
      ]
    },
    {
      "cell_type": "code",
      "metadata": {
        "colab": {
          "base_uri": "https://localhost:8080/"
        },
        "id": "LFnlGF32x4B7",
        "outputId": "27c51257-0d07-4ea3-986b-2f6986c9b8c9"
      },
      "source": [
        "y_preds = ANN(X_train, y_train, X_test, y_test, 'binary_crossentropy', -1)"
      ],
      "execution_count": 141,
      "outputs": [
        {
          "output_type": "stream",
          "text": [
            "Epoch 1/100\n",
            "94/94 [==============================] - 1s 2ms/step - loss: 0.5741 - accuracy: 0.7094\n",
            "Epoch 2/100\n",
            "94/94 [==============================] - 0s 1ms/step - loss: 0.4975 - accuracy: 0.7666\n",
            "Epoch 3/100\n",
            "94/94 [==============================] - 0s 2ms/step - loss: 0.4849 - accuracy: 0.7749\n",
            "Epoch 4/100\n",
            "94/94 [==============================] - 0s 2ms/step - loss: 0.4792 - accuracy: 0.7742\n",
            "Epoch 5/100\n",
            "94/94 [==============================] - 0s 2ms/step - loss: 0.4766 - accuracy: 0.7722\n",
            "Epoch 6/100\n",
            "94/94 [==============================] - 0s 2ms/step - loss: 0.4739 - accuracy: 0.7739\n",
            "Epoch 7/100\n",
            "94/94 [==============================] - 0s 2ms/step - loss: 0.4710 - accuracy: 0.7769\n",
            "Epoch 8/100\n",
            "94/94 [==============================] - 0s 1ms/step - loss: 0.4694 - accuracy: 0.7742\n",
            "Epoch 9/100\n",
            "94/94 [==============================] - 0s 2ms/step - loss: 0.4680 - accuracy: 0.7783\n",
            "Epoch 10/100\n",
            "94/94 [==============================] - 0s 2ms/step - loss: 0.4659 - accuracy: 0.7796\n",
            "Epoch 11/100\n",
            "94/94 [==============================] - 0s 2ms/step - loss: 0.4623 - accuracy: 0.7799\n",
            "Epoch 12/100\n",
            "94/94 [==============================] - 0s 1ms/step - loss: 0.4615 - accuracy: 0.7836\n",
            "Epoch 13/100\n",
            "94/94 [==============================] - 0s 2ms/step - loss: 0.4605 - accuracy: 0.7799\n",
            "Epoch 14/100\n",
            "94/94 [==============================] - 0s 2ms/step - loss: 0.4592 - accuracy: 0.7856\n",
            "Epoch 15/100\n",
            "94/94 [==============================] - 0s 2ms/step - loss: 0.4577 - accuracy: 0.7836\n",
            "Epoch 16/100\n",
            "94/94 [==============================] - 0s 2ms/step - loss: 0.4568 - accuracy: 0.7839\n",
            "Epoch 17/100\n",
            "94/94 [==============================] - 0s 2ms/step - loss: 0.4538 - accuracy: 0.7870\n",
            "Epoch 18/100\n",
            "94/94 [==============================] - 0s 2ms/step - loss: 0.4535 - accuracy: 0.7849\n",
            "Epoch 19/100\n",
            "94/94 [==============================] - 0s 2ms/step - loss: 0.4524 - accuracy: 0.7846\n",
            "Epoch 20/100\n",
            "94/94 [==============================] - 0s 2ms/step - loss: 0.4501 - accuracy: 0.7873\n",
            "Epoch 21/100\n",
            "94/94 [==============================] - 0s 2ms/step - loss: 0.4495 - accuracy: 0.7880\n",
            "Epoch 22/100\n",
            "94/94 [==============================] - 0s 2ms/step - loss: 0.4485 - accuracy: 0.7836\n",
            "Epoch 23/100\n",
            "94/94 [==============================] - 0s 2ms/step - loss: 0.4471 - accuracy: 0.7883\n",
            "Epoch 24/100\n",
            "94/94 [==============================] - 0s 2ms/step - loss: 0.4456 - accuracy: 0.7896\n",
            "Epoch 25/100\n",
            "94/94 [==============================] - 0s 1ms/step - loss: 0.4464 - accuracy: 0.7866\n",
            "Epoch 26/100\n",
            "94/94 [==============================] - 0s 2ms/step - loss: 0.4442 - accuracy: 0.7923\n",
            "Epoch 27/100\n",
            "94/94 [==============================] - 0s 2ms/step - loss: 0.4449 - accuracy: 0.7943\n",
            "Epoch 28/100\n",
            "94/94 [==============================] - 0s 2ms/step - loss: 0.4429 - accuracy: 0.7940\n",
            "Epoch 29/100\n",
            "94/94 [==============================] - 0s 2ms/step - loss: 0.4406 - accuracy: 0.7923\n",
            "Epoch 30/100\n",
            "94/94 [==============================] - 0s 2ms/step - loss: 0.4397 - accuracy: 0.7910\n",
            "Epoch 31/100\n",
            "94/94 [==============================] - 0s 2ms/step - loss: 0.4395 - accuracy: 0.7913\n",
            "Epoch 32/100\n",
            "94/94 [==============================] - 0s 2ms/step - loss: 0.4373 - accuracy: 0.7913\n",
            "Epoch 33/100\n",
            "94/94 [==============================] - 0s 2ms/step - loss: 0.4373 - accuracy: 0.7977\n",
            "Epoch 34/100\n",
            "94/94 [==============================] - 0s 2ms/step - loss: 0.4374 - accuracy: 0.7903\n",
            "Epoch 35/100\n",
            "94/94 [==============================] - 0s 2ms/step - loss: 0.4345 - accuracy: 0.7970\n",
            "Epoch 36/100\n",
            "94/94 [==============================] - 0s 2ms/step - loss: 0.4335 - accuracy: 0.7936\n",
            "Epoch 37/100\n",
            "94/94 [==============================] - 0s 2ms/step - loss: 0.4330 - accuracy: 0.7933\n",
            "Epoch 38/100\n",
            "94/94 [==============================] - 0s 2ms/step - loss: 0.4330 - accuracy: 0.7980\n",
            "Epoch 39/100\n",
            "94/94 [==============================] - 0s 2ms/step - loss: 0.4324 - accuracy: 0.7953\n",
            "Epoch 40/100\n",
            "94/94 [==============================] - 0s 1ms/step - loss: 0.4308 - accuracy: 0.7990\n",
            "Epoch 41/100\n",
            "94/94 [==============================] - 0s 2ms/step - loss: 0.4313 - accuracy: 0.7997\n",
            "Epoch 42/100\n",
            "94/94 [==============================] - 0s 2ms/step - loss: 0.4279 - accuracy: 0.7993\n",
            "Epoch 43/100\n",
            "94/94 [==============================] - 0s 2ms/step - loss: 0.4270 - accuracy: 0.8023\n",
            "Epoch 44/100\n",
            "94/94 [==============================] - 0s 2ms/step - loss: 0.4270 - accuracy: 0.8007\n",
            "Epoch 45/100\n",
            "94/94 [==============================] - 0s 2ms/step - loss: 0.4255 - accuracy: 0.8080\n",
            "Epoch 46/100\n",
            "94/94 [==============================] - 0s 2ms/step - loss: 0.4263 - accuracy: 0.8033\n",
            "Epoch 47/100\n",
            "94/94 [==============================] - 0s 2ms/step - loss: 0.4245 - accuracy: 0.8047\n",
            "Epoch 48/100\n",
            "94/94 [==============================] - 0s 2ms/step - loss: 0.4227 - accuracy: 0.8054\n",
            "Epoch 49/100\n",
            "94/94 [==============================] - 0s 1ms/step - loss: 0.4244 - accuracy: 0.8020\n",
            "Epoch 50/100\n",
            "94/94 [==============================] - 0s 1ms/step - loss: 0.4219 - accuracy: 0.8067\n",
            "Epoch 51/100\n",
            "94/94 [==============================] - 0s 1ms/step - loss: 0.4202 - accuracy: 0.8050\n",
            "Epoch 52/100\n",
            "94/94 [==============================] - 0s 2ms/step - loss: 0.4188 - accuracy: 0.8077\n",
            "Epoch 53/100\n",
            "94/94 [==============================] - 0s 2ms/step - loss: 0.4187 - accuracy: 0.8047\n",
            "Epoch 54/100\n",
            "94/94 [==============================] - 0s 2ms/step - loss: 0.4168 - accuracy: 0.8050\n",
            "Epoch 55/100\n",
            "94/94 [==============================] - 0s 2ms/step - loss: 0.4166 - accuracy: 0.8074\n",
            "Epoch 56/100\n",
            "94/94 [==============================] - 0s 2ms/step - loss: 0.4161 - accuracy: 0.8074\n",
            "Epoch 57/100\n",
            "94/94 [==============================] - 0s 2ms/step - loss: 0.4156 - accuracy: 0.8077\n",
            "Epoch 58/100\n",
            "94/94 [==============================] - 0s 1ms/step - loss: 0.4156 - accuracy: 0.8074\n",
            "Epoch 59/100\n",
            "94/94 [==============================] - 0s 2ms/step - loss: 0.4149 - accuracy: 0.8074\n",
            "Epoch 60/100\n",
            "94/94 [==============================] - 0s 1ms/step - loss: 0.4133 - accuracy: 0.8120\n",
            "Epoch 61/100\n",
            "94/94 [==============================] - 0s 2ms/step - loss: 0.4130 - accuracy: 0.8120\n",
            "Epoch 62/100\n",
            "94/94 [==============================] - 0s 2ms/step - loss: 0.4109 - accuracy: 0.8094\n",
            "Epoch 63/100\n",
            "94/94 [==============================] - 0s 1ms/step - loss: 0.4092 - accuracy: 0.8117\n",
            "Epoch 64/100\n",
            "94/94 [==============================] - 0s 2ms/step - loss: 0.4106 - accuracy: 0.8124\n",
            "Epoch 65/100\n",
            "94/94 [==============================] - 0s 2ms/step - loss: 0.4132 - accuracy: 0.8134\n",
            "Epoch 66/100\n",
            "94/94 [==============================] - 0s 2ms/step - loss: 0.4099 - accuracy: 0.8087\n",
            "Epoch 67/100\n",
            "94/94 [==============================] - 0s 2ms/step - loss: 0.4078 - accuracy: 0.8104\n",
            "Epoch 68/100\n",
            "94/94 [==============================] - 0s 2ms/step - loss: 0.4100 - accuracy: 0.8110\n",
            "Epoch 69/100\n",
            "94/94 [==============================] - 0s 2ms/step - loss: 0.4067 - accuracy: 0.8144\n",
            "Epoch 70/100\n",
            "94/94 [==============================] - 0s 2ms/step - loss: 0.4057 - accuracy: 0.8087\n",
            "Epoch 71/100\n",
            "94/94 [==============================] - 0s 2ms/step - loss: 0.4060 - accuracy: 0.8151\n",
            "Epoch 72/100\n",
            "94/94 [==============================] - 0s 2ms/step - loss: 0.4053 - accuracy: 0.8107\n",
            "Epoch 73/100\n",
            "94/94 [==============================] - 0s 2ms/step - loss: 0.4050 - accuracy: 0.8167\n",
            "Epoch 74/100\n",
            "94/94 [==============================] - 0s 2ms/step - loss: 0.4021 - accuracy: 0.8130\n",
            "Epoch 75/100\n",
            "94/94 [==============================] - 0s 2ms/step - loss: 0.4036 - accuracy: 0.8130\n",
            "Epoch 76/100\n",
            "94/94 [==============================] - 0s 2ms/step - loss: 0.4014 - accuracy: 0.8137\n",
            "Epoch 77/100\n",
            "94/94 [==============================] - 0s 1ms/step - loss: 0.4014 - accuracy: 0.8120\n",
            "Epoch 78/100\n",
            "94/94 [==============================] - 0s 2ms/step - loss: 0.4012 - accuracy: 0.8167\n",
            "Epoch 79/100\n",
            "94/94 [==============================] - 0s 2ms/step - loss: 0.4017 - accuracy: 0.8137\n",
            "Epoch 80/100\n",
            "94/94 [==============================] - 0s 2ms/step - loss: 0.4004 - accuracy: 0.8147\n",
            "Epoch 81/100\n",
            "94/94 [==============================] - 0s 2ms/step - loss: 0.4006 - accuracy: 0.8124\n",
            "Epoch 82/100\n",
            "94/94 [==============================] - 0s 2ms/step - loss: 0.3996 - accuracy: 0.8140\n",
            "Epoch 83/100\n",
            "94/94 [==============================] - 0s 2ms/step - loss: 0.3971 - accuracy: 0.8157\n",
            "Epoch 84/100\n",
            "94/94 [==============================] - 0s 2ms/step - loss: 0.3962 - accuracy: 0.8147\n",
            "Epoch 85/100\n",
            "94/94 [==============================] - 0s 2ms/step - loss: 0.3978 - accuracy: 0.8201\n",
            "Epoch 86/100\n",
            "94/94 [==============================] - 0s 2ms/step - loss: 0.3955 - accuracy: 0.8201\n",
            "Epoch 87/100\n",
            "94/94 [==============================] - 0s 2ms/step - loss: 0.3960 - accuracy: 0.8194\n",
            "Epoch 88/100\n",
            "94/94 [==============================] - 0s 2ms/step - loss: 0.3944 - accuracy: 0.8201\n",
            "Epoch 89/100\n",
            "94/94 [==============================] - 0s 2ms/step - loss: 0.3964 - accuracy: 0.8191\n",
            "Epoch 90/100\n",
            "94/94 [==============================] - 0s 2ms/step - loss: 0.3941 - accuracy: 0.8167\n",
            "Epoch 91/100\n",
            "94/94 [==============================] - 0s 2ms/step - loss: 0.3927 - accuracy: 0.8167\n",
            "Epoch 92/100\n",
            "94/94 [==============================] - 0s 2ms/step - loss: 0.3911 - accuracy: 0.8171\n",
            "Epoch 93/100\n",
            "94/94 [==============================] - 0s 2ms/step - loss: 0.3914 - accuracy: 0.8194\n",
            "Epoch 94/100\n",
            "94/94 [==============================] - 0s 2ms/step - loss: 0.3939 - accuracy: 0.8130\n",
            "Epoch 95/100\n",
            "94/94 [==============================] - 0s 1ms/step - loss: 0.3899 - accuracy: 0.8161\n",
            "Epoch 96/100\n",
            "94/94 [==============================] - 0s 2ms/step - loss: 0.3908 - accuracy: 0.8147\n",
            "Epoch 97/100\n",
            "94/94 [==============================] - 0s 2ms/step - loss: 0.3894 - accuracy: 0.8157\n",
            "Epoch 98/100\n",
            "94/94 [==============================] - 0s 2ms/step - loss: 0.3889 - accuracy: 0.8201\n",
            "Epoch 99/100\n",
            "94/94 [==============================] - 0s 2ms/step - loss: 0.3880 - accuracy: 0.8144\n",
            "Epoch 100/100\n",
            "94/94 [==============================] - 0s 2ms/step - loss: 0.3871 - accuracy: 0.8177\n",
            "24/24 [==============================] - 0s 1ms/step - loss: 0.5977 - accuracy: 0.7299\n",
            "[0.5977177023887634, 0.7299465537071228]\n",
            "Classification Report: \n",
            "               precision    recall  f1-score   support\n",
            "\n",
            "           0       0.75      0.68      0.72       374\n",
            "           1       0.71      0.78      0.74       374\n",
            "\n",
            "    accuracy                           0.73       748\n",
            "   macro avg       0.73      0.73      0.73       748\n",
            "weighted avg       0.73      0.73      0.73       748\n",
            "\n"
          ],
          "name": "stdout"
        }
      ]
    },
    {
      "cell_type": "markdown",
      "metadata": {
        "id": "YLipA0beyOH-"
      },
      "source": [
        "Check classification report above. f1-score for minority class 1 improved from 0.56 to 0.74. Score for class 0 reduced to 0.72 from 0.85 but that's ok. We have more generalized classifier which classifies both classes with similar prediction score\n"
      ]
    },
    {
      "cell_type": "markdown",
      "metadata": {
        "id": "BphaMldpypTi"
      },
      "source": [
        "## **Oversampling**"
      ]
    },
    {
      "cell_type": "code",
      "metadata": {
        "colab": {
          "base_uri": "https://localhost:8080/"
        },
        "id": "iEpNEUdnyFaB",
        "outputId": "afdabf10-a46b-4a71-b1d0-2ec9e32663fb"
      },
      "source": [
        "# Oversample 1-class and concat the DataFrames of both classes\n",
        "df_class_1_over = df_class_1.sample(count_class_0, replace=True)\n",
        "df_test_over = pd.concat([df_class_0, df_class_1_over], axis=0)\n",
        "\n",
        "print('Random over-sampling:')\n",
        "print(df_test_over.Churn.value_counts())"
      ],
      "execution_count": 142,
      "outputs": [
        {
          "output_type": "stream",
          "text": [
            "Random over-sampling:\n",
            "1    5163\n",
            "0    5163\n",
            "Name: Churn, dtype: int64\n"
          ],
          "name": "stdout"
        }
      ]
    },
    {
      "cell_type": "code",
      "metadata": {
        "id": "k0p7iJvJyvVO"
      },
      "source": [
        "X = df_test_over.drop('Churn',axis='columns')\n",
        "y = df_test_over['Churn']\n",
        "\n",
        "from sklearn.model_selection import train_test_split\n",
        "X_train, X_test, y_train, y_test = train_test_split(X, y, test_size=0.2, random_state=15, stratify=y)"
      ],
      "execution_count": 143,
      "outputs": []
    },
    {
      "cell_type": "code",
      "metadata": {
        "colab": {
          "base_uri": "https://localhost:8080/"
        },
        "id": "fzfAPBheyxl8",
        "outputId": "d00d2d8b-e93e-43e0-8a72-5dfac96d1b7f"
      },
      "source": [
        "# Number of classes in training Data\n",
        "y_train.value_counts()"
      ],
      "execution_count": 144,
      "outputs": [
        {
          "output_type": "execute_result",
          "data": {
            "text/plain": [
              "1    4130\n",
              "0    4130\n",
              "Name: Churn, dtype: int64"
            ]
          },
          "metadata": {
            "tags": []
          },
          "execution_count": 144
        }
      ]
    },
    {
      "cell_type": "code",
      "metadata": {
        "colab": {
          "base_uri": "https://localhost:8080/"
        },
        "id": "AgoveeMuy0Af",
        "outputId": "092b6d56-86b8-4a5b-8fec-aed0bd591506"
      },
      "source": [
        "loss = keras.losses.BinaryCrossentropy()\n",
        "weights = -1\n",
        "y_preds = ANN(X_train, y_train, X_test, y_test, 'binary_crossentropy', -1)"
      ],
      "execution_count": 145,
      "outputs": [
        {
          "output_type": "stream",
          "text": [
            "Epoch 1/100\n",
            "259/259 [==============================] - 1s 2ms/step - loss: 0.5400 - accuracy: 0.7243\n",
            "Epoch 2/100\n",
            "259/259 [==============================] - 0s 2ms/step - loss: 0.4849 - accuracy: 0.7594\n",
            "Epoch 3/100\n",
            "259/259 [==============================] - 0s 1ms/step - loss: 0.4787 - accuracy: 0.7604\n",
            "Epoch 4/100\n",
            "259/259 [==============================] - 0s 2ms/step - loss: 0.4739 - accuracy: 0.7651\n",
            "Epoch 5/100\n",
            "259/259 [==============================] - 0s 2ms/step - loss: 0.4706 - accuracy: 0.7685\n",
            "Epoch 6/100\n",
            "259/259 [==============================] - 0s 2ms/step - loss: 0.4673 - accuracy: 0.7752\n",
            "Epoch 7/100\n",
            "259/259 [==============================] - 0s 2ms/step - loss: 0.4653 - accuracy: 0.7755\n",
            "Epoch 8/100\n",
            "259/259 [==============================] - 0s 2ms/step - loss: 0.4619 - accuracy: 0.7793\n",
            "Epoch 9/100\n",
            "259/259 [==============================] - 0s 2ms/step - loss: 0.4592 - accuracy: 0.7823\n",
            "Epoch 10/100\n",
            "259/259 [==============================] - 0s 1ms/step - loss: 0.4568 - accuracy: 0.7801\n",
            "Epoch 11/100\n",
            "259/259 [==============================] - 0s 2ms/step - loss: 0.4540 - accuracy: 0.7852\n",
            "Epoch 12/100\n",
            "259/259 [==============================] - 0s 2ms/step - loss: 0.4511 - accuracy: 0.7866\n",
            "Epoch 13/100\n",
            "259/259 [==============================] - 0s 1ms/step - loss: 0.4491 - accuracy: 0.7869\n",
            "Epoch 14/100\n",
            "259/259 [==============================] - 0s 1ms/step - loss: 0.4467 - accuracy: 0.7907\n",
            "Epoch 15/100\n",
            "259/259 [==============================] - 0s 1ms/step - loss: 0.4453 - accuracy: 0.7881\n",
            "Epoch 16/100\n",
            "259/259 [==============================] - 0s 2ms/step - loss: 0.4437 - accuracy: 0.7904\n",
            "Epoch 17/100\n",
            "259/259 [==============================] - 0s 1ms/step - loss: 0.4403 - accuracy: 0.7935\n",
            "Epoch 18/100\n",
            "259/259 [==============================] - 0s 2ms/step - loss: 0.4392 - accuracy: 0.7931\n",
            "Epoch 19/100\n",
            "259/259 [==============================] - 0s 2ms/step - loss: 0.4365 - accuracy: 0.7977\n",
            "Epoch 20/100\n",
            "259/259 [==============================] - 0s 2ms/step - loss: 0.4354 - accuracy: 0.7959\n",
            "Epoch 21/100\n",
            "259/259 [==============================] - 0s 2ms/step - loss: 0.4337 - accuracy: 0.7962\n",
            "Epoch 22/100\n",
            "259/259 [==============================] - 0s 2ms/step - loss: 0.4329 - accuracy: 0.7990\n",
            "Epoch 23/100\n",
            "259/259 [==============================] - 0s 1ms/step - loss: 0.4299 - accuracy: 0.8011\n",
            "Epoch 24/100\n",
            "259/259 [==============================] - 0s 2ms/step - loss: 0.4293 - accuracy: 0.8027\n",
            "Epoch 25/100\n",
            "259/259 [==============================] - 0s 2ms/step - loss: 0.4276 - accuracy: 0.8011\n",
            "Epoch 26/100\n",
            "259/259 [==============================] - 0s 2ms/step - loss: 0.4256 - accuracy: 0.8038\n",
            "Epoch 27/100\n",
            "259/259 [==============================] - 0s 1ms/step - loss: 0.4246 - accuracy: 0.8011\n",
            "Epoch 28/100\n",
            "259/259 [==============================] - 0s 1ms/step - loss: 0.4222 - accuracy: 0.8052\n",
            "Epoch 29/100\n",
            "259/259 [==============================] - 0s 2ms/step - loss: 0.4215 - accuracy: 0.8057\n",
            "Epoch 30/100\n",
            "259/259 [==============================] - 0s 2ms/step - loss: 0.4200 - accuracy: 0.8041\n",
            "Epoch 31/100\n",
            "259/259 [==============================] - 0s 2ms/step - loss: 0.4180 - accuracy: 0.8070\n",
            "Epoch 32/100\n",
            "259/259 [==============================] - 0s 2ms/step - loss: 0.4171 - accuracy: 0.8050\n",
            "Epoch 33/100\n",
            "259/259 [==============================] - 0s 2ms/step - loss: 0.4168 - accuracy: 0.8079\n",
            "Epoch 34/100\n",
            "259/259 [==============================] - 0s 2ms/step - loss: 0.4156 - accuracy: 0.8069\n",
            "Epoch 35/100\n",
            "259/259 [==============================] - 0s 2ms/step - loss: 0.4122 - accuracy: 0.8097\n",
            "Epoch 36/100\n",
            "259/259 [==============================] - 0s 2ms/step - loss: 0.4126 - accuracy: 0.8099\n",
            "Epoch 37/100\n",
            "259/259 [==============================] - 0s 2ms/step - loss: 0.4103 - accuracy: 0.8104\n",
            "Epoch 38/100\n",
            "259/259 [==============================] - 0s 1ms/step - loss: 0.4092 - accuracy: 0.8110\n",
            "Epoch 39/100\n",
            "259/259 [==============================] - 0s 2ms/step - loss: 0.4081 - accuracy: 0.8115\n",
            "Epoch 40/100\n",
            "259/259 [==============================] - 0s 2ms/step - loss: 0.4070 - accuracy: 0.8116\n",
            "Epoch 41/100\n",
            "259/259 [==============================] - 0s 2ms/step - loss: 0.4056 - accuracy: 0.8113\n",
            "Epoch 42/100\n",
            "259/259 [==============================] - 0s 2ms/step - loss: 0.4043 - accuracy: 0.8150\n",
            "Epoch 43/100\n",
            "259/259 [==============================] - 0s 2ms/step - loss: 0.4039 - accuracy: 0.8134\n",
            "Epoch 44/100\n",
            "259/259 [==============================] - 0s 2ms/step - loss: 0.4026 - accuracy: 0.8138\n",
            "Epoch 45/100\n",
            "259/259 [==============================] - 0s 2ms/step - loss: 0.4023 - accuracy: 0.8121\n",
            "Epoch 46/100\n",
            "259/259 [==============================] - 0s 2ms/step - loss: 0.4007 - accuracy: 0.8157\n",
            "Epoch 47/100\n",
            "259/259 [==============================] - 0s 2ms/step - loss: 0.3994 - accuracy: 0.8136\n",
            "Epoch 48/100\n",
            "259/259 [==============================] - 0s 2ms/step - loss: 0.3977 - accuracy: 0.8174\n",
            "Epoch 49/100\n",
            "259/259 [==============================] - 0s 2ms/step - loss: 0.3980 - accuracy: 0.8202\n",
            "Epoch 50/100\n",
            "259/259 [==============================] - 0s 2ms/step - loss: 0.3961 - accuracy: 0.8148\n",
            "Epoch 51/100\n",
            "259/259 [==============================] - 0s 2ms/step - loss: 0.3964 - accuracy: 0.8163\n",
            "Epoch 52/100\n",
            "259/259 [==============================] - 0s 2ms/step - loss: 0.3935 - accuracy: 0.8165\n",
            "Epoch 53/100\n",
            "259/259 [==============================] - 0s 2ms/step - loss: 0.3936 - accuracy: 0.8207\n",
            "Epoch 54/100\n",
            "259/259 [==============================] - 0s 2ms/step - loss: 0.3926 - accuracy: 0.8169\n",
            "Epoch 55/100\n",
            "259/259 [==============================] - 0s 2ms/step - loss: 0.3924 - accuracy: 0.8200\n",
            "Epoch 56/100\n",
            "259/259 [==============================] - 0s 2ms/step - loss: 0.3914 - accuracy: 0.8191\n",
            "Epoch 57/100\n",
            "259/259 [==============================] - 0s 2ms/step - loss: 0.3901 - accuracy: 0.8224\n",
            "Epoch 58/100\n",
            "259/259 [==============================] - 0s 2ms/step - loss: 0.3892 - accuracy: 0.8217\n",
            "Epoch 59/100\n",
            "259/259 [==============================] - 0s 2ms/step - loss: 0.3884 - accuracy: 0.8232\n",
            "Epoch 60/100\n",
            "259/259 [==============================] - 0s 2ms/step - loss: 0.3881 - accuracy: 0.8215\n",
            "Epoch 61/100\n",
            "259/259 [==============================] - 0s 2ms/step - loss: 0.3866 - accuracy: 0.8243\n",
            "Epoch 62/100\n",
            "259/259 [==============================] - 0s 2ms/step - loss: 0.3869 - accuracy: 0.8232\n",
            "Epoch 63/100\n",
            "259/259 [==============================] - 0s 2ms/step - loss: 0.3866 - accuracy: 0.8208\n",
            "Epoch 64/100\n",
            "259/259 [==============================] - 0s 2ms/step - loss: 0.3851 - accuracy: 0.8237\n",
            "Epoch 65/100\n",
            "259/259 [==============================] - 0s 2ms/step - loss: 0.3818 - accuracy: 0.8260\n",
            "Epoch 66/100\n",
            "259/259 [==============================] - 0s 2ms/step - loss: 0.3826 - accuracy: 0.8247\n",
            "Epoch 67/100\n",
            "259/259 [==============================] - 0s 2ms/step - loss: 0.3823 - accuracy: 0.8257\n",
            "Epoch 68/100\n",
            "259/259 [==============================] - 0s 2ms/step - loss: 0.3810 - accuracy: 0.8232\n",
            "Epoch 69/100\n",
            "259/259 [==============================] - 0s 2ms/step - loss: 0.3794 - accuracy: 0.8259\n",
            "Epoch 70/100\n",
            "259/259 [==============================] - 0s 2ms/step - loss: 0.3787 - accuracy: 0.8271\n",
            "Epoch 71/100\n",
            "259/259 [==============================] - 0s 2ms/step - loss: 0.3790 - accuracy: 0.8265\n",
            "Epoch 72/100\n",
            "259/259 [==============================] - 0s 2ms/step - loss: 0.3782 - accuracy: 0.8294\n",
            "Epoch 73/100\n",
            "259/259 [==============================] - 0s 2ms/step - loss: 0.3764 - accuracy: 0.8264\n",
            "Epoch 74/100\n",
            "259/259 [==============================] - 0s 2ms/step - loss: 0.3753 - accuracy: 0.8287\n",
            "Epoch 75/100\n",
            "259/259 [==============================] - 0s 2ms/step - loss: 0.3757 - accuracy: 0.8288\n",
            "Epoch 76/100\n",
            "259/259 [==============================] - 0s 2ms/step - loss: 0.3743 - accuracy: 0.8300\n",
            "Epoch 77/100\n",
            "259/259 [==============================] - 0s 2ms/step - loss: 0.3739 - accuracy: 0.8306\n",
            "Epoch 78/100\n",
            "259/259 [==============================] - 0s 2ms/step - loss: 0.3737 - accuracy: 0.8262\n",
            "Epoch 79/100\n",
            "259/259 [==============================] - 0s 2ms/step - loss: 0.3738 - accuracy: 0.8275\n",
            "Epoch 80/100\n",
            "259/259 [==============================] - 0s 2ms/step - loss: 0.3713 - accuracy: 0.8311\n",
            "Epoch 81/100\n",
            "259/259 [==============================] - 0s 2ms/step - loss: 0.3700 - accuracy: 0.8292\n",
            "Epoch 82/100\n",
            "259/259 [==============================] - 0s 2ms/step - loss: 0.3696 - accuracy: 0.8318\n",
            "Epoch 83/100\n",
            "259/259 [==============================] - 0s 2ms/step - loss: 0.3685 - accuracy: 0.8301\n",
            "Epoch 84/100\n",
            "259/259 [==============================] - 0s 2ms/step - loss: 0.3678 - accuracy: 0.8331\n",
            "Epoch 85/100\n",
            "259/259 [==============================] - 0s 2ms/step - loss: 0.3683 - accuracy: 0.8312\n",
            "Epoch 86/100\n",
            "259/259 [==============================] - 0s 2ms/step - loss: 0.3668 - accuracy: 0.8327\n",
            "Epoch 87/100\n",
            "259/259 [==============================] - 0s 2ms/step - loss: 0.3678 - accuracy: 0.8356\n",
            "Epoch 88/100\n",
            "259/259 [==============================] - 0s 2ms/step - loss: 0.3656 - accuracy: 0.8355\n",
            "Epoch 89/100\n",
            "259/259 [==============================] - 0s 2ms/step - loss: 0.3660 - accuracy: 0.8341\n",
            "Epoch 90/100\n",
            "259/259 [==============================] - 0s 2ms/step - loss: 0.3656 - accuracy: 0.8372\n",
            "Epoch 91/100\n",
            "259/259 [==============================] - 0s 2ms/step - loss: 0.3637 - accuracy: 0.8372\n",
            "Epoch 92/100\n",
            "259/259 [==============================] - 0s 2ms/step - loss: 0.3655 - accuracy: 0.8335\n",
            "Epoch 93/100\n",
            "259/259 [==============================] - 0s 2ms/step - loss: 0.3640 - accuracy: 0.8377\n",
            "Epoch 94/100\n",
            "259/259 [==============================] - 0s 2ms/step - loss: 0.3629 - accuracy: 0.8370\n",
            "Epoch 95/100\n",
            "259/259 [==============================] - 0s 2ms/step - loss: 0.3622 - accuracy: 0.8383\n",
            "Epoch 96/100\n",
            "259/259 [==============================] - 0s 2ms/step - loss: 0.3605 - accuracy: 0.8350\n",
            "Epoch 97/100\n",
            "259/259 [==============================] - 0s 2ms/step - loss: 0.3612 - accuracy: 0.8412\n",
            "Epoch 98/100\n",
            "259/259 [==============================] - 0s 2ms/step - loss: 0.3610 - accuracy: 0.8377\n",
            "Epoch 99/100\n",
            "259/259 [==============================] - 0s 2ms/step - loss: 0.3598 - accuracy: 0.8431\n",
            "Epoch 100/100\n",
            "259/259 [==============================] - 0s 2ms/step - loss: 0.3584 - accuracy: 0.8390\n",
            "65/65 [==============================] - 0s 1ms/step - loss: 0.4904 - accuracy: 0.7764\n",
            "[0.4904184639453888, 0.7763794660568237]\n",
            "Classification Report: \n",
            "               precision    recall  f1-score   support\n",
            "\n",
            "           0       0.82      0.71      0.76      1033\n",
            "           1       0.75      0.84      0.79      1033\n",
            "\n",
            "    accuracy                           0.78      2066\n",
            "   macro avg       0.78      0.78      0.78      2066\n",
            "weighted avg       0.78      0.78      0.78      2066\n",
            "\n"
          ],
          "name": "stdout"
        }
      ]
    },
    {
      "cell_type": "markdown",
      "metadata": {
        "id": "4bhCOHnizAlL"
      },
      "source": [
        "Check classification report above. f1-score for minority class 1 improved from 0.56 to 0.79. Score for class 0 reduced to 0.76 from 0.85 but that's ok. We have more generalized classifier which classifies both classes with similar prediction score"
      ]
    },
    {
      "cell_type": "markdown",
      "metadata": {
        "id": "lmnVXoeY5663"
      },
      "source": [
        " **SMOTE**"
      ]
    },
    {
      "cell_type": "code",
      "metadata": {
        "colab": {
          "base_uri": "https://localhost:8080/"
        },
        "id": "OCBvPtmYy2lM",
        "outputId": "ecfb6571-98dc-4c6e-aca0-832dc648361b"
      },
      "source": [
        " pip install imbalanced-learn"
      ],
      "execution_count": 146,
      "outputs": [
        {
          "output_type": "stream",
          "text": [
            "Requirement already satisfied: imbalanced-learn in /usr/local/lib/python3.7/dist-packages (0.4.3)\n",
            "Requirement already satisfied: numpy>=1.8.2 in /usr/local/lib/python3.7/dist-packages (from imbalanced-learn) (1.19.5)\n",
            "Requirement already satisfied: scipy>=0.13.3 in /usr/local/lib/python3.7/dist-packages (from imbalanced-learn) (1.4.1)\n",
            "Requirement already satisfied: scikit-learn>=0.20 in /usr/local/lib/python3.7/dist-packages (from imbalanced-learn) (0.22.2.post1)\n",
            "Requirement already satisfied: joblib>=0.11 in /usr/local/lib/python3.7/dist-packages (from scikit-learn>=0.20->imbalanced-learn) (1.0.1)\n"
          ],
          "name": "stdout"
        }
      ]
    },
    {
      "cell_type": "code",
      "metadata": {
        "id": "mFPt5y9NzOdr"
      },
      "source": [
        "X = df2.drop('Churn',axis='columns')\n",
        "y = df2['Churn']"
      ],
      "execution_count": 147,
      "outputs": []
    },
    {
      "cell_type": "code",
      "metadata": {
        "id": "rDfSTQpUzR4m"
      },
      "source": [
        "from imblearn.over_sampling import SMOTE\n",
        "\n",
        "smote = SMOTE(sampling_strategy='minority')\n",
        "X_sm, y_sm = smote.fit_sample(X, y)\n",
        "#y_sm.Churn.value_counts()"
      ],
      "execution_count": 156,
      "outputs": []
    },
    {
      "cell_type": "code",
      "metadata": {
        "id": "6mOT2qWFzT8b"
      },
      "source": [
        "from sklearn.model_selection import train_test_split\n",
        "X_train, X_test, y_train, y_test = train_test_split(X_sm, y_sm, test_size=0.2, random_state=15, stratify=y_sm)"
      ],
      "execution_count": 150,
      "outputs": []
    },
    {
      "cell_type": "code",
      "metadata": {
        "colab": {
          "base_uri": "https://localhost:8080/"
        },
        "id": "2QELNN7U0ElL",
        "outputId": "a0719166-f655-42e5-abef-3494106bfac4"
      },
      "source": [
        "y_preds = ANN(X_train, y_train, X_test, y_test, 'binary_crossentropy', -1)"
      ],
      "execution_count": 153,
      "outputs": [
        {
          "output_type": "stream",
          "text": [
            "Epoch 1/100\n",
            "259/259 [==============================] - 1s 2ms/step - loss: 0.5190 - accuracy: 0.7534\n",
            "Epoch 2/100\n",
            "259/259 [==============================] - 0s 2ms/step - loss: 0.4739 - accuracy: 0.7734\n",
            "Epoch 3/100\n",
            "259/259 [==============================] - 0s 2ms/step - loss: 0.4677 - accuracy: 0.7749\n",
            "Epoch 4/100\n",
            "259/259 [==============================] - 0s 2ms/step - loss: 0.4641 - accuracy: 0.7769\n",
            "Epoch 5/100\n",
            "259/259 [==============================] - 0s 2ms/step - loss: 0.4587 - accuracy: 0.7791\n",
            "Epoch 6/100\n",
            "259/259 [==============================] - 0s 2ms/step - loss: 0.4562 - accuracy: 0.7814\n",
            "Epoch 7/100\n",
            "259/259 [==============================] - 0s 2ms/step - loss: 0.4526 - accuracy: 0.7857\n",
            "Epoch 8/100\n",
            "259/259 [==============================] - 0s 2ms/step - loss: 0.4509 - accuracy: 0.7843\n",
            "Epoch 9/100\n",
            "259/259 [==============================] - 0s 2ms/step - loss: 0.4487 - accuracy: 0.7893\n",
            "Epoch 10/100\n",
            "259/259 [==============================] - 0s 2ms/step - loss: 0.4459 - accuracy: 0.7910\n",
            "Epoch 11/100\n",
            "259/259 [==============================] - 0s 1ms/step - loss: 0.4434 - accuracy: 0.7924\n",
            "Epoch 12/100\n",
            "259/259 [==============================] - 0s 2ms/step - loss: 0.4396 - accuracy: 0.7926\n",
            "Epoch 13/100\n",
            "259/259 [==============================] - 0s 2ms/step - loss: 0.4377 - accuracy: 0.7954\n",
            "Epoch 14/100\n",
            "259/259 [==============================] - 0s 2ms/step - loss: 0.4354 - accuracy: 0.7938\n",
            "Epoch 15/100\n",
            "259/259 [==============================] - 0s 2ms/step - loss: 0.4334 - accuracy: 0.7988\n",
            "Epoch 16/100\n",
            "259/259 [==============================] - 0s 2ms/step - loss: 0.4302 - accuracy: 0.7966\n",
            "Epoch 17/100\n",
            "259/259 [==============================] - 0s 2ms/step - loss: 0.4283 - accuracy: 0.7994\n",
            "Epoch 18/100\n",
            "259/259 [==============================] - 0s 2ms/step - loss: 0.4261 - accuracy: 0.8033\n",
            "Epoch 19/100\n",
            "259/259 [==============================] - 0s 2ms/step - loss: 0.4258 - accuracy: 0.8011\n",
            "Epoch 20/100\n",
            "259/259 [==============================] - 0s 1ms/step - loss: 0.4231 - accuracy: 0.8044\n",
            "Epoch 21/100\n",
            "259/259 [==============================] - 0s 2ms/step - loss: 0.4220 - accuracy: 0.8061\n",
            "Epoch 22/100\n",
            "259/259 [==============================] - 0s 2ms/step - loss: 0.4208 - accuracy: 0.8052\n",
            "Epoch 23/100\n",
            "259/259 [==============================] - 0s 2ms/step - loss: 0.4196 - accuracy: 0.8070\n",
            "Epoch 24/100\n",
            "259/259 [==============================] - 0s 2ms/step - loss: 0.4189 - accuracy: 0.8053\n",
            "Epoch 25/100\n",
            "259/259 [==============================] - 0s 2ms/step - loss: 0.4165 - accuracy: 0.8090\n",
            "Epoch 26/100\n",
            "259/259 [==============================] - 0s 2ms/step - loss: 0.4155 - accuracy: 0.8084\n",
            "Epoch 27/100\n",
            "259/259 [==============================] - 0s 2ms/step - loss: 0.4143 - accuracy: 0.8080\n",
            "Epoch 28/100\n",
            "259/259 [==============================] - 0s 2ms/step - loss: 0.4128 - accuracy: 0.8098\n",
            "Epoch 29/100\n",
            "259/259 [==============================] - 0s 2ms/step - loss: 0.4122 - accuracy: 0.8116\n",
            "Epoch 30/100\n",
            "259/259 [==============================] - 0s 1ms/step - loss: 0.4109 - accuracy: 0.8139\n",
            "Epoch 31/100\n",
            "259/259 [==============================] - 0s 2ms/step - loss: 0.4086 - accuracy: 0.8133\n",
            "Epoch 32/100\n",
            "259/259 [==============================] - 0s 2ms/step - loss: 0.4081 - accuracy: 0.8145\n",
            "Epoch 33/100\n",
            "259/259 [==============================] - 0s 2ms/step - loss: 0.4083 - accuracy: 0.8149\n",
            "Epoch 34/100\n",
            "259/259 [==============================] - 0s 2ms/step - loss: 0.4044 - accuracy: 0.8162\n",
            "Epoch 35/100\n",
            "259/259 [==============================] - 0s 2ms/step - loss: 0.4034 - accuracy: 0.8182\n",
            "Epoch 36/100\n",
            "259/259 [==============================] - 0s 2ms/step - loss: 0.4032 - accuracy: 0.8155\n",
            "Epoch 37/100\n",
            "259/259 [==============================] - 0s 2ms/step - loss: 0.4014 - accuracy: 0.8153\n",
            "Epoch 38/100\n",
            "259/259 [==============================] - 0s 2ms/step - loss: 0.3999 - accuracy: 0.8199\n",
            "Epoch 39/100\n",
            "259/259 [==============================] - 0s 2ms/step - loss: 0.4009 - accuracy: 0.8199\n",
            "Epoch 40/100\n",
            "259/259 [==============================] - 0s 2ms/step - loss: 0.3979 - accuracy: 0.8201\n",
            "Epoch 41/100\n",
            "259/259 [==============================] - 0s 2ms/step - loss: 0.3979 - accuracy: 0.8248\n",
            "Epoch 42/100\n",
            "259/259 [==============================] - 0s 2ms/step - loss: 0.3961 - accuracy: 0.8235\n",
            "Epoch 43/100\n",
            "259/259 [==============================] - 0s 2ms/step - loss: 0.3952 - accuracy: 0.8219\n",
            "Epoch 44/100\n",
            "259/259 [==============================] - 0s 2ms/step - loss: 0.3938 - accuracy: 0.8231\n",
            "Epoch 45/100\n",
            "259/259 [==============================] - 0s 2ms/step - loss: 0.3931 - accuracy: 0.8241\n",
            "Epoch 46/100\n",
            "259/259 [==============================] - 0s 2ms/step - loss: 0.3918 - accuracy: 0.8248\n",
            "Epoch 47/100\n",
            "259/259 [==============================] - 0s 2ms/step - loss: 0.3914 - accuracy: 0.8245\n",
            "Epoch 48/100\n",
            "259/259 [==============================] - 0s 2ms/step - loss: 0.3890 - accuracy: 0.8264\n",
            "Epoch 49/100\n",
            "259/259 [==============================] - 0s 2ms/step - loss: 0.3887 - accuracy: 0.8265\n",
            "Epoch 50/100\n",
            "259/259 [==============================] - 0s 2ms/step - loss: 0.3869 - accuracy: 0.8299\n",
            "Epoch 51/100\n",
            "259/259 [==============================] - 0s 2ms/step - loss: 0.3878 - accuracy: 0.8240\n",
            "Epoch 52/100\n",
            "259/259 [==============================] - 0s 2ms/step - loss: 0.3861 - accuracy: 0.8289\n",
            "Epoch 53/100\n",
            "259/259 [==============================] - 0s 2ms/step - loss: 0.3843 - accuracy: 0.8315\n",
            "Epoch 54/100\n",
            "259/259 [==============================] - 0s 2ms/step - loss: 0.3843 - accuracy: 0.8304\n",
            "Epoch 55/100\n",
            "259/259 [==============================] - 0s 2ms/step - loss: 0.3846 - accuracy: 0.8288\n",
            "Epoch 56/100\n",
            "259/259 [==============================] - 0s 2ms/step - loss: 0.3816 - accuracy: 0.8304\n",
            "Epoch 57/100\n",
            "259/259 [==============================] - 0s 2ms/step - loss: 0.3835 - accuracy: 0.8309\n",
            "Epoch 58/100\n",
            "259/259 [==============================] - 0s 2ms/step - loss: 0.3811 - accuracy: 0.8344\n",
            "Epoch 59/100\n",
            "259/259 [==============================] - 0s 2ms/step - loss: 0.3801 - accuracy: 0.8338\n",
            "Epoch 60/100\n",
            "259/259 [==============================] - 0s 1ms/step - loss: 0.3781 - accuracy: 0.8354\n",
            "Epoch 61/100\n",
            "259/259 [==============================] - 0s 2ms/step - loss: 0.3781 - accuracy: 0.8334\n",
            "Epoch 62/100\n",
            "259/259 [==============================] - 0s 2ms/step - loss: 0.3780 - accuracy: 0.8308\n",
            "Epoch 63/100\n",
            "259/259 [==============================] - 0s 2ms/step - loss: 0.3761 - accuracy: 0.8329\n",
            "Epoch 64/100\n",
            "259/259 [==============================] - 0s 2ms/step - loss: 0.3751 - accuracy: 0.8372\n",
            "Epoch 65/100\n",
            "259/259 [==============================] - 0s 2ms/step - loss: 0.3752 - accuracy: 0.8331\n",
            "Epoch 66/100\n",
            "259/259 [==============================] - 0s 2ms/step - loss: 0.3739 - accuracy: 0.8341\n",
            "Epoch 67/100\n",
            "259/259 [==============================] - 0s 1ms/step - loss: 0.3743 - accuracy: 0.8351\n",
            "Epoch 68/100\n",
            "259/259 [==============================] - 0s 2ms/step - loss: 0.3724 - accuracy: 0.8354\n",
            "Epoch 69/100\n",
            "259/259 [==============================] - 0s 2ms/step - loss: 0.3723 - accuracy: 0.8390\n",
            "Epoch 70/100\n",
            "259/259 [==============================] - 0s 2ms/step - loss: 0.3704 - accuracy: 0.8407\n",
            "Epoch 71/100\n",
            "259/259 [==============================] - 0s 2ms/step - loss: 0.3716 - accuracy: 0.8345\n",
            "Epoch 72/100\n",
            "259/259 [==============================] - 0s 2ms/step - loss: 0.3716 - accuracy: 0.8375\n",
            "Epoch 73/100\n",
            "259/259 [==============================] - 0s 2ms/step - loss: 0.3698 - accuracy: 0.8385\n",
            "Epoch 74/100\n",
            "259/259 [==============================] - 0s 2ms/step - loss: 0.3699 - accuracy: 0.8383\n",
            "Epoch 75/100\n",
            "259/259 [==============================] - 0s 2ms/step - loss: 0.3681 - accuracy: 0.8414\n",
            "Epoch 76/100\n",
            "259/259 [==============================] - 0s 2ms/step - loss: 0.3685 - accuracy: 0.8373\n",
            "Epoch 77/100\n",
            "259/259 [==============================] - 0s 2ms/step - loss: 0.3679 - accuracy: 0.8387\n",
            "Epoch 78/100\n",
            "259/259 [==============================] - 0s 2ms/step - loss: 0.3668 - accuracy: 0.8393\n",
            "Epoch 79/100\n",
            "259/259 [==============================] - 0s 2ms/step - loss: 0.3680 - accuracy: 0.8381\n",
            "Epoch 80/100\n",
            "259/259 [==============================] - 0s 2ms/step - loss: 0.3666 - accuracy: 0.8344\n",
            "Epoch 81/100\n",
            "259/259 [==============================] - 0s 2ms/step - loss: 0.3660 - accuracy: 0.8379\n",
            "Epoch 82/100\n",
            "259/259 [==============================] - 0s 2ms/step - loss: 0.3658 - accuracy: 0.8389\n",
            "Epoch 83/100\n",
            "259/259 [==============================] - 0s 2ms/step - loss: 0.3647 - accuracy: 0.8383\n",
            "Epoch 84/100\n",
            "259/259 [==============================] - 0s 2ms/step - loss: 0.3630 - accuracy: 0.8392\n",
            "Epoch 85/100\n",
            "259/259 [==============================] - 0s 2ms/step - loss: 0.3649 - accuracy: 0.8386\n",
            "Epoch 86/100\n",
            "259/259 [==============================] - 0s 2ms/step - loss: 0.3637 - accuracy: 0.8392\n",
            "Epoch 87/100\n",
            "259/259 [==============================] - 0s 2ms/step - loss: 0.3642 - accuracy: 0.8398\n",
            "Epoch 88/100\n",
            "259/259 [==============================] - 0s 2ms/step - loss: 0.3625 - accuracy: 0.8408\n",
            "Epoch 89/100\n",
            "259/259 [==============================] - 0s 2ms/step - loss: 0.3606 - accuracy: 0.8408\n",
            "Epoch 90/100\n",
            "259/259 [==============================] - 0s 2ms/step - loss: 0.3600 - accuracy: 0.8412\n",
            "Epoch 91/100\n",
            "259/259 [==============================] - 0s 2ms/step - loss: 0.3615 - accuracy: 0.8427\n",
            "Epoch 92/100\n",
            "259/259 [==============================] - 0s 2ms/step - loss: 0.3593 - accuracy: 0.8429\n",
            "Epoch 93/100\n",
            "259/259 [==============================] - 0s 2ms/step - loss: 0.3596 - accuracy: 0.8375\n",
            "Epoch 94/100\n",
            "259/259 [==============================] - 0s 2ms/step - loss: 0.3586 - accuracy: 0.8412\n",
            "Epoch 95/100\n",
            "259/259 [==============================] - 0s 2ms/step - loss: 0.3591 - accuracy: 0.8424\n",
            "Epoch 96/100\n",
            "259/259 [==============================] - 0s 2ms/step - loss: 0.3571 - accuracy: 0.8398\n",
            "Epoch 97/100\n",
            "259/259 [==============================] - 0s 2ms/step - loss: 0.3564 - accuracy: 0.8427\n",
            "Epoch 98/100\n",
            "259/259 [==============================] - 0s 1ms/step - loss: 0.3558 - accuracy: 0.8433\n",
            "Epoch 99/100\n",
            "259/259 [==============================] - 0s 2ms/step - loss: 0.3579 - accuracy: 0.8430\n",
            "Epoch 100/100\n",
            "259/259 [==============================] - 0s 2ms/step - loss: 0.3554 - accuracy: 0.8408\n",
            "65/65 [==============================] - 0s 1ms/step - loss: 0.4750 - accuracy: 0.7865\n",
            "[0.4749710261821747, 0.7865440249443054]\n",
            "Classification Report: \n",
            "               precision    recall  f1-score   support\n",
            "\n",
            "           0       0.80      0.76      0.78      1033\n",
            "           1       0.77      0.82      0.79      1033\n",
            "\n",
            "    accuracy                           0.79      2066\n",
            "   macro avg       0.79      0.79      0.79      2066\n",
            "weighted avg       0.79      0.79      0.79      2066\n",
            "\n"
          ],
          "name": "stdout"
        }
      ]
    },
    {
      "cell_type": "markdown",
      "metadata": {
        "id": "NELkN0Hd0L6k"
      },
      "source": [
        "SMOT Oversampling increases f1 score of minority class 1 from 0.56 to 0.79 (huge improvement) Also over all accuracy improves from 0.78 to 0.79"
      ]
    },
    {
      "cell_type": "markdown",
      "metadata": {
        "id": "SPrudVQg4J7Q"
      },
      "source": [
        "**Use of Ensemble with undersampling**"
      ]
    },
    {
      "cell_type": "code",
      "metadata": {
        "colab": {
          "base_uri": "https://localhost:8080/"
        },
        "id": "drU3QJMx3qdm",
        "outputId": "01f5f1b2-4c47-47bf-94ce-9ebe8dfcd10b"
      },
      "source": [
        "df2.Churn.value_counts()"
      ],
      "execution_count": 158,
      "outputs": [
        {
          "output_type": "execute_result",
          "data": {
            "text/plain": [
              "0    5163\n",
              "1    1869\n",
              "Name: Churn, dtype: int64"
            ]
          },
          "metadata": {
            "tags": []
          },
          "execution_count": 158
        }
      ]
    },
    {
      "cell_type": "code",
      "metadata": {
        "id": "vou2uFjX4P8T"
      },
      "source": [
        "# Regain Original features and labels\n",
        "X = df2.drop('Churn',axis='columns')\n",
        "y = df2['Churn']"
      ],
      "execution_count": 159,
      "outputs": []
    },
    {
      "cell_type": "code",
      "metadata": {
        "id": "_0u-1ZMT4SZH"
      },
      "source": [
        "from sklearn.model_selection import train_test_split\n",
        "X_train, X_test, y_train, y_test = train_test_split(X, y, test_size=0.2, random_state=15, stratify=y)"
      ],
      "execution_count": 160,
      "outputs": []
    },
    {
      "cell_type": "code",
      "metadata": {
        "colab": {
          "base_uri": "https://localhost:8080/"
        },
        "id": "XNaaFDxl4Ulp",
        "outputId": "2ad50fd8-84ff-4a84-9a84-77d5ab6c3cd5"
      },
      "source": [
        "y_train.value_counts()"
      ],
      "execution_count": 161,
      "outputs": [
        {
          "output_type": "execute_result",
          "data": {
            "text/plain": [
              "0    4130\n",
              "1    1495\n",
              "Name: Churn, dtype: int64"
            ]
          },
          "metadata": {
            "tags": []
          },
          "execution_count": 161
        }
      ]
    },
    {
      "cell_type": "code",
      "metadata": {
        "id": "UmWR_xIc4W_P"
      },
      "source": [
        "df3 = X_train.copy()\n",
        "df3['Churn'] = y_train"
      ],
      "execution_count": 162,
      "outputs": []
    },
    {
      "cell_type": "code",
      "metadata": {
        "colab": {
          "base_uri": "https://localhost:8080/",
          "height": 252
        },
        "id": "SJesdCXk4Zqu",
        "outputId": "05955c22-0064-48e0-e477-c2b8cedc0548"
      },
      "source": [
        "df3.head()"
      ],
      "execution_count": 163,
      "outputs": [
        {
          "output_type": "execute_result",
          "data": {
            "text/html": [
              "<div>\n",
              "<style scoped>\n",
              "    .dataframe tbody tr th:only-of-type {\n",
              "        vertical-align: middle;\n",
              "    }\n",
              "\n",
              "    .dataframe tbody tr th {\n",
              "        vertical-align: top;\n",
              "    }\n",
              "\n",
              "    .dataframe thead th {\n",
              "        text-align: right;\n",
              "    }\n",
              "</style>\n",
              "<table border=\"1\" class=\"dataframe\">\n",
              "  <thead>\n",
              "    <tr style=\"text-align: right;\">\n",
              "      <th></th>\n",
              "      <th>gender</th>\n",
              "      <th>SeniorCitizen</th>\n",
              "      <th>Partner</th>\n",
              "      <th>Dependents</th>\n",
              "      <th>tenure</th>\n",
              "      <th>PhoneService</th>\n",
              "      <th>MultipleLines</th>\n",
              "      <th>OnlineSecurity</th>\n",
              "      <th>OnlineBackup</th>\n",
              "      <th>DeviceProtection</th>\n",
              "      <th>TechSupport</th>\n",
              "      <th>StreamingTV</th>\n",
              "      <th>StreamingMovies</th>\n",
              "      <th>PaperlessBilling</th>\n",
              "      <th>MonthlyCharges</th>\n",
              "      <th>TotalCharges</th>\n",
              "      <th>InternetService_DSL</th>\n",
              "      <th>InternetService_Fiber optic</th>\n",
              "      <th>InternetService_No</th>\n",
              "      <th>Contract_Month-to-month</th>\n",
              "      <th>Contract_One year</th>\n",
              "      <th>Contract_Two year</th>\n",
              "      <th>PaymentMethod_Bank transfer (automatic)</th>\n",
              "      <th>PaymentMethod_Credit card (automatic)</th>\n",
              "      <th>PaymentMethod_Electronic check</th>\n",
              "      <th>PaymentMethod_Mailed check</th>\n",
              "      <th>Churn</th>\n",
              "    </tr>\n",
              "  </thead>\n",
              "  <tbody>\n",
              "    <tr>\n",
              "      <th>684</th>\n",
              "      <td>1</td>\n",
              "      <td>0</td>\n",
              "      <td>0</td>\n",
              "      <td>0</td>\n",
              "      <td>0.000000</td>\n",
              "      <td>1</td>\n",
              "      <td>0</td>\n",
              "      <td>0</td>\n",
              "      <td>0</td>\n",
              "      <td>0</td>\n",
              "      <td>0</td>\n",
              "      <td>0</td>\n",
              "      <td>0</td>\n",
              "      <td>0</td>\n",
              "      <td>0.525871</td>\n",
              "      <td>0.006035</td>\n",
              "      <td>0</td>\n",
              "      <td>1</td>\n",
              "      <td>0</td>\n",
              "      <td>1</td>\n",
              "      <td>0</td>\n",
              "      <td>0</td>\n",
              "      <td>0</td>\n",
              "      <td>0</td>\n",
              "      <td>0</td>\n",
              "      <td>1</td>\n",
              "      <td>0</td>\n",
              "    </tr>\n",
              "    <tr>\n",
              "      <th>2446</th>\n",
              "      <td>1</td>\n",
              "      <td>0</td>\n",
              "      <td>0</td>\n",
              "      <td>0</td>\n",
              "      <td>0.239437</td>\n",
              "      <td>1</td>\n",
              "      <td>1</td>\n",
              "      <td>0</td>\n",
              "      <td>1</td>\n",
              "      <td>0</td>\n",
              "      <td>0</td>\n",
              "      <td>1</td>\n",
              "      <td>0</td>\n",
              "      <td>1</td>\n",
              "      <td>0.713930</td>\n",
              "      <td>0.174077</td>\n",
              "      <td>0</td>\n",
              "      <td>1</td>\n",
              "      <td>0</td>\n",
              "      <td>1</td>\n",
              "      <td>0</td>\n",
              "      <td>0</td>\n",
              "      <td>0</td>\n",
              "      <td>1</td>\n",
              "      <td>0</td>\n",
              "      <td>0</td>\n",
              "      <td>1</td>\n",
              "    </tr>\n",
              "    <tr>\n",
              "      <th>1680</th>\n",
              "      <td>0</td>\n",
              "      <td>0</td>\n",
              "      <td>1</td>\n",
              "      <td>1</td>\n",
              "      <td>0.774648</td>\n",
              "      <td>1</td>\n",
              "      <td>1</td>\n",
              "      <td>0</td>\n",
              "      <td>0</td>\n",
              "      <td>0</td>\n",
              "      <td>0</td>\n",
              "      <td>0</td>\n",
              "      <td>0</td>\n",
              "      <td>1</td>\n",
              "      <td>0.061692</td>\n",
              "      <td>0.163034</td>\n",
              "      <td>0</td>\n",
              "      <td>0</td>\n",
              "      <td>1</td>\n",
              "      <td>0</td>\n",
              "      <td>1</td>\n",
              "      <td>0</td>\n",
              "      <td>0</td>\n",
              "      <td>0</td>\n",
              "      <td>0</td>\n",
              "      <td>1</td>\n",
              "      <td>0</td>\n",
              "    </tr>\n",
              "    <tr>\n",
              "      <th>2220</th>\n",
              "      <td>0</td>\n",
              "      <td>0</td>\n",
              "      <td>1</td>\n",
              "      <td>0</td>\n",
              "      <td>1.000000</td>\n",
              "      <td>1</td>\n",
              "      <td>0</td>\n",
              "      <td>1</td>\n",
              "      <td>1</td>\n",
              "      <td>0</td>\n",
              "      <td>1</td>\n",
              "      <td>1</td>\n",
              "      <td>1</td>\n",
              "      <td>1</td>\n",
              "      <td>0.607960</td>\n",
              "      <td>0.661718</td>\n",
              "      <td>1</td>\n",
              "      <td>0</td>\n",
              "      <td>0</td>\n",
              "      <td>0</td>\n",
              "      <td>0</td>\n",
              "      <td>1</td>\n",
              "      <td>1</td>\n",
              "      <td>0</td>\n",
              "      <td>0</td>\n",
              "      <td>0</td>\n",
              "      <td>0</td>\n",
              "    </tr>\n",
              "    <tr>\n",
              "      <th>2842</th>\n",
              "      <td>1</td>\n",
              "      <td>0</td>\n",
              "      <td>0</td>\n",
              "      <td>0</td>\n",
              "      <td>0.042254</td>\n",
              "      <td>0</td>\n",
              "      <td>0</td>\n",
              "      <td>1</td>\n",
              "      <td>0</td>\n",
              "      <td>1</td>\n",
              "      <td>1</td>\n",
              "      <td>0</td>\n",
              "      <td>1</td>\n",
              "      <td>0</td>\n",
              "      <td>0.298507</td>\n",
              "      <td>0.021169</td>\n",
              "      <td>1</td>\n",
              "      <td>0</td>\n",
              "      <td>0</td>\n",
              "      <td>1</td>\n",
              "      <td>0</td>\n",
              "      <td>0</td>\n",
              "      <td>0</td>\n",
              "      <td>0</td>\n",
              "      <td>0</td>\n",
              "      <td>1</td>\n",
              "      <td>0</td>\n",
              "    </tr>\n",
              "  </tbody>\n",
              "</table>\n",
              "</div>"
            ],
            "text/plain": [
              "      gender  SeniorCitizen  ...  PaymentMethod_Mailed check  Churn\n",
              "684        1              0  ...                           1      0\n",
              "2446       1              0  ...                           0      1\n",
              "1680       0              0  ...                           1      0\n",
              "2220       0              0  ...                           0      0\n",
              "2842       1              0  ...                           1      0\n",
              "\n",
              "[5 rows x 27 columns]"
            ]
          },
          "metadata": {
            "tags": []
          },
          "execution_count": 163
        }
      ]
    },
    {
      "cell_type": "code",
      "metadata": {
        "id": "VdNF5X2H4bw2"
      },
      "source": [
        "df3_class0 = df3[df3.Churn==0]\n",
        "df3_class1 = df3[df3.Churn==1]"
      ],
      "execution_count": 164,
      "outputs": []
    },
    {
      "cell_type": "code",
      "metadata": {
        "id": "tclHlPBf4eDg"
      },
      "source": [
        "def get_train_batch(df_majority, df_minority, start, end):\n",
        "    df_train = pd.concat([df_majority[start:end], df_minority], axis=0)\n",
        "\n",
        "    X_train = df_train.drop('Churn', axis='columns')\n",
        "    y_train = df_train.Churn\n",
        "    return X_train, y_train"
      ],
      "execution_count": 165,
      "outputs": []
    },
    {
      "cell_type": "code",
      "metadata": {
        "colab": {
          "base_uri": "https://localhost:8080/"
        },
        "id": "xgpL26wi4gB9",
        "outputId": "7eb68688-d2e5-4a39-8cac-813f4871be1a"
      },
      "source": [
        "X_train, y_train = get_train_batch(df3_class0, df3_class1, 0, 1495)\n",
        "\n",
        "y_pred1 = ANN(X_train, y_train, X_test, y_test, 'binary_crossentropy', -1)"
      ],
      "execution_count": 167,
      "outputs": [
        {
          "output_type": "stream",
          "text": [
            "Epoch 1/100\n",
            "94/94 [==============================] - 1s 2ms/step - loss: 0.6622 - accuracy: 0.6161\n",
            "Epoch 2/100\n",
            "94/94 [==============================] - 0s 2ms/step - loss: 0.5298 - accuracy: 0.7579\n",
            "Epoch 3/100\n",
            "94/94 [==============================] - 0s 2ms/step - loss: 0.5027 - accuracy: 0.7632\n",
            "Epoch 4/100\n",
            "94/94 [==============================] - 0s 2ms/step - loss: 0.4941 - accuracy: 0.7642\n",
            "Epoch 5/100\n",
            "94/94 [==============================] - 0s 2ms/step - loss: 0.4886 - accuracy: 0.7642\n",
            "Epoch 6/100\n",
            "94/94 [==============================] - 0s 2ms/step - loss: 0.4850 - accuracy: 0.7659\n",
            "Epoch 7/100\n",
            "94/94 [==============================] - 0s 2ms/step - loss: 0.4826 - accuracy: 0.7702\n",
            "Epoch 8/100\n",
            "94/94 [==============================] - 0s 2ms/step - loss: 0.4794 - accuracy: 0.7699\n",
            "Epoch 9/100\n",
            "94/94 [==============================] - 0s 1ms/step - loss: 0.4761 - accuracy: 0.7719\n",
            "Epoch 10/100\n",
            "94/94 [==============================] - 0s 2ms/step - loss: 0.4742 - accuracy: 0.7759\n",
            "Epoch 11/100\n",
            "94/94 [==============================] - 0s 2ms/step - loss: 0.4719 - accuracy: 0.7716\n",
            "Epoch 12/100\n",
            "94/94 [==============================] - 0s 1ms/step - loss: 0.4712 - accuracy: 0.7746\n",
            "Epoch 13/100\n",
            "94/94 [==============================] - 0s 2ms/step - loss: 0.4700 - accuracy: 0.7746\n",
            "Epoch 14/100\n",
            "94/94 [==============================] - 0s 1ms/step - loss: 0.4678 - accuracy: 0.7793\n",
            "Epoch 15/100\n",
            "94/94 [==============================] - 0s 2ms/step - loss: 0.4671 - accuracy: 0.7749\n",
            "Epoch 16/100\n",
            "94/94 [==============================] - 0s 2ms/step - loss: 0.4655 - accuracy: 0.7769\n",
            "Epoch 17/100\n",
            "94/94 [==============================] - 0s 1ms/step - loss: 0.4639 - accuracy: 0.7809\n",
            "Epoch 18/100\n",
            "94/94 [==============================] - 0s 2ms/step - loss: 0.4627 - accuracy: 0.7776\n",
            "Epoch 19/100\n",
            "94/94 [==============================] - 0s 2ms/step - loss: 0.4610 - accuracy: 0.7826\n",
            "Epoch 20/100\n",
            "94/94 [==============================] - 0s 2ms/step - loss: 0.4622 - accuracy: 0.7796\n",
            "Epoch 21/100\n",
            "94/94 [==============================] - 0s 2ms/step - loss: 0.4577 - accuracy: 0.7779\n",
            "Epoch 22/100\n",
            "94/94 [==============================] - 0s 1ms/step - loss: 0.4580 - accuracy: 0.7829\n",
            "Epoch 23/100\n",
            "94/94 [==============================] - 0s 2ms/step - loss: 0.4568 - accuracy: 0.7793\n",
            "Epoch 24/100\n",
            "94/94 [==============================] - 0s 2ms/step - loss: 0.4548 - accuracy: 0.7836\n",
            "Epoch 25/100\n",
            "94/94 [==============================] - 0s 2ms/step - loss: 0.4528 - accuracy: 0.7886\n",
            "Epoch 26/100\n",
            "94/94 [==============================] - 0s 1ms/step - loss: 0.4532 - accuracy: 0.7829\n",
            "Epoch 27/100\n",
            "94/94 [==============================] - 0s 1ms/step - loss: 0.4505 - accuracy: 0.7870\n",
            "Epoch 28/100\n",
            "94/94 [==============================] - 0s 1ms/step - loss: 0.4486 - accuracy: 0.7856\n",
            "Epoch 29/100\n",
            "94/94 [==============================] - 0s 2ms/step - loss: 0.4494 - accuracy: 0.7910\n",
            "Epoch 30/100\n",
            "94/94 [==============================] - 0s 2ms/step - loss: 0.4478 - accuracy: 0.7876\n",
            "Epoch 31/100\n",
            "94/94 [==============================] - 0s 1ms/step - loss: 0.4473 - accuracy: 0.7856\n",
            "Epoch 32/100\n",
            "94/94 [==============================] - 0s 1ms/step - loss: 0.4447 - accuracy: 0.7913\n",
            "Epoch 33/100\n",
            "94/94 [==============================] - 0s 2ms/step - loss: 0.4435 - accuracy: 0.7916\n",
            "Epoch 34/100\n",
            "94/94 [==============================] - 0s 2ms/step - loss: 0.4425 - accuracy: 0.7913\n",
            "Epoch 35/100\n",
            "94/94 [==============================] - 0s 1ms/step - loss: 0.4424 - accuracy: 0.7910\n",
            "Epoch 36/100\n",
            "94/94 [==============================] - 0s 2ms/step - loss: 0.4392 - accuracy: 0.7940\n",
            "Epoch 37/100\n",
            "94/94 [==============================] - 0s 2ms/step - loss: 0.4376 - accuracy: 0.7973\n",
            "Epoch 38/100\n",
            "94/94 [==============================] - 0s 2ms/step - loss: 0.4374 - accuracy: 0.7957\n",
            "Epoch 39/100\n",
            "94/94 [==============================] - 0s 2ms/step - loss: 0.4368 - accuracy: 0.7960\n",
            "Epoch 40/100\n",
            "94/94 [==============================] - 0s 1ms/step - loss: 0.4358 - accuracy: 0.7950\n",
            "Epoch 41/100\n",
            "94/94 [==============================] - 0s 2ms/step - loss: 0.4350 - accuracy: 0.7960\n",
            "Epoch 42/100\n",
            "94/94 [==============================] - 0s 1ms/step - loss: 0.4326 - accuracy: 0.7960\n",
            "Epoch 43/100\n",
            "94/94 [==============================] - 0s 2ms/step - loss: 0.4338 - accuracy: 0.7943\n",
            "Epoch 44/100\n",
            "94/94 [==============================] - 0s 2ms/step - loss: 0.4314 - accuracy: 0.8030\n",
            "Epoch 45/100\n",
            "94/94 [==============================] - 0s 2ms/step - loss: 0.4291 - accuracy: 0.8003\n",
            "Epoch 46/100\n",
            "94/94 [==============================] - 0s 2ms/step - loss: 0.4302 - accuracy: 0.7990\n",
            "Epoch 47/100\n",
            "94/94 [==============================] - 0s 1ms/step - loss: 0.4310 - accuracy: 0.7957\n",
            "Epoch 48/100\n",
            "94/94 [==============================] - 0s 1ms/step - loss: 0.4276 - accuracy: 0.8013\n",
            "Epoch 49/100\n",
            "94/94 [==============================] - 0s 2ms/step - loss: 0.4289 - accuracy: 0.8030\n",
            "Epoch 50/100\n",
            "94/94 [==============================] - 0s 1ms/step - loss: 0.4274 - accuracy: 0.8010\n",
            "Epoch 51/100\n",
            "94/94 [==============================] - 0s 1ms/step - loss: 0.4261 - accuracy: 0.8000\n",
            "Epoch 52/100\n",
            "94/94 [==============================] - 0s 2ms/step - loss: 0.4263 - accuracy: 0.8037\n",
            "Epoch 53/100\n",
            "94/94 [==============================] - 0s 2ms/step - loss: 0.4246 - accuracy: 0.8043\n",
            "Epoch 54/100\n",
            "94/94 [==============================] - 0s 2ms/step - loss: 0.4227 - accuracy: 0.8033\n",
            "Epoch 55/100\n",
            "94/94 [==============================] - 0s 2ms/step - loss: 0.4206 - accuracy: 0.8070\n",
            "Epoch 56/100\n",
            "94/94 [==============================] - 0s 2ms/step - loss: 0.4197 - accuracy: 0.8057\n",
            "Epoch 57/100\n",
            "94/94 [==============================] - 0s 2ms/step - loss: 0.4201 - accuracy: 0.8120\n",
            "Epoch 58/100\n",
            "94/94 [==============================] - 0s 2ms/step - loss: 0.4192 - accuracy: 0.8064\n",
            "Epoch 59/100\n",
            "94/94 [==============================] - 0s 1ms/step - loss: 0.4190 - accuracy: 0.8067\n",
            "Epoch 60/100\n",
            "94/94 [==============================] - 0s 2ms/step - loss: 0.4171 - accuracy: 0.8067\n",
            "Epoch 61/100\n",
            "94/94 [==============================] - 0s 2ms/step - loss: 0.4165 - accuracy: 0.8097\n",
            "Epoch 62/100\n",
            "94/94 [==============================] - 0s 2ms/step - loss: 0.4159 - accuracy: 0.8090\n",
            "Epoch 63/100\n",
            "94/94 [==============================] - 0s 2ms/step - loss: 0.4156 - accuracy: 0.8084\n",
            "Epoch 64/100\n",
            "94/94 [==============================] - 0s 2ms/step - loss: 0.4155 - accuracy: 0.8077\n",
            "Epoch 65/100\n",
            "94/94 [==============================] - 0s 1ms/step - loss: 0.4154 - accuracy: 0.8084\n",
            "Epoch 66/100\n",
            "94/94 [==============================] - 0s 2ms/step - loss: 0.4125 - accuracy: 0.8097\n",
            "Epoch 67/100\n",
            "94/94 [==============================] - 0s 2ms/step - loss: 0.4120 - accuracy: 0.8087\n",
            "Epoch 68/100\n",
            "94/94 [==============================] - 0s 2ms/step - loss: 0.4102 - accuracy: 0.8130\n",
            "Epoch 69/100\n",
            "94/94 [==============================] - 0s 2ms/step - loss: 0.4112 - accuracy: 0.8120\n",
            "Epoch 70/100\n",
            "94/94 [==============================] - 0s 1ms/step - loss: 0.4088 - accuracy: 0.8110\n",
            "Epoch 71/100\n",
            "94/94 [==============================] - 0s 2ms/step - loss: 0.4075 - accuracy: 0.8161\n",
            "Epoch 72/100\n",
            "94/94 [==============================] - 0s 1ms/step - loss: 0.4088 - accuracy: 0.8161\n",
            "Epoch 73/100\n",
            "94/94 [==============================] - 0s 2ms/step - loss: 0.4063 - accuracy: 0.8114\n",
            "Epoch 74/100\n",
            "94/94 [==============================] - 0s 2ms/step - loss: 0.4105 - accuracy: 0.8104\n",
            "Epoch 75/100\n",
            "94/94 [==============================] - 0s 2ms/step - loss: 0.4036 - accuracy: 0.8127\n",
            "Epoch 76/100\n",
            "94/94 [==============================] - 0s 2ms/step - loss: 0.4064 - accuracy: 0.8151\n",
            "Epoch 77/100\n",
            "94/94 [==============================] - 0s 2ms/step - loss: 0.4056 - accuracy: 0.8114\n",
            "Epoch 78/100\n",
            "94/94 [==============================] - 0s 1ms/step - loss: 0.4051 - accuracy: 0.8124\n",
            "Epoch 79/100\n",
            "94/94 [==============================] - 0s 2ms/step - loss: 0.4020 - accuracy: 0.8187\n",
            "Epoch 80/100\n",
            "94/94 [==============================] - 0s 1ms/step - loss: 0.4016 - accuracy: 0.8164\n",
            "Epoch 81/100\n",
            "94/94 [==============================] - 0s 2ms/step - loss: 0.4018 - accuracy: 0.8181\n",
            "Epoch 82/100\n",
            "94/94 [==============================] - 0s 2ms/step - loss: 0.4009 - accuracy: 0.8124\n",
            "Epoch 83/100\n",
            "94/94 [==============================] - 0s 2ms/step - loss: 0.3986 - accuracy: 0.8187\n",
            "Epoch 84/100\n",
            "94/94 [==============================] - 0s 1ms/step - loss: 0.3997 - accuracy: 0.8164\n",
            "Epoch 85/100\n",
            "94/94 [==============================] - 0s 2ms/step - loss: 0.3964 - accuracy: 0.8171\n",
            "Epoch 86/100\n",
            "94/94 [==============================] - 0s 2ms/step - loss: 0.3978 - accuracy: 0.8187\n",
            "Epoch 87/100\n",
            "94/94 [==============================] - 0s 2ms/step - loss: 0.3953 - accuracy: 0.8174\n",
            "Epoch 88/100\n",
            "94/94 [==============================] - 0s 2ms/step - loss: 0.3961 - accuracy: 0.8174\n",
            "Epoch 89/100\n",
            "94/94 [==============================] - 0s 2ms/step - loss: 0.3970 - accuracy: 0.8184\n",
            "Epoch 90/100\n",
            "94/94 [==============================] - 0s 2ms/step - loss: 0.3921 - accuracy: 0.8211\n",
            "Epoch 91/100\n",
            "94/94 [==============================] - 0s 2ms/step - loss: 0.3946 - accuracy: 0.8181\n",
            "Epoch 92/100\n",
            "94/94 [==============================] - 0s 2ms/step - loss: 0.3973 - accuracy: 0.8221\n",
            "Epoch 93/100\n",
            "94/94 [==============================] - 0s 2ms/step - loss: 0.3925 - accuracy: 0.8254\n",
            "Epoch 94/100\n",
            "94/94 [==============================] - 0s 2ms/step - loss: 0.3897 - accuracy: 0.8264\n",
            "Epoch 95/100\n",
            "94/94 [==============================] - 0s 2ms/step - loss: 0.3915 - accuracy: 0.8221\n",
            "Epoch 96/100\n",
            "94/94 [==============================] - 0s 2ms/step - loss: 0.3878 - accuracy: 0.8227\n",
            "Epoch 97/100\n",
            "94/94 [==============================] - 0s 2ms/step - loss: 0.3897 - accuracy: 0.8244\n",
            "Epoch 98/100\n",
            "94/94 [==============================] - 0s 2ms/step - loss: 0.3889 - accuracy: 0.8244\n",
            "Epoch 99/100\n",
            "94/94 [==============================] - 0s 2ms/step - loss: 0.3868 - accuracy: 0.8234\n",
            "Epoch 100/100\n",
            "94/94 [==============================] - 0s 2ms/step - loss: 0.3908 - accuracy: 0.8207\n",
            "44/44 [==============================] - 0s 1ms/step - loss: 0.6390 - accuracy: 0.7079\n",
            "[0.6389570236206055, 0.7078891396522522]\n",
            "Classification Report: \n",
            "               precision    recall  f1-score   support\n",
            "\n",
            "           0       0.90      0.68      0.77      1033\n",
            "           1       0.47      0.79      0.59       374\n",
            "\n",
            "    accuracy                           0.71      1407\n",
            "   macro avg       0.68      0.73      0.68      1407\n",
            "weighted avg       0.78      0.71      0.72      1407\n",
            "\n"
          ],
          "name": "stdout"
        }
      ]
    },
    {
      "cell_type": "code",
      "metadata": {
        "colab": {
          "base_uri": "https://localhost:8080/"
        },
        "id": "-QToc87e4iic",
        "outputId": "bdc499e0-910a-4d09-ae0f-972b7d342fab"
      },
      "source": [
        "X_train, y_train = get_train_batch(df3_class0, df3_class1, 1495, 2990)\n",
        "\n",
        "y_pred2 = ANN(X_train, y_train, X_test, y_test, 'binary_crossentropy', -1)"
      ],
      "execution_count": 168,
      "outputs": [
        {
          "output_type": "stream",
          "text": [
            "Epoch 1/100\n",
            "94/94 [==============================] - 1s 1ms/step - loss: 0.6419 - accuracy: 0.6351\n",
            "Epoch 2/100\n",
            "94/94 [==============================] - 0s 2ms/step - loss: 0.5405 - accuracy: 0.7401\n",
            "Epoch 3/100\n",
            "94/94 [==============================] - 0s 2ms/step - loss: 0.5039 - accuracy: 0.7602\n",
            "Epoch 4/100\n",
            "94/94 [==============================] - 0s 1ms/step - loss: 0.4934 - accuracy: 0.7589\n",
            "Epoch 5/100\n",
            "94/94 [==============================] - 0s 1ms/step - loss: 0.4897 - accuracy: 0.7642\n",
            "Epoch 6/100\n",
            "94/94 [==============================] - 0s 2ms/step - loss: 0.4846 - accuracy: 0.7632\n",
            "Epoch 7/100\n",
            "94/94 [==============================] - 0s 2ms/step - loss: 0.4810 - accuracy: 0.7666\n",
            "Epoch 8/100\n",
            "94/94 [==============================] - 0s 2ms/step - loss: 0.4793 - accuracy: 0.7645\n",
            "Epoch 9/100\n",
            "94/94 [==============================] - 0s 1ms/step - loss: 0.4763 - accuracy: 0.7669\n",
            "Epoch 10/100\n",
            "94/94 [==============================] - 0s 2ms/step - loss: 0.4749 - accuracy: 0.7686\n",
            "Epoch 11/100\n",
            "94/94 [==============================] - 0s 2ms/step - loss: 0.4717 - accuracy: 0.7682\n",
            "Epoch 12/100\n",
            "94/94 [==============================] - 0s 1ms/step - loss: 0.4695 - accuracy: 0.7686\n",
            "Epoch 13/100\n",
            "94/94 [==============================] - 0s 2ms/step - loss: 0.4685 - accuracy: 0.7712\n",
            "Epoch 14/100\n",
            "94/94 [==============================] - 0s 2ms/step - loss: 0.4656 - accuracy: 0.7679\n",
            "Epoch 15/100\n",
            "94/94 [==============================] - 0s 2ms/step - loss: 0.4646 - accuracy: 0.7712\n",
            "Epoch 16/100\n",
            "94/94 [==============================] - 0s 2ms/step - loss: 0.4615 - accuracy: 0.7763\n",
            "Epoch 17/100\n",
            "94/94 [==============================] - 0s 1ms/step - loss: 0.4606 - accuracy: 0.7746\n",
            "Epoch 18/100\n",
            "94/94 [==============================] - 0s 2ms/step - loss: 0.4583 - accuracy: 0.7736\n",
            "Epoch 19/100\n",
            "94/94 [==============================] - 0s 2ms/step - loss: 0.4567 - accuracy: 0.7702\n",
            "Epoch 20/100\n",
            "94/94 [==============================] - 0s 2ms/step - loss: 0.4554 - accuracy: 0.7789\n",
            "Epoch 21/100\n",
            "94/94 [==============================] - 0s 2ms/step - loss: 0.4523 - accuracy: 0.7779\n",
            "Epoch 22/100\n",
            "94/94 [==============================] - 0s 2ms/step - loss: 0.4525 - accuracy: 0.7789\n",
            "Epoch 23/100\n",
            "94/94 [==============================] - 0s 2ms/step - loss: 0.4499 - accuracy: 0.7836\n",
            "Epoch 24/100\n",
            "94/94 [==============================] - 0s 2ms/step - loss: 0.4478 - accuracy: 0.7846\n",
            "Epoch 25/100\n",
            "94/94 [==============================] - 0s 1ms/step - loss: 0.4467 - accuracy: 0.7803\n",
            "Epoch 26/100\n",
            "94/94 [==============================] - 0s 1ms/step - loss: 0.4451 - accuracy: 0.7849\n",
            "Epoch 27/100\n",
            "94/94 [==============================] - 0s 2ms/step - loss: 0.4436 - accuracy: 0.7853\n",
            "Epoch 28/100\n",
            "94/94 [==============================] - 0s 2ms/step - loss: 0.4424 - accuracy: 0.7870\n",
            "Epoch 29/100\n",
            "94/94 [==============================] - 0s 2ms/step - loss: 0.4403 - accuracy: 0.7876\n",
            "Epoch 30/100\n",
            "94/94 [==============================] - 0s 1ms/step - loss: 0.4422 - accuracy: 0.7863\n",
            "Epoch 31/100\n",
            "94/94 [==============================] - 0s 2ms/step - loss: 0.4385 - accuracy: 0.7876\n",
            "Epoch 32/100\n",
            "94/94 [==============================] - 0s 2ms/step - loss: 0.4372 - accuracy: 0.7916\n",
            "Epoch 33/100\n",
            "94/94 [==============================] - 0s 2ms/step - loss: 0.4357 - accuracy: 0.7876\n",
            "Epoch 34/100\n",
            "94/94 [==============================] - 0s 2ms/step - loss: 0.4350 - accuracy: 0.7880\n",
            "Epoch 35/100\n",
            "94/94 [==============================] - 0s 2ms/step - loss: 0.4335 - accuracy: 0.7920\n",
            "Epoch 36/100\n",
            "94/94 [==============================] - 0s 2ms/step - loss: 0.4323 - accuracy: 0.7896\n",
            "Epoch 37/100\n",
            "94/94 [==============================] - 0s 2ms/step - loss: 0.4296 - accuracy: 0.7946\n",
            "Epoch 38/100\n",
            "94/94 [==============================] - 0s 1ms/step - loss: 0.4287 - accuracy: 0.7936\n",
            "Epoch 39/100\n",
            "94/94 [==============================] - 0s 2ms/step - loss: 0.4274 - accuracy: 0.7916\n",
            "Epoch 40/100\n",
            "94/94 [==============================] - 0s 2ms/step - loss: 0.4276 - accuracy: 0.7973\n",
            "Epoch 41/100\n",
            "94/94 [==============================] - 0s 2ms/step - loss: 0.4236 - accuracy: 0.7977\n",
            "Epoch 42/100\n",
            "94/94 [==============================] - 0s 2ms/step - loss: 0.4256 - accuracy: 0.7930\n",
            "Epoch 43/100\n",
            "94/94 [==============================] - 0s 2ms/step - loss: 0.4237 - accuracy: 0.7990\n",
            "Epoch 44/100\n",
            "94/94 [==============================] - 0s 2ms/step - loss: 0.4215 - accuracy: 0.8020\n",
            "Epoch 45/100\n",
            "94/94 [==============================] - 0s 2ms/step - loss: 0.4198 - accuracy: 0.7983\n",
            "Epoch 46/100\n",
            "94/94 [==============================] - 0s 2ms/step - loss: 0.4188 - accuracy: 0.8003\n",
            "Epoch 47/100\n",
            "94/94 [==============================] - 0s 2ms/step - loss: 0.4178 - accuracy: 0.8003\n",
            "Epoch 48/100\n",
            "94/94 [==============================] - 0s 2ms/step - loss: 0.4170 - accuracy: 0.8010\n",
            "Epoch 49/100\n",
            "94/94 [==============================] - 0s 2ms/step - loss: 0.4156 - accuracy: 0.8033\n",
            "Epoch 50/100\n",
            "94/94 [==============================] - 0s 1ms/step - loss: 0.4141 - accuracy: 0.8010\n",
            "Epoch 51/100\n",
            "94/94 [==============================] - 0s 2ms/step - loss: 0.4144 - accuracy: 0.8067\n",
            "Epoch 52/100\n",
            "94/94 [==============================] - 0s 1ms/step - loss: 0.4132 - accuracy: 0.8040\n",
            "Epoch 53/100\n",
            "94/94 [==============================] - 0s 2ms/step - loss: 0.4126 - accuracy: 0.8037\n",
            "Epoch 54/100\n",
            "94/94 [==============================] - 0s 2ms/step - loss: 0.4117 - accuracy: 0.8074\n",
            "Epoch 55/100\n",
            "94/94 [==============================] - 0s 1ms/step - loss: 0.4098 - accuracy: 0.8090\n",
            "Epoch 56/100\n",
            "94/94 [==============================] - 0s 2ms/step - loss: 0.4103 - accuracy: 0.8054\n",
            "Epoch 57/100\n",
            "94/94 [==============================] - 0s 2ms/step - loss: 0.4091 - accuracy: 0.8070\n",
            "Epoch 58/100\n",
            "94/94 [==============================] - 0s 1ms/step - loss: 0.4062 - accuracy: 0.8067\n",
            "Epoch 59/100\n",
            "94/94 [==============================] - 0s 2ms/step - loss: 0.4071 - accuracy: 0.8094\n",
            "Epoch 60/100\n",
            "94/94 [==============================] - 0s 2ms/step - loss: 0.4045 - accuracy: 0.8110\n",
            "Epoch 61/100\n",
            "94/94 [==============================] - 0s 2ms/step - loss: 0.4065 - accuracy: 0.8104\n",
            "Epoch 62/100\n",
            "94/94 [==============================] - 0s 2ms/step - loss: 0.4038 - accuracy: 0.8087\n",
            "Epoch 63/100\n",
            "94/94 [==============================] - 0s 1ms/step - loss: 0.4041 - accuracy: 0.8100\n",
            "Epoch 64/100\n",
            "94/94 [==============================] - 0s 2ms/step - loss: 0.4018 - accuracy: 0.8124\n",
            "Epoch 65/100\n",
            "94/94 [==============================] - 0s 2ms/step - loss: 0.4018 - accuracy: 0.8157\n",
            "Epoch 66/100\n",
            "94/94 [==============================] - 0s 2ms/step - loss: 0.4004 - accuracy: 0.8127\n",
            "Epoch 67/100\n",
            "94/94 [==============================] - 0s 1ms/step - loss: 0.3995 - accuracy: 0.8087\n",
            "Epoch 68/100\n",
            "94/94 [==============================] - 0s 2ms/step - loss: 0.4008 - accuracy: 0.8097\n",
            "Epoch 69/100\n",
            "94/94 [==============================] - 0s 2ms/step - loss: 0.3987 - accuracy: 0.8120\n",
            "Epoch 70/100\n",
            "94/94 [==============================] - 0s 2ms/step - loss: 0.3971 - accuracy: 0.8100\n",
            "Epoch 71/100\n",
            "94/94 [==============================] - 0s 2ms/step - loss: 0.3981 - accuracy: 0.8097\n",
            "Epoch 72/100\n",
            "94/94 [==============================] - 0s 2ms/step - loss: 0.3954 - accuracy: 0.8124\n",
            "Epoch 73/100\n",
            "94/94 [==============================] - 0s 2ms/step - loss: 0.3941 - accuracy: 0.8197\n",
            "Epoch 74/100\n",
            "94/94 [==============================] - 0s 2ms/step - loss: 0.3957 - accuracy: 0.8127\n",
            "Epoch 75/100\n",
            "94/94 [==============================] - 0s 2ms/step - loss: 0.3925 - accuracy: 0.8137\n",
            "Epoch 76/100\n",
            "94/94 [==============================] - 0s 2ms/step - loss: 0.3916 - accuracy: 0.8164\n",
            "Epoch 77/100\n",
            "94/94 [==============================] - 0s 1ms/step - loss: 0.3928 - accuracy: 0.8167\n",
            "Epoch 78/100\n",
            "94/94 [==============================] - 0s 1ms/step - loss: 0.3907 - accuracy: 0.8144\n",
            "Epoch 79/100\n",
            "94/94 [==============================] - 0s 2ms/step - loss: 0.3894 - accuracy: 0.8171\n",
            "Epoch 80/100\n",
            "94/94 [==============================] - 0s 2ms/step - loss: 0.3919 - accuracy: 0.8157\n",
            "Epoch 81/100\n",
            "94/94 [==============================] - 0s 2ms/step - loss: 0.3889 - accuracy: 0.8191\n",
            "Epoch 82/100\n",
            "94/94 [==============================] - 0s 1ms/step - loss: 0.3886 - accuracy: 0.8191\n",
            "Epoch 83/100\n",
            "94/94 [==============================] - 0s 1ms/step - loss: 0.3895 - accuracy: 0.8217\n",
            "Epoch 84/100\n",
            "94/94 [==============================] - 0s 2ms/step - loss: 0.3865 - accuracy: 0.8181\n",
            "Epoch 85/100\n",
            "94/94 [==============================] - 0s 2ms/step - loss: 0.3864 - accuracy: 0.8184\n",
            "Epoch 86/100\n",
            "94/94 [==============================] - 0s 2ms/step - loss: 0.3840 - accuracy: 0.8244\n",
            "Epoch 87/100\n",
            "94/94 [==============================] - 0s 2ms/step - loss: 0.3866 - accuracy: 0.8201\n",
            "Epoch 88/100\n",
            "94/94 [==============================] - 0s 2ms/step - loss: 0.3849 - accuracy: 0.8214\n",
            "Epoch 89/100\n",
            "94/94 [==============================] - 0s 1ms/step - loss: 0.3815 - accuracy: 0.8211\n",
            "Epoch 90/100\n",
            "94/94 [==============================] - 0s 2ms/step - loss: 0.3827 - accuracy: 0.8221\n",
            "Epoch 91/100\n",
            "94/94 [==============================] - 0s 2ms/step - loss: 0.3831 - accuracy: 0.8237\n",
            "Epoch 92/100\n",
            "94/94 [==============================] - 0s 2ms/step - loss: 0.3800 - accuracy: 0.8227\n",
            "Epoch 93/100\n",
            "94/94 [==============================] - 0s 1ms/step - loss: 0.3798 - accuracy: 0.8224\n",
            "Epoch 94/100\n",
            "94/94 [==============================] - 0s 2ms/step - loss: 0.3811 - accuracy: 0.8244\n",
            "Epoch 95/100\n",
            "94/94 [==============================] - 0s 2ms/step - loss: 0.3800 - accuracy: 0.8214\n",
            "Epoch 96/100\n",
            "94/94 [==============================] - 0s 2ms/step - loss: 0.3773 - accuracy: 0.8237\n",
            "Epoch 97/100\n",
            "94/94 [==============================] - 0s 2ms/step - loss: 0.3777 - accuracy: 0.8247\n",
            "Epoch 98/100\n",
            "94/94 [==============================] - 0s 2ms/step - loss: 0.3768 - accuracy: 0.8237\n",
            "Epoch 99/100\n",
            "94/94 [==============================] - 0s 2ms/step - loss: 0.3761 - accuracy: 0.8224\n",
            "Epoch 100/100\n",
            "94/94 [==============================] - 0s 2ms/step - loss: 0.3764 - accuracy: 0.8284\n",
            "44/44 [==============================] - 0s 1ms/step - loss: 0.5621 - accuracy: 0.7207\n",
            "[0.5621479153633118, 0.7206823229789734]\n",
            "Classification Report: \n",
            "               precision    recall  f1-score   support\n",
            "\n",
            "           0       0.87      0.73      0.79      1033\n",
            "           1       0.48      0.71      0.57       374\n",
            "\n",
            "    accuracy                           0.72      1407\n",
            "   macro avg       0.68      0.72      0.68      1407\n",
            "weighted avg       0.77      0.72      0.73      1407\n",
            "\n"
          ],
          "name": "stdout"
        }
      ]
    },
    {
      "cell_type": "code",
      "metadata": {
        "colab": {
          "base_uri": "https://localhost:8080/"
        },
        "id": "q7ynb0ZS4u43",
        "outputId": "243f719f-52bb-44e2-b22a-e31aac0545e6"
      },
      "source": [
        "X_train, y_train = get_train_batch(df3_class0, df3_class1, 2990, 4130)\n",
        "\n",
        "y_pred3 = ANN(X_train, y_train, X_test, y_test, 'binary_crossentropy', -1)"
      ],
      "execution_count": 169,
      "outputs": [
        {
          "output_type": "stream",
          "text": [
            "Epoch 1/100\n",
            "83/83 [==============================] - 1s 2ms/step - loss: 0.6031 - accuracy: 0.6858\n",
            "Epoch 2/100\n",
            "83/83 [==============================] - 0s 2ms/step - loss: 0.5226 - accuracy: 0.7609\n",
            "Epoch 3/100\n",
            "83/83 [==============================] - 0s 2ms/step - loss: 0.4970 - accuracy: 0.7624\n",
            "Epoch 4/100\n",
            "83/83 [==============================] - 0s 2ms/step - loss: 0.4854 - accuracy: 0.7674\n",
            "Epoch 5/100\n",
            "83/83 [==============================] - 0s 2ms/step - loss: 0.4785 - accuracy: 0.7681\n",
            "Epoch 6/100\n",
            "83/83 [==============================] - 0s 2ms/step - loss: 0.4742 - accuracy: 0.7761\n",
            "Epoch 7/100\n",
            "83/83 [==============================] - 0s 2ms/step - loss: 0.4709 - accuracy: 0.7738\n",
            "Epoch 8/100\n",
            "83/83 [==============================] - 0s 2ms/step - loss: 0.4687 - accuracy: 0.7746\n",
            "Epoch 9/100\n",
            "83/83 [==============================] - 0s 2ms/step - loss: 0.4666 - accuracy: 0.7822\n",
            "Epoch 10/100\n",
            "83/83 [==============================] - 0s 2ms/step - loss: 0.4663 - accuracy: 0.7871\n",
            "Epoch 11/100\n",
            "83/83 [==============================] - 0s 2ms/step - loss: 0.4642 - accuracy: 0.7787\n",
            "Epoch 12/100\n",
            "83/83 [==============================] - 0s 1ms/step - loss: 0.4613 - accuracy: 0.7841\n",
            "Epoch 13/100\n",
            "83/83 [==============================] - 0s 1ms/step - loss: 0.4580 - accuracy: 0.7822\n",
            "Epoch 14/100\n",
            "83/83 [==============================] - 0s 2ms/step - loss: 0.4575 - accuracy: 0.7886\n",
            "Epoch 15/100\n",
            "83/83 [==============================] - 0s 2ms/step - loss: 0.4550 - accuracy: 0.7886\n",
            "Epoch 16/100\n",
            "83/83 [==============================] - 0s 2ms/step - loss: 0.4556 - accuracy: 0.7924\n",
            "Epoch 17/100\n",
            "83/83 [==============================] - 0s 2ms/step - loss: 0.4532 - accuracy: 0.7901\n",
            "Epoch 18/100\n",
            "83/83 [==============================] - 0s 1ms/step - loss: 0.4515 - accuracy: 0.7947\n",
            "Epoch 19/100\n",
            "83/83 [==============================] - 0s 2ms/step - loss: 0.4502 - accuracy: 0.7917\n",
            "Epoch 20/100\n",
            "83/83 [==============================] - 0s 2ms/step - loss: 0.4491 - accuracy: 0.7920\n",
            "Epoch 21/100\n",
            "83/83 [==============================] - 0s 2ms/step - loss: 0.4470 - accuracy: 0.7943\n",
            "Epoch 22/100\n",
            "83/83 [==============================] - 0s 2ms/step - loss: 0.4454 - accuracy: 0.7977\n",
            "Epoch 23/100\n",
            "83/83 [==============================] - 0s 2ms/step - loss: 0.4458 - accuracy: 0.7954\n",
            "Epoch 24/100\n",
            "83/83 [==============================] - 0s 2ms/step - loss: 0.4435 - accuracy: 0.7951\n",
            "Epoch 25/100\n",
            "83/83 [==============================] - 0s 2ms/step - loss: 0.4429 - accuracy: 0.7973\n",
            "Epoch 26/100\n",
            "83/83 [==============================] - 0s 2ms/step - loss: 0.4396 - accuracy: 0.7970\n",
            "Epoch 27/100\n",
            "83/83 [==============================] - 0s 2ms/step - loss: 0.4393 - accuracy: 0.7943\n",
            "Epoch 28/100\n",
            "83/83 [==============================] - 0s 1ms/step - loss: 0.4375 - accuracy: 0.8004\n",
            "Epoch 29/100\n",
            "83/83 [==============================] - 0s 2ms/step - loss: 0.4367 - accuracy: 0.7962\n",
            "Epoch 30/100\n",
            "83/83 [==============================] - 0s 2ms/step - loss: 0.4346 - accuracy: 0.8008\n",
            "Epoch 31/100\n",
            "83/83 [==============================] - 0s 1ms/step - loss: 0.4326 - accuracy: 0.8015\n",
            "Epoch 32/100\n",
            "83/83 [==============================] - 0s 1ms/step - loss: 0.4308 - accuracy: 0.8053\n",
            "Epoch 33/100\n",
            "83/83 [==============================] - 0s 2ms/step - loss: 0.4303 - accuracy: 0.7992\n",
            "Epoch 34/100\n",
            "83/83 [==============================] - 0s 2ms/step - loss: 0.4300 - accuracy: 0.8015\n",
            "Epoch 35/100\n",
            "83/83 [==============================] - 0s 2ms/step - loss: 0.4284 - accuracy: 0.8065\n",
            "Epoch 36/100\n",
            "83/83 [==============================] - 0s 2ms/step - loss: 0.4261 - accuracy: 0.8027\n",
            "Epoch 37/100\n",
            "83/83 [==============================] - 0s 2ms/step - loss: 0.4248 - accuracy: 0.8076\n",
            "Epoch 38/100\n",
            "83/83 [==============================] - 0s 2ms/step - loss: 0.4261 - accuracy: 0.8019\n",
            "Epoch 39/100\n",
            "83/83 [==============================] - 0s 2ms/step - loss: 0.4230 - accuracy: 0.8049\n",
            "Epoch 40/100\n",
            "83/83 [==============================] - 0s 2ms/step - loss: 0.4233 - accuracy: 0.8023\n",
            "Epoch 41/100\n",
            "83/83 [==============================] - 0s 2ms/step - loss: 0.4204 - accuracy: 0.8072\n",
            "Epoch 42/100\n",
            "83/83 [==============================] - 0s 2ms/step - loss: 0.4192 - accuracy: 0.8121\n",
            "Epoch 43/100\n",
            "83/83 [==============================] - 0s 2ms/step - loss: 0.4174 - accuracy: 0.8083\n",
            "Epoch 44/100\n",
            "83/83 [==============================] - 0s 2ms/step - loss: 0.4164 - accuracy: 0.8076\n",
            "Epoch 45/100\n",
            "83/83 [==============================] - 0s 2ms/step - loss: 0.4179 - accuracy: 0.8034\n",
            "Epoch 46/100\n",
            "83/83 [==============================] - 0s 1ms/step - loss: 0.4165 - accuracy: 0.8137\n",
            "Epoch 47/100\n",
            "83/83 [==============================] - 0s 1ms/step - loss: 0.4132 - accuracy: 0.8121\n",
            "Epoch 48/100\n",
            "83/83 [==============================] - 0s 1ms/step - loss: 0.4123 - accuracy: 0.8118\n",
            "Epoch 49/100\n",
            "83/83 [==============================] - 0s 2ms/step - loss: 0.4119 - accuracy: 0.8102\n",
            "Epoch 50/100\n",
            "83/83 [==============================] - 0s 2ms/step - loss: 0.4113 - accuracy: 0.8083\n",
            "Epoch 51/100\n",
            "83/83 [==============================] - 0s 2ms/step - loss: 0.4105 - accuracy: 0.8110\n",
            "Epoch 52/100\n",
            "83/83 [==============================] - 0s 2ms/step - loss: 0.4092 - accuracy: 0.8144\n",
            "Epoch 53/100\n",
            "83/83 [==============================] - 0s 2ms/step - loss: 0.4058 - accuracy: 0.8159\n",
            "Epoch 54/100\n",
            "83/83 [==============================] - 0s 2ms/step - loss: 0.4058 - accuracy: 0.8110\n",
            "Epoch 55/100\n",
            "83/83 [==============================] - 0s 2ms/step - loss: 0.4059 - accuracy: 0.8110\n",
            "Epoch 56/100\n",
            "83/83 [==============================] - 0s 2ms/step - loss: 0.4041 - accuracy: 0.8102\n",
            "Epoch 57/100\n",
            "83/83 [==============================] - 0s 2ms/step - loss: 0.4027 - accuracy: 0.8148\n",
            "Epoch 58/100\n",
            "83/83 [==============================] - 0s 2ms/step - loss: 0.4050 - accuracy: 0.8171\n",
            "Epoch 59/100\n",
            "83/83 [==============================] - 0s 2ms/step - loss: 0.4028 - accuracy: 0.8152\n",
            "Epoch 60/100\n",
            "83/83 [==============================] - 0s 2ms/step - loss: 0.4021 - accuracy: 0.8137\n",
            "Epoch 61/100\n",
            "83/83 [==============================] - 0s 2ms/step - loss: 0.4000 - accuracy: 0.8190\n",
            "Epoch 62/100\n",
            "83/83 [==============================] - 0s 2ms/step - loss: 0.4007 - accuracy: 0.8182\n",
            "Epoch 63/100\n",
            "83/83 [==============================] - 0s 2ms/step - loss: 0.4001 - accuracy: 0.8152\n",
            "Epoch 64/100\n",
            "83/83 [==============================] - 0s 2ms/step - loss: 0.3984 - accuracy: 0.8178\n",
            "Epoch 65/100\n",
            "83/83 [==============================] - 0s 2ms/step - loss: 0.3965 - accuracy: 0.8163\n",
            "Epoch 66/100\n",
            "83/83 [==============================] - 0s 2ms/step - loss: 0.3960 - accuracy: 0.8182\n",
            "Epoch 67/100\n",
            "83/83 [==============================] - 0s 2ms/step - loss: 0.3947 - accuracy: 0.8175\n",
            "Epoch 68/100\n",
            "83/83 [==============================] - 0s 2ms/step - loss: 0.3949 - accuracy: 0.8178\n",
            "Epoch 69/100\n",
            "83/83 [==============================] - 0s 2ms/step - loss: 0.3923 - accuracy: 0.8224\n",
            "Epoch 70/100\n",
            "83/83 [==============================] - 0s 2ms/step - loss: 0.3916 - accuracy: 0.8209\n",
            "Epoch 71/100\n",
            "83/83 [==============================] - 0s 2ms/step - loss: 0.3920 - accuracy: 0.8190\n",
            "Epoch 72/100\n",
            "83/83 [==============================] - 0s 2ms/step - loss: 0.3917 - accuracy: 0.8269\n",
            "Epoch 73/100\n",
            "83/83 [==============================] - 0s 2ms/step - loss: 0.3908 - accuracy: 0.8213\n",
            "Epoch 74/100\n",
            "83/83 [==============================] - 0s 2ms/step - loss: 0.3893 - accuracy: 0.8182\n",
            "Epoch 75/100\n",
            "83/83 [==============================] - 0s 2ms/step - loss: 0.3878 - accuracy: 0.8224\n",
            "Epoch 76/100\n",
            "83/83 [==============================] - 0s 2ms/step - loss: 0.3895 - accuracy: 0.8228\n",
            "Epoch 77/100\n",
            "83/83 [==============================] - 0s 2ms/step - loss: 0.3876 - accuracy: 0.8254\n",
            "Epoch 78/100\n",
            "83/83 [==============================] - 0s 2ms/step - loss: 0.3862 - accuracy: 0.8224\n",
            "Epoch 79/100\n",
            "83/83 [==============================] - 0s 2ms/step - loss: 0.3888 - accuracy: 0.8243\n",
            "Epoch 80/100\n",
            "83/83 [==============================] - 0s 2ms/step - loss: 0.3855 - accuracy: 0.8243\n",
            "Epoch 81/100\n",
            "83/83 [==============================] - 0s 2ms/step - loss: 0.3824 - accuracy: 0.8247\n",
            "Epoch 82/100\n",
            "83/83 [==============================] - 0s 2ms/step - loss: 0.3823 - accuracy: 0.8266\n",
            "Epoch 83/100\n",
            "83/83 [==============================] - 0s 2ms/step - loss: 0.3809 - accuracy: 0.8285\n",
            "Epoch 84/100\n",
            "83/83 [==============================] - 0s 2ms/step - loss: 0.3808 - accuracy: 0.8307\n",
            "Epoch 85/100\n",
            "83/83 [==============================] - 0s 2ms/step - loss: 0.3804 - accuracy: 0.8262\n",
            "Epoch 86/100\n",
            "83/83 [==============================] - 0s 2ms/step - loss: 0.3804 - accuracy: 0.8281\n",
            "Epoch 87/100\n",
            "83/83 [==============================] - 0s 2ms/step - loss: 0.3793 - accuracy: 0.8243\n",
            "Epoch 88/100\n",
            "83/83 [==============================] - 0s 2ms/step - loss: 0.3782 - accuracy: 0.8330\n",
            "Epoch 89/100\n",
            "83/83 [==============================] - 0s 2ms/step - loss: 0.3758 - accuracy: 0.8304\n",
            "Epoch 90/100\n",
            "83/83 [==============================] - 0s 2ms/step - loss: 0.3757 - accuracy: 0.8323\n",
            "Epoch 91/100\n",
            "83/83 [==============================] - 0s 2ms/step - loss: 0.3776 - accuracy: 0.8353\n",
            "Epoch 92/100\n",
            "83/83 [==============================] - 0s 2ms/step - loss: 0.3757 - accuracy: 0.8296\n",
            "Epoch 93/100\n",
            "83/83 [==============================] - 0s 2ms/step - loss: 0.3746 - accuracy: 0.8311\n",
            "Epoch 94/100\n",
            "83/83 [==============================] - 0s 2ms/step - loss: 0.3732 - accuracy: 0.8323\n",
            "Epoch 95/100\n",
            "83/83 [==============================] - 0s 2ms/step - loss: 0.3717 - accuracy: 0.8345\n",
            "Epoch 96/100\n",
            "83/83 [==============================] - 0s 2ms/step - loss: 0.3714 - accuracy: 0.8315\n",
            "Epoch 97/100\n",
            "83/83 [==============================] - 0s 2ms/step - loss: 0.3699 - accuracy: 0.8304\n",
            "Epoch 98/100\n",
            "83/83 [==============================] - 0s 2ms/step - loss: 0.3696 - accuracy: 0.8342\n",
            "Epoch 99/100\n",
            "83/83 [==============================] - 0s 2ms/step - loss: 0.3703 - accuracy: 0.8372\n",
            "Epoch 100/100\n",
            "83/83 [==============================] - 0s 2ms/step - loss: 0.3683 - accuracy: 0.8345\n",
            "44/44 [==============================] - 0s 1ms/step - loss: 0.6525 - accuracy: 0.6759\n",
            "[0.6525222659111023, 0.6759061813354492]\n",
            "Classification Report: \n",
            "               precision    recall  f1-score   support\n",
            "\n",
            "           0       0.90      0.63      0.74      1033\n",
            "           1       0.44      0.80      0.57       374\n",
            "\n",
            "    accuracy                           0.68      1407\n",
            "   macro avg       0.67      0.72      0.65      1407\n",
            "weighted avg       0.78      0.68      0.69      1407\n",
            "\n"
          ],
          "name": "stdout"
        }
      ]
    },
    {
      "cell_type": "code",
      "metadata": {
        "colab": {
          "base_uri": "https://localhost:8080/"
        },
        "id": "bcrL9jaq4ysa",
        "outputId": "17f1a9b5-beba-47cb-80d7-1d2b0ef02383"
      },
      "source": [
        "len(y_pred1)"
      ],
      "execution_count": 170,
      "outputs": [
        {
          "output_type": "execute_result",
          "data": {
            "text/plain": [
              "1407"
            ]
          },
          "metadata": {
            "tags": []
          },
          "execution_count": 170
        }
      ]
    },
    {
      "cell_type": "code",
      "metadata": {
        "id": "f6dMcvas43A4"
      },
      "source": [
        "y_pred_final = y_pred1.copy()\n",
        "for i in range(len(y_pred1)):\n",
        "    n_ones = y_pred1[i] + y_pred2[i] + y_pred3[i]\n",
        "    if n_ones>1:\n",
        "        y_pred_final[i] = 1\n",
        "    else:\n",
        "        y_pred_final[i] = 0"
      ],
      "execution_count": 171,
      "outputs": []
    },
    {
      "cell_type": "code",
      "metadata": {
        "colab": {
          "base_uri": "https://localhost:8080/"
        },
        "id": "YfWekM6a46mi",
        "outputId": "0384c602-0dd0-4bd8-8b07-937341408e7a"
      },
      "source": [
        "cl_rep = classification_report(y_test, y_pred_final)\n",
        "print(cl_rep)"
      ],
      "execution_count": 172,
      "outputs": [
        {
          "output_type": "stream",
          "text": [
            "              precision    recall  f1-score   support\n",
            "\n",
            "           0       0.90      0.68      0.77      1033\n",
            "           1       0.47      0.79      0.59       374\n",
            "\n",
            "    accuracy                           0.71      1407\n",
            "   macro avg       0.69      0.74      0.68      1407\n",
            "weighted avg       0.79      0.71      0.73      1407\n",
            "\n"
          ],
          "name": "stdout"
        }
      ]
    },
    {
      "cell_type": "markdown",
      "metadata": {
        "id": "o8XYm5Hy5AhV"
      },
      "source": [
        "f1-score for minority class 1 improved to 0.59 from 0.56. The score for majority class 0 is suffering and reduced to 0.77 from 0.85 but at least there is some balance in terms of prediction accuracy across two classes"
      ]
    },
    {
      "cell_type": "code",
      "metadata": {
        "id": "W5k4nmVG48sT"
      },
      "source": [
        ""
      ],
      "execution_count": null,
      "outputs": []
    }
  ]
}